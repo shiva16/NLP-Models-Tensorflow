{
 "cells": [
  {
   "cell_type": "code",
   "execution_count": 1,
   "metadata": {},
   "outputs": [],
   "source": [
    "import tensorflow as tf\n",
    "import numpy as np\n",
    "import time\n",
    "import os\n",
    "import re\n",
    "import collections\n",
    "import random\n",
    "import pickle"
   ]
  },
  {
   "cell_type": "code",
   "execution_count": 2,
   "metadata": {},
   "outputs": [],
   "source": [
    "maxlen = 20\n",
    "location = os.getcwd()\n",
    "learning_rate = 0.0001\n",
    "batch = 100"
   ]
  },
  {
   "cell_type": "code",
   "execution_count": 3,
   "metadata": {},
   "outputs": [],
   "source": [
    "with open('dataset-emotion.p', 'rb') as fopen:\n",
    "    df = pickle.load(fopen)\n",
    "with open('vector-emotion.p', 'rb') as fopen:\n",
    "    vectors = pickle.load(fopen)\n",
    "with open('dataset-dictionary.p', 'rb') as fopen:\n",
    "    dictionary = pickle.load(fopen)"
   ]
  },
  {
   "cell_type": "code",
   "execution_count": 4,
   "metadata": {},
   "outputs": [
    {
     "name": "stderr",
     "output_type": "stream",
     "text": [
      "/usr/local/lib/python3.5/dist-packages/sklearn/cross_validation.py:41: DeprecationWarning: This module was deprecated in version 0.18 in favor of the model_selection module into which all the refactored classes and functions are moved. Also note that the interface of the new CV iterators are different from that of this module. This module will be removed in 0.20.\n",
      "  \"This module will be removed in 0.20.\", DeprecationWarning)\n"
     ]
    }
   ],
   "source": [
    "label = np.unique(df[:,1])\n",
    "from sklearn.cross_validation import train_test_split\n",
    "train_X, test_X, train_Y, test_Y = train_test_split(df[:,0], df[:, 1].astype('int'), test_size = 0.2)"
   ]
  },
  {
   "cell_type": "code",
   "execution_count": 7,
   "metadata": {},
   "outputs": [],
   "source": [
    "def add_conv1d(x, n_filters, kernel_size, strides=1):\n",
    "    return tf.layers.conv1d(inputs = x,\n",
    "                            filters = n_filters,\n",
    "                            kernel_size  = kernel_size,\n",
    "                            strides = strides,\n",
    "                            padding = 'valid',\n",
    "                            use_bias = True,\n",
    "                            activation = tf.nn.relu)\n",
    "\n",
    "class Model:\n",
    "    def __init__(self, seq_len, dimension_input, dimension_output, learning_rate,\n",
    "                 top_k=5, n_filters=250):\n",
    "        self.n_filters = n_filters\n",
    "        self.kernels = [3, 4, 5]\n",
    "        self.top_k = top_k\n",
    "        self.X = tf.placeholder(tf.float32, [None, seq_len, dimension_input])\n",
    "        self.Y = tf.placeholder(tf.float32, [None, dimension_output])\n",
    "        parallels = []\n",
    "        for k in self.kernels:\n",
    "            p = add_conv1d(self.X, self.n_filters//len(self.kernels), kernel_size=k)\n",
    "            p = self.add_kmax_pooling(p)\n",
    "            parallels.append(p)\n",
    "        parallels = tf.concat(parallels, axis=-1)\n",
    "        parallels = tf.reshape(parallels, [-1, self.top_k * (len(self.kernels)*(self.n_filters//len(self.kernels)))])\n",
    "        feed = tf.nn.dropout(tf.layers.dense(parallels, self.n_filters, tf.nn.relu), 0.5)\n",
    "        self.logits = tf.layers.dense(parallels, dimension_output)\n",
    "        self.cost = tf.reduce_mean(tf.nn.softmax_cross_entropy_with_logits(logits = self.logits, labels = self.Y))\n",
    "        self.optimizer = tf.train.AdamOptimizer(learning_rate = learning_rate).minimize(self.cost)\n",
    "        self.correct_pred = tf.equal(tf.argmax(self.logits, 1), tf.argmax(self.Y, 1))\n",
    "        self.accuracy = tf.reduce_mean(tf.cast(self.correct_pred, tf.float32))\n",
    "        \n",
    "    def add_kmax_pooling(self, x):\n",
    "        Y = tf.transpose(x, [0, 2, 1])\n",
    "        Y = tf.nn.top_k(Y, self.top_k, sorted=False).values\n",
    "        Y = tf.transpose(Y, [0, 2, 1])\n",
    "        return tf.reshape(Y, [-1, self.top_k, self.n_filters//len(self.kernels)])"
   ]
  },
  {
   "cell_type": "code",
   "execution_count": 8,
   "metadata": {},
   "outputs": [
    {
     "name": "stdout",
     "output_type": "stream",
     "text": [
      "epoch: 0 , pass acc: 0 , current acc: 0.7892557016226137\n",
      "time taken: 804.0231313705444\n",
      "epoch: 1 , training loss: 1.0405448560916384 , training acc: 0.6323185358431144 , valid loss: 0.656854874625498 , valid acc: 0.7892557016226137\n",
      "epoch: 1 , pass acc: 0.7892557016226137 , current acc: 0.8698919552857993\n",
      "time taken: 1351.138239622116\n",
      "epoch: 2 , training loss: 0.49731766012395007 , training acc: 0.8376664650890737 , valid loss: 0.3876018189475173 , valid acc: 0.8698919552857993\n",
      "epoch: 2 , pass acc: 0.8698919552857993 , current acc: 0.8877310929607515\n",
      "time taken: 797.2636046409607\n",
      "epoch: 3 , training loss: 0.32868029959343403 , training acc: 0.8840131976680263 , valid loss: 0.29582717079146 , valid acc: 0.8877310929607515\n",
      "epoch: 3 , pass acc: 0.8877310929607515 , current acc: 0.8923889563149479\n",
      "time taken: 796.8685095310211\n",
      "epoch: 4 , training loss: 0.2662454009073969 , training acc: 0.897600480930206 , valid loss: 0.2612088197240738 , valid acc: 0.8923889563149479\n",
      "epoch: 4 , pass acc: 0.8923889563149479 , current acc: 0.8929891963394321\n",
      "time taken: 796.6610190868378\n",
      "epoch: 5 , training loss: 0.2372481707320395 , training acc: 0.903623276366112 , valid loss: 0.24514047085952645 , valid acc: 0.8929891963394321\n",
      "time taken: 796.6961421966553\n",
      "epoch: 6 , training loss: 0.2200671689206065 , training acc: 0.9078434326009401 , valid loss: 0.23638642628510603 , valid acc: 0.8929531825404493\n",
      "time taken: 796.8826093673706\n",
      "epoch: 7 , training loss: 0.208123647843068 , training acc: 0.9109748064863803 , valid loss: 0.23125186870221187 , valid acc: 0.8921848746622596\n",
      "time taken: 796.6506168842316\n",
      "epoch: 8 , training loss: 0.1989910382337211 , training acc: 0.913800241654693 , valid loss: 0.22816874272003324 , valid acc: 0.8910564236423405\n",
      "time taken: 796.6401255130768\n",
      "epoch: 9 , training loss: 0.19156466832302899 , training acc: 0.9160467918825922 , valid loss: 0.2263157782094533 , valid acc: 0.8905642268752136\n",
      "time taken: 797.0528984069824\n",
      "epoch: 10 , training loss: 0.18526453343144633 , training acc: 0.9180743866468806 , valid loss: 0.22532645118336717 , valid acc: 0.8898079237159418\n",
      "time taken: 796.5553665161133\n",
      "epoch: 11 , training loss: 0.17975202326042142 , training acc: 0.9200539908047272 , valid loss: 0.2249716002435959 , valid acc: 0.8891716691053787\n",
      "time taken: 796.8624227046967\n",
      "epoch: 12 , training loss: 0.17481807256972245 , training acc: 0.9217726472758503 , valid loss: 0.22506386032696962 , valid acc: 0.8884753898269131\n",
      "time taken: 796.3765687942505\n",
      "epoch: 13 , training loss: 0.1703198642571064 , training acc: 0.9236472719754011 , valid loss: 0.22551165249238925 , valid acc: 0.8876230493456233\n",
      "time taken: 796.4298026561737\n",
      "epoch: 14 , training loss: 0.1661635103474031 , training acc: 0.9251289759557549 , valid loss: 0.22629864114959414 , valid acc: 0.8869867948066144\n",
      "time taken: 796.5306029319763\n",
      "epoch: 15 , training loss: 0.16230329809499203 , training acc: 0.92655968966424 , valid loss: 0.2273115130747352 , valid acc: 0.8860024001274933\n",
      "break epoch: 15\n"
     ]
    }
   ],
   "source": [
    "tf.reset_default_graph()\n",
    "sess = tf.InteractiveSession()\n",
    "model = Model(maxlen, vectors.shape[1], label.shape[0], learning_rate)\n",
    "sess.run(tf.global_variables_initializer())\n",
    "dimension = vectors.shape[1]\n",
    "saver = tf.train.Saver(tf.global_variables())\n",
    "EARLY_STOPPING, CURRENT_CHECKPOINT, CURRENT_ACC, EPOCH = 10, 0, 0, 0\n",
    "while True:\n",
    "    lasttime = time.time()\n",
    "    if CURRENT_CHECKPOINT == EARLY_STOPPING:\n",
    "        print('break epoch:', EPOCH)\n",
    "        break\n",
    "    train_acc, train_loss, test_acc, test_loss = 0, 0, 0, 0\n",
    "    for i in range(0, (train_X.shape[0] // batch) * batch, batch):\n",
    "        batch_x = np.zeros((batch, maxlen, dimension))\n",
    "        batch_y = np.zeros((batch, len(label)))\n",
    "        for k in range(batch):\n",
    "            tokens = train_X[i + k].split()[:maxlen]\n",
    "            emb_data = np.zeros((maxlen, dimension), dtype = np.float32)\n",
    "            for no, text in enumerate(tokens[::-1]):\n",
    "                try:\n",
    "                    emb_data[-1 - no, :] += vectors[dictionary[text], :]\n",
    "                except Exception as e:\n",
    "                    print(e)\n",
    "                    continue\n",
    "            batch_y[k, int(train_Y[i + k])] = 1.0\n",
    "            batch_x[k, :, :] = emb_data[:, :]\n",
    "        loss, _ = sess.run([model.cost, model.optimizer], feed_dict = {model.X : batch_x, model.Y : batch_y})\n",
    "        train_loss += loss\n",
    "        train_acc += sess.run(model.accuracy, feed_dict = {model.X : batch_x, model.Y : batch_y})\n",
    "    \n",
    "    for i in range(0, (test_X.shape[0] // batch) * batch, batch):\n",
    "        batch_x = np.zeros((batch, maxlen, dimension))\n",
    "        batch_y = np.zeros((batch, len(label)))\n",
    "        for k in range(batch):\n",
    "            tokens = test_X[i + k].split()[:maxlen]\n",
    "            emb_data = np.zeros((maxlen, dimension), dtype = np.float32)\n",
    "            for no, text in enumerate(tokens[::-1]):\n",
    "                try:\n",
    "                    emb_data[-1 - no, :] += vectors[dictionary[text], :]\n",
    "                except:\n",
    "                    continue\n",
    "            batch_y[k, int(test_Y[i + k])] = 1.0\n",
    "            batch_x[k, :, :] = emb_data[:, :]\n",
    "        loss, acc = sess.run([model.cost, model.accuracy], feed_dict = {model.X : batch_x, model.Y : batch_y})\n",
    "        test_loss += loss\n",
    "        test_acc += acc\n",
    "        \n",
    "    train_loss /= (train_X.shape[0] // batch)\n",
    "    train_acc /= (train_X.shape[0] // batch)\n",
    "    test_loss /= (test_X.shape[0] // batch)\n",
    "    test_acc /= (test_X.shape[0] // batch)\n",
    "    if test_acc > CURRENT_ACC:\n",
    "        print('epoch:', EPOCH, ', pass acc:', CURRENT_ACC, ', current acc:', test_acc)\n",
    "        CURRENT_ACC = test_acc\n",
    "        CURRENT_CHECKPOINT = 0\n",
    "        saver.save(sess, os.getcwd() + \"/model-rnn-vector.ckpt\")\n",
    "    else:\n",
    "        CURRENT_CHECKPOINT += 1\n",
    "    EPOCH += 1\n",
    "    print('time taken:', time.time()-lasttime)\n",
    "    print('epoch:', EPOCH, ', training loss:', train_loss, ', training acc:', train_acc, ', valid loss:', test_loss, ', valid acc:', test_acc)"
   ]
  },
  {
   "cell_type": "code",
   "execution_count": null,
   "metadata": {},
   "outputs": [],
   "source": []
  }
 ],
 "metadata": {
  "kernelspec": {
   "display_name": "Python 3",
   "language": "python",
   "name": "python3"
  },
  "language_info": {
   "codemirror_mode": {
    "name": "ipython",
    "version": 3
   },
   "file_extension": ".py",
   "mimetype": "text/x-python",
   "name": "python",
   "nbconvert_exporter": "python",
   "pygments_lexer": "ipython3",
   "version": "3.5.2"
  }
 },
 "nbformat": 4,
 "nbformat_minor": 2
}
