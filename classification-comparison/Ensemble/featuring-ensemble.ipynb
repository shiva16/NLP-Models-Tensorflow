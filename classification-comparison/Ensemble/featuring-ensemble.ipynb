{
 "cells": [
  {
   "cell_type": "code",
   "execution_count": 1,
   "metadata": {
    "collapsed": true
   },
   "outputs": [],
   "source": [
    "import numpy as np\n",
    "import pandas as pd\n",
    "import matplotlib.pyplot as plt\n",
    "import seaborn as sns\n",
    "import nltk\n",
    "from nltk.corpus import stopwords\n",
    "import string\n",
    "import xgboost as xgb\n",
    "from sklearn.feature_extraction.text import TfidfVectorizer, CountVectorizer\n",
    "from sklearn.decomposition import TruncatedSVD\n",
    "from sklearn import ensemble, metrics, model_selection, naive_bayes\n",
    "import spacy\n",
    "color = sns.color_palette()\n",
    "\n",
    "%matplotlib inline\n",
    "\n",
    "eng_stopwords = set(stopwords.words(\"english\"))\n",
    "pd.options.mode.chained_assignment = None\n",
    "nlp = spacy.load('en_core_web_sm')"
   ]
  },
  {
   "cell_type": "code",
   "execution_count": 2,
   "metadata": {
    "collapsed": true
   },
   "outputs": [],
   "source": [
    "import sklearn.datasets\n",
    "import re\n",
    "def clearstring(string):\n",
    "    string = re.sub('[^A-Za-z ]+', '', string)\n",
    "    string = string.split(' ')\n",
    "    string = filter(None, string)\n",
    "    string = [y.strip() for y in string]\n",
    "    string = ' '.join(string)\n",
    "    return string.lower()\n",
    "\n",
    "def separate_dataset(trainset):\n",
    "    datastring = []\n",
    "    datatarget = []\n",
    "    for i in range(len(trainset.data)):\n",
    "        data_ = trainset.data[i].split('\\n')\n",
    "        data_ = list(filter(None, data_))\n",
    "        for n in range(len(data_)):\n",
    "            data_[n] = clearstring(data_[n])\n",
    "        datastring += data_\n",
    "        for n in range(len(data_)):\n",
    "            datatarget.append(trainset.target[i])\n",
    "    return datastring, datatarget"
   ]
  },
  {
   "cell_type": "code",
   "execution_count": 3,
   "metadata": {},
   "outputs": [
    {
     "name": "stdout",
     "output_type": "stream",
     "text": [
      "['anger', 'fear', 'joy', 'love', 'sadness', 'surprise']\n",
      "416809\n",
      "416809\n"
     ]
    }
   ],
   "source": [
    "import random\n",
    "trainset = sklearn.datasets.load_files(container_path = 'data', encoding = 'UTF-8')\n",
    "trainset.data, trainset.target = separate_dataset(trainset)\n",
    "combined = list(zip(trainset.data, trainset.target))\n",
    "random.shuffle(combined)\n",
    "trainset.data[:], trainset.target[:] = zip(*combined)\n",
    "print (trainset.target_names)\n",
    "print (len(trainset.data))\n",
    "print (len(trainset.target))"
   ]
  },
  {
   "cell_type": "code",
   "execution_count": 4,
   "metadata": {},
   "outputs": [],
   "source": [
    "df = pd.DataFrame({'text':trainset.data, 'label':trainset.target})\n",
    "\n",
    "df[\"num_words\"] = df[\"text\"].apply(lambda x: len(str(x).split()))\n",
    "\n",
    "df[\"num_unique_words\"] = df[\"text\"].apply(lambda x: len(set(str(x).split())))\n",
    "\n",
    "df[\"num_chars\"] = df[\"text\"].apply(lambda x: len(str(x)))\n",
    "\n",
    "df[\"num_stopwords\"] = df[\"text\"].apply(lambda x: len([w for w in str(x).lower().split() if w in eng_stopwords]))\n",
    "\n",
    "df[\"mean_word_len\"] = df[\"text\"].apply(lambda x: np.mean([len(w) for w in str(x).split()]))"
   ]
  },
  {
   "cell_type": "code",
   "execution_count": 5,
   "metadata": {},
   "outputs": [
    {
     "name": "stdout",
     "output_type": "stream",
     "text": [
      "(333447, 7)\n",
      "(83362, 7)\n"
     ]
    }
   ],
   "source": [
    "df_train = df.iloc[:int(df.shape[0] * 0.8),:]\n",
    "df_test = df.iloc[int(df.shape[0] * 0.8):,:]\n",
    "df_test = df_test.reset_index()\n",
    "df_test = df_test.iloc[:,1:]\n",
    "print(df_train.shape)\n",
    "print(df_test.shape)"
   ]
  },
  {
   "cell_type": "code",
   "execution_count": 6,
   "metadata": {},
   "outputs": [
    {
     "name": "stderr",
     "output_type": "stream",
     "text": [
      "Will train until validation_0 error hasn't decreased in 20 rounds.\n",
      "[0]\tvalidation_0-mlogloss:1.765842\n",
      "[1]\tvalidation_0-mlogloss:1.743241\n",
      "[2]\tvalidation_0-mlogloss:1.723464\n",
      "[3]\tvalidation_0-mlogloss:1.706175\n",
      "[4]\tvalidation_0-mlogloss:1.690923\n",
      "[5]\tvalidation_0-mlogloss:1.677473\n",
      "[6]\tvalidation_0-mlogloss:1.665609\n",
      "[7]\tvalidation_0-mlogloss:1.655104\n",
      "[8]\tvalidation_0-mlogloss:1.645764\n",
      "[9]\tvalidation_0-mlogloss:1.637449\n",
      "[10]\tvalidation_0-mlogloss:1.630069\n",
      "[11]\tvalidation_0-mlogloss:1.623521\n",
      "[12]\tvalidation_0-mlogloss:1.617647\n",
      "[13]\tvalidation_0-mlogloss:1.612393\n",
      "[14]\tvalidation_0-mlogloss:1.607701\n",
      "[15]\tvalidation_0-mlogloss:1.603477\n",
      "[16]\tvalidation_0-mlogloss:1.599714\n",
      "[17]\tvalidation_0-mlogloss:1.596340\n",
      "[18]\tvalidation_0-mlogloss:1.593318\n",
      "[19]\tvalidation_0-mlogloss:1.590606\n",
      "[20]\tvalidation_0-mlogloss:1.588183\n",
      "[21]\tvalidation_0-mlogloss:1.586002\n",
      "[22]\tvalidation_0-mlogloss:1.584055\n",
      "[23]\tvalidation_0-mlogloss:1.582290\n",
      "[24]\tvalidation_0-mlogloss:1.580728\n",
      "[25]\tvalidation_0-mlogloss:1.579292\n",
      "[26]\tvalidation_0-mlogloss:1.578020\n",
      "[27]\tvalidation_0-mlogloss:1.576865\n",
      "[28]\tvalidation_0-mlogloss:1.575836\n",
      "[29]\tvalidation_0-mlogloss:1.574898\n",
      "[30]\tvalidation_0-mlogloss:1.574043\n",
      "[31]\tvalidation_0-mlogloss:1.573290\n",
      "[32]\tvalidation_0-mlogloss:1.572614\n",
      "[33]\tvalidation_0-mlogloss:1.571994\n",
      "[34]\tvalidation_0-mlogloss:1.571454\n",
      "[35]\tvalidation_0-mlogloss:1.570964\n",
      "[36]\tvalidation_0-mlogloss:1.570516\n",
      "[37]\tvalidation_0-mlogloss:1.570126\n",
      "[38]\tvalidation_0-mlogloss:1.569765\n",
      "[39]\tvalidation_0-mlogloss:1.569441\n",
      "[40]\tvalidation_0-mlogloss:1.569144\n",
      "[41]\tvalidation_0-mlogloss:1.568862\n",
      "[42]\tvalidation_0-mlogloss:1.568626\n",
      "[43]\tvalidation_0-mlogloss:1.568417\n",
      "[44]\tvalidation_0-mlogloss:1.568230\n",
      "[45]\tvalidation_0-mlogloss:1.568058\n",
      "[46]\tvalidation_0-mlogloss:1.567902\n",
      "[47]\tvalidation_0-mlogloss:1.567769\n",
      "[48]\tvalidation_0-mlogloss:1.567641\n",
      "[49]\tvalidation_0-mlogloss:1.567536\n",
      "[50]\tvalidation_0-mlogloss:1.567417\n",
      "[51]\tvalidation_0-mlogloss:1.567325\n",
      "[52]\tvalidation_0-mlogloss:1.567238\n",
      "[53]\tvalidation_0-mlogloss:1.567158\n",
      "[54]\tvalidation_0-mlogloss:1.567095\n",
      "[55]\tvalidation_0-mlogloss:1.567017\n",
      "[56]\tvalidation_0-mlogloss:1.566958\n",
      "[57]\tvalidation_0-mlogloss:1.566918\n",
      "[58]\tvalidation_0-mlogloss:1.566873\n",
      "[59]\tvalidation_0-mlogloss:1.566840\n",
      "[60]\tvalidation_0-mlogloss:1.566800\n",
      "[61]\tvalidation_0-mlogloss:1.566777\n",
      "[62]\tvalidation_0-mlogloss:1.566743\n",
      "[63]\tvalidation_0-mlogloss:1.566707\n",
      "[64]\tvalidation_0-mlogloss:1.566680\n",
      "[65]\tvalidation_0-mlogloss:1.566660\n",
      "[66]\tvalidation_0-mlogloss:1.566645\n",
      "[67]\tvalidation_0-mlogloss:1.566636\n",
      "[68]\tvalidation_0-mlogloss:1.566620\n",
      "[69]\tvalidation_0-mlogloss:1.566596\n",
      "[70]\tvalidation_0-mlogloss:1.566580\n",
      "[71]\tvalidation_0-mlogloss:1.566561\n",
      "[72]\tvalidation_0-mlogloss:1.566555\n",
      "[73]\tvalidation_0-mlogloss:1.566531\n",
      "[74]\tvalidation_0-mlogloss:1.566530\n",
      "[75]\tvalidation_0-mlogloss:1.566519\n",
      "[76]\tvalidation_0-mlogloss:1.566519\n",
      "[77]\tvalidation_0-mlogloss:1.566507\n",
      "[78]\tvalidation_0-mlogloss:1.566506\n",
      "[79]\tvalidation_0-mlogloss:1.566498\n",
      "[80]\tvalidation_0-mlogloss:1.566503\n",
      "[81]\tvalidation_0-mlogloss:1.566493\n",
      "[82]\tvalidation_0-mlogloss:1.566494\n",
      "[83]\tvalidation_0-mlogloss:1.566490\n",
      "[84]\tvalidation_0-mlogloss:1.566491\n",
      "[85]\tvalidation_0-mlogloss:1.566495\n",
      "[86]\tvalidation_0-mlogloss:1.566491\n",
      "[87]\tvalidation_0-mlogloss:1.566486\n",
      "[88]\tvalidation_0-mlogloss:1.566470\n",
      "[89]\tvalidation_0-mlogloss:1.566471\n",
      "[90]\tvalidation_0-mlogloss:1.566457\n",
      "[91]\tvalidation_0-mlogloss:1.566463\n",
      "[92]\tvalidation_0-mlogloss:1.566458\n",
      "[93]\tvalidation_0-mlogloss:1.566456\n",
      "[94]\tvalidation_0-mlogloss:1.566447\n",
      "[95]\tvalidation_0-mlogloss:1.566445\n",
      "[96]\tvalidation_0-mlogloss:1.566438\n",
      "[97]\tvalidation_0-mlogloss:1.566432\n",
      "[98]\tvalidation_0-mlogloss:1.566417\n",
      "[99]\tvalidation_0-mlogloss:1.566424\n"
     ]
    },
    {
     "data": {
      "text/plain": [
       "XGBClassifier(base_score=0.5, colsample_bylevel=1, colsample_bytree=1,\n",
       "       gamma=0, learning_rate=0.1, max_delta_step=0, max_depth=3,\n",
       "       min_child_weight=1, missing=None, n_estimators=100, nthread=-1,\n",
       "       objective='multi:softprob', reg_alpha=0, reg_lambda=1,\n",
       "       scale_pos_weight=1, seed=0, silent=1, subsample=0.8)"
      ]
     },
     "execution_count": 6,
     "metadata": {},
     "output_type": "execute_result"
    }
   ],
   "source": [
    "param = {}\n",
    "param['objective'] = 'multi:softprob'\n",
    "param['learning_rate'] = 0.1\n",
    "param['max_depth'] = 3\n",
    "param['silent'] = 1\n",
    "param['subsample'] = 0.8\n",
    "feature_clf = xgb.XGBClassifier(**param)\n",
    "train_X = df_train.iloc[:, 2:]\n",
    "train_Y = df_train.iloc[:, 0]\n",
    "test_X = df_test.iloc[:, 2:]\n",
    "test_Y = df_test.iloc[:, 0]\n",
    "feature_clf.fit(train_X,train_Y, eval_set=[(test_X,test_Y)], \n",
    "        eval_metric='mlogloss', early_stopping_rounds=20, verbose=True)"
   ]
  },
  {
   "cell_type": "code",
   "execution_count": 7,
   "metadata": {},
   "outputs": [
    {
     "name": "stdout",
     "output_type": "stream",
     "text": [
      "accuracy validation set:  0.347160576762\n",
      "             precision    recall  f1-score   support\n",
      "\n",
      "      anger       0.38      0.00      0.00     11246\n",
      "       fear       0.50      0.00      0.00      9642\n",
      "        joy       0.35      0.85      0.49     28334\n",
      "       love       0.00      0.00      0.00      6876\n",
      "    sadness       0.34      0.20      0.25     24260\n",
      "   surprise       0.00      0.00      0.00      3004\n",
      "\n",
      "avg / total       0.33      0.35      0.24     83362\n",
      "\n"
     ]
    },
    {
     "name": "stderr",
     "output_type": "stream",
     "text": [
      "/usr/local/lib/python3.5/dist-packages/sklearn/metrics/classification.py:1135: UndefinedMetricWarning: Precision and F-score are ill-defined and being set to 0.0 in labels with no predicted samples.\n",
      "  'precision', 'predicted', average, warn_for)\n"
     ]
    }
   ],
   "source": [
    "from sklearn import metrics\n",
    "predicted = feature_clf.predict(test_X)\n",
    "print('accuracy validation set: ', np.mean(predicted == test_Y))\n",
    "print(metrics.classification_report(test_Y, predicted, target_names = trainset.target_names))"
   ]
  },
  {
   "cell_type": "code",
   "execution_count": 8,
   "metadata": {},
   "outputs": [
    {
     "data": {
      "image/png": "[encoded data removed]",
      "text/plain": [
       "<matplotlib.figure.Figure at 0x7f9ed224fe10>"
      ]
     },
     "metadata": {},
     "output_type": "display_data"
    }
   ],
   "source": [
    "fig, ax = plt.subplots(figsize=(6, 6))\n",
    "xgb.plot_importance(feature_clf, height=0.8, ax=ax)\n",
    "plt.show()"
   ]
  },
  {
   "cell_type": "code",
   "execution_count": 9,
   "metadata": {
    "collapsed": true
   },
   "outputs": [],
   "source": [
    "tfidf_vec = TfidfVectorizer(stop_words='english', ngram_range=(1,3))\n",
    "tfidf = tfidf_vec.fit_transform(df.text)\n",
    "tfidf_train = tfidf_vec.transform(df_train.text)\n",
    "tfidf_test = tfidf_vec.transform(df_test.text)"
   ]
  },
  {
   "cell_type": "code",
   "execution_count": 10,
   "metadata": {},
   "outputs": [
    {
     "name": "stdout",
     "output_type": "stream",
     "text": [
      "             precision    recall  f1-score   support\n",
      "\n",
      "      anger       0.93      0.42      0.58     11246\n",
      "       fear       0.86      0.32      0.47      9642\n",
      "        joy       0.63      0.99      0.77     28334\n",
      "       love       1.00      0.11      0.19      6876\n",
      "    sadness       0.78      0.95      0.86     24260\n",
      "   surprise       1.00      0.04      0.07      3004\n",
      "\n",
      "avg / total       0.79      0.72      0.66     83362\n",
      "\n"
     ]
    }
   ],
   "source": [
    "model_nb = naive_bayes.MultinomialNB()\n",
    "model_nb.fit(tfidf_train, train_Y)\n",
    "predicted = model_nb.predict(tfidf_test)\n",
    "print(metrics.classification_report(test_Y, predicted, target_names = trainset.target_names))"
   ]
  },
  {
   "cell_type": "code",
   "execution_count": 13,
   "metadata": {},
   "outputs": [],
   "source": [
    "train_tfidf_nb = pd.DataFrame(model_nb.predict_proba(tfidf_train))\n",
    "test_tfidf_nb = pd.DataFrame(model_nb.predict_proba(tfidf_test))\n",
    "train_tfidf_nb.columns = ['nb_tfidf_'+i for i in trainset.target_names]\n",
    "test_tfidf_nb.columns = ['nb_tfidf_'+i for i in trainset.target_names]\n",
    "df_train = pd.concat([df_train, train_tfidf_nb], axis=1)\n",
    "df_test = pd.concat([df_test, test_tfidf_nb], axis=1)"
   ]
  },
  {
   "cell_type": "code",
   "execution_count": 15,
   "metadata": {},
   "outputs": [],
   "source": [
    "n_comp = 20\n",
    "svd_obj = TruncatedSVD(n_components=n_comp, algorithm='arpack')\n",
    "svd_obj.fit(tfidf)\n",
    "train_svd = pd.DataFrame(svd_obj.transform(tfidf_train))\n",
    "test_svd = pd.DataFrame(svd_obj.transform(tfidf_test))\n",
    "    \n",
    "train_svd.columns = ['lsa_'+str(i) for i in range(n_comp)]\n",
    "test_svd.columns = ['lsa_'+str(i) for i in range(n_comp)]\n",
    "df_train = pd.concat([df_train, train_svd], axis=1)\n",
    "df_test = pd.concat([df_test, test_svd], axis=1)"
   ]
  },
  {
   "cell_type": "code",
   "execution_count": 16,
   "metadata": {},
   "outputs": [],
   "source": [
    "del tfidf, tfidf_train, tfidf_test, train_svd, test_svd\n",
    "bow_vec = CountVectorizer(stop_words='english', ngram_range=(1,3))\n",
    "bow = bow_vec.fit_transform(df.text)\n",
    "bow_train = bow_vec.transform(df_train.text)\n",
    "bow_test = bow_vec.transform(df_test.text)"
   ]
  },
  {
   "cell_type": "code",
   "execution_count": 17,
   "metadata": {},
   "outputs": [
    {
     "name": "stdout",
     "output_type": "stream",
     "text": [
      "             precision    recall  f1-score   support\n",
      "\n",
      "      anger       0.91      0.80      0.85     11246\n",
      "       fear       0.84      0.72      0.78      9642\n",
      "        joy       0.81      0.94      0.87     28334\n",
      "       love       0.75      0.45      0.56      6876\n",
      "    sadness       0.84      0.95      0.89     24260\n",
      "   surprise       0.71      0.23      0.35      3004\n",
      "\n",
      "avg / total       0.83      0.83      0.82     83362\n",
      "\n"
     ]
    }
   ],
   "source": [
    "model_nb = naive_bayes.MultinomialNB()\n",
    "model_nb.fit(bow_train, train_Y)\n",
    "predicted = model_nb.predict(bow_test)\n",
    "print(metrics.classification_report(test_Y, predicted, target_names = trainset.target_names))"
   ]
  },
  {
   "cell_type": "code",
   "execution_count": 18,
   "metadata": {
    "collapsed": true
   },
   "outputs": [],
   "source": [
    "train_bow_nb = pd.DataFrame(model_nb.predict_proba(bow_train))\n",
    "test_bow_nb = pd.DataFrame(model_nb.predict_proba(bow_test))\n",
    "train_bow_nb.columns = ['nb_bow_'+i for i in trainset.target_names]\n",
    "test_bow_nb.columns = ['nb_bow_'+i for i in trainset.target_names]\n",
    "df_train = pd.concat([df_train, train_bow_nb], axis=1)\n",
    "df_test = pd.concat([df_test, test_bow_nb], axis=1)"
   ]
  },
  {
   "cell_type": "code",
   "execution_count": 19,
   "metadata": {
    "collapsed": true
   },
   "outputs": [],
   "source": [
    "bow_vec = CountVectorizer(ngram_range=(1,7), analyzer='char')\n",
    "bow = bow_vec.fit_transform(df.text)\n",
    "bow_train = bow_vec.transform(df_train.text)\n",
    "bow_test = bow_vec.transform(df_test.text)"
   ]
  },
  {
   "cell_type": "code",
   "execution_count": 21,
   "metadata": {},
   "outputs": [
    {
     "name": "stdout",
     "output_type": "stream",
     "text": [
      "             precision    recall  f1-score   support\n",
      "\n",
      "      anger       0.87      0.84      0.85     11246\n",
      "       fear       0.81      0.80      0.80      9642\n",
      "        joy       0.85      0.88      0.86     28334\n",
      "       love       0.71      0.67      0.69      6876\n",
      "    sadness       0.87      0.91      0.89     24260\n",
      "   surprise       0.74      0.39      0.51      3004\n",
      "\n",
      "avg / total       0.84      0.84      0.84     83362\n",
      "\n"
     ]
    }
   ],
   "source": [
    "model_nb = naive_bayes.MultinomialNB()\n",
    "model_nb.fit(bow_train, train_Y)\n",
    "predicted = model_nb.predict(bow_test)\n",
    "print(metrics.classification_report(test_Y, predicted, target_names = trainset.target_names))"
   ]
  },
  {
   "cell_type": "code",
   "execution_count": 22,
   "metadata": {
    "collapsed": true
   },
   "outputs": [],
   "source": [
    "train_bow_nb = pd.DataFrame(model_nb.predict_proba(bow_train))\n",
    "test_bow_nb = pd.DataFrame(model_nb.predict_proba(bow_test))\n",
    "train_bow_nb.columns = ['nb_bow_char_'+i for i in trainset.target_names]\n",
    "test_bow_nb.columns = ['nb_bow_char_'+i for i in trainset.target_names]\n",
    "df_train = pd.concat([df_train, train_bow_nb], axis=1)\n",
    "df_test = pd.concat([df_test, test_bow_nb], axis=1)"
   ]
  },
  {
   "cell_type": "code",
   "execution_count": 23,
   "metadata": {
    "collapsed": true
   },
   "outputs": [],
   "source": [
    "del bow_vec, train_bow_nb, test_bow_nb, bow, bow_train, bow_test"
   ]
  },
  {
   "cell_type": "code",
   "execution_count": 25,
   "metadata": {},
   "outputs": [
    {
     "data": {
      "text/html": [
       "<div>\n",
       "<style>\n",
       "    .dataframe thead tr:only-child th {\n",
       "        text-align: right;\n",
       "    }\n",
       "\n",
       "    .dataframe thead th {\n",
       "        text-align: left;\n",
       "    }\n",
       "\n",
       "    .dataframe tbody tr th {\n",
       "        vertical-align: top;\n",
       "    }\n",
       "</style>\n",
       "<table border=\"1\" class=\"dataframe\">\n",
       "  <thead>\n",
       "    <tr style=\"text-align: right;\">\n",
       "      <th></th>\n",
       "      <th>label</th>\n",
       "      <th>text</th>\n",
       "      <th>num_words</th>\n",
       "      <th>num_unique_words</th>\n",
       "      <th>num_chars</th>\n",
       "      <th>num_stopwords</th>\n",
       "      <th>mean_word_len</th>\n",
       "      <th>nb_tfidf_anger</th>\n",
       "      <th>nb_tfidf_fear</th>\n",
       "      <th>nb_tfidf_joy</th>\n",
       "      <th>...</th>\n",
       "      <th>nb_bow_joy</th>\n",
       "      <th>nb_bow_love</th>\n",
       "      <th>nb_bow_sadness</th>\n",
       "      <th>nb_bow_surprise</th>\n",
       "      <th>nb_bow_char_anger</th>\n",
       "      <th>nb_bow_char_fear</th>\n",
       "      <th>nb_bow_char_joy</th>\n",
       "      <th>nb_bow_char_love</th>\n",
       "      <th>nb_bow_char_sadness</th>\n",
       "      <th>nb_bow_char_surprise</th>\n",
       "    </tr>\n",
       "  </thead>\n",
       "  <tbody>\n",
       "    <tr>\n",
       "      <th>0</th>\n",
       "      <td>4</td>\n",
       "      <td>ive been feeling a little melancholy</td>\n",
       "      <td>6</td>\n",
       "      <td>6</td>\n",
       "      <td>36</td>\n",
       "      <td>2</td>\n",
       "      <td>5.166667</td>\n",
       "      <td>0.001636</td>\n",
       "      <td>0.001364</td>\n",
       "      <td>0.002907</td>\n",
       "      <td>...</td>\n",
       "      <td>2.332553e-08</td>\n",
       "      <td>1.226894e-10</td>\n",
       "      <td>9.999999e-01</td>\n",
       "      <td>9.731842e-12</td>\n",
       "      <td>1.869089e-66</td>\n",
       "      <td>1.763101e-58</td>\n",
       "      <td>9.618400e-67</td>\n",
       "      <td>1.332998e-70</td>\n",
       "      <td>1.000000e+00</td>\n",
       "      <td>6.914444e-76</td>\n",
       "    </tr>\n",
       "    <tr>\n",
       "      <th>1</th>\n",
       "      <td>0</td>\n",
       "      <td>im hella anticipating august and have been fee...</td>\n",
       "      <td>18</td>\n",
       "      <td>18</td>\n",
       "      <td>99</td>\n",
       "      <td>6</td>\n",
       "      <td>4.555556</td>\n",
       "      <td>0.389581</td>\n",
       "      <td>0.034414</td>\n",
       "      <td>0.332815</td>\n",
       "      <td>...</td>\n",
       "      <td>1.641601e-08</td>\n",
       "      <td>1.920556e-13</td>\n",
       "      <td>3.061506e-09</td>\n",
       "      <td>1.786409e-17</td>\n",
       "      <td>1.000000e+00</td>\n",
       "      <td>1.207171e-47</td>\n",
       "      <td>3.787879e-51</td>\n",
       "      <td>4.134736e-50</td>\n",
       "      <td>1.822714e-33</td>\n",
       "      <td>9.973456e-96</td>\n",
       "    </tr>\n",
       "    <tr>\n",
       "      <th>2</th>\n",
       "      <td>4</td>\n",
       "      <td>i don t know what s going to happen to us her ...</td>\n",
       "      <td>29</td>\n",
       "      <td>26</td>\n",
       "      <td>144</td>\n",
       "      <td>18</td>\n",
       "      <td>4.000000</td>\n",
       "      <td>0.018487</td>\n",
       "      <td>0.022773</td>\n",
       "      <td>0.188893</td>\n",
       "      <td>...</td>\n",
       "      <td>7.843260e-09</td>\n",
       "      <td>6.481890e-14</td>\n",
       "      <td>1.000000e+00</td>\n",
       "      <td>2.956143e-18</td>\n",
       "      <td>3.042203e-99</td>\n",
       "      <td>7.429498e-88</td>\n",
       "      <td>1.288318e-55</td>\n",
       "      <td>4.238791e-70</td>\n",
       "      <td>1.000000e+00</td>\n",
       "      <td>9.786039e-129</td>\n",
       "    </tr>\n",
       "    <tr>\n",
       "      <th>3</th>\n",
       "      <td>1</td>\n",
       "      <td>i think that is it for today other than we are...</td>\n",
       "      <td>33</td>\n",
       "      <td>29</td>\n",
       "      <td>154</td>\n",
       "      <td>21</td>\n",
       "      <td>3.696970</td>\n",
       "      <td>0.045855</td>\n",
       "      <td>0.233471</td>\n",
       "      <td>0.431243</td>\n",
       "      <td>...</td>\n",
       "      <td>1.309941e-04</td>\n",
       "      <td>2.053566e-13</td>\n",
       "      <td>2.902363e-05</td>\n",
       "      <td>1.013273e-16</td>\n",
       "      <td>1.484106e-27</td>\n",
       "      <td>1.000000e+00</td>\n",
       "      <td>2.723717e-08</td>\n",
       "      <td>6.113177e-61</td>\n",
       "      <td>1.736771e-23</td>\n",
       "      <td>1.568926e-138</td>\n",
       "    </tr>\n",
       "    <tr>\n",
       "      <th>4</th>\n",
       "      <td>2</td>\n",
       "      <td>i couldnt help but feel amused</td>\n",
       "      <td>6</td>\n",
       "      <td>6</td>\n",
       "      <td>30</td>\n",
       "      <td>2</td>\n",
       "      <td>4.166667</td>\n",
       "      <td>0.002694</td>\n",
       "      <td>0.001398</td>\n",
       "      <td>0.988560</td>\n",
       "      <td>...</td>\n",
       "      <td>9.999946e-01</td>\n",
       "      <td>2.839741e-08</td>\n",
       "      <td>3.657897e-06</td>\n",
       "      <td>3.036534e-09</td>\n",
       "      <td>3.154195e-10</td>\n",
       "      <td>6.082299e-17</td>\n",
       "      <td>1.000000e+00</td>\n",
       "      <td>6.370577e-32</td>\n",
       "      <td>7.923995e-17</td>\n",
       "      <td>2.654663e-17</td>\n",
       "    </tr>\n",
       "  </tbody>\n",
       "</table>\n",
       "<p>5 rows × 45 columns</p>\n",
       "</div>"
      ],
      "text/plain": [
       "   label                                               text  num_words  \\\n",
       "0      4               ive been feeling a little melancholy          6   \n",
       "1      0  im hella anticipating august and have been fee...         18   \n",
       "2      4  i don t know what s going to happen to us her ...         29   \n",
       "3      1  i think that is it for today other than we are...         33   \n",
       "4      2                     i couldnt help but feel amused          6   \n",
       "\n",
       "   num_unique_words  num_chars  num_stopwords  mean_word_len  nb_tfidf_anger  \\\n",
       "0                 6         36              2       5.166667        0.001636   \n",
       "1                18         99              6       4.555556        0.389581   \n",
       "2                26        144             18       4.000000        0.018487   \n",
       "3                29        154             21       3.696970        0.045855   \n",
       "4                 6         30              2       4.166667        0.002694   \n",
       "\n",
       "   nb_tfidf_fear  nb_tfidf_joy          ...             nb_bow_joy  \\\n",
       "0       0.001364      0.002907          ...           2.332553e-08   \n",
       "1       0.034414      0.332815          ...           1.641601e-08   \n",
       "2       0.022773      0.188893          ...           7.843260e-09   \n",
       "3       0.233471      0.431243          ...           1.309941e-04   \n",
       "4       0.001398      0.988560          ...           9.999946e-01   \n",
       "\n",
       "    nb_bow_love  nb_bow_sadness  nb_bow_surprise  nb_bow_char_anger  \\\n",
       "0  1.226894e-10    9.999999e-01     9.731842e-12       1.869089e-66   \n",
       "1  1.920556e-13    3.061506e-09     1.786409e-17       1.000000e+00   \n",
       "2  6.481890e-14    1.000000e+00     2.956143e-18       3.042203e-99   \n",
       "3  2.053566e-13    2.902363e-05     1.013273e-16       1.484106e-27   \n",
       "4  2.839741e-08    3.657897e-06     3.036534e-09       3.154195e-10   \n",
       "\n",
       "   nb_bow_char_fear  nb_bow_char_joy  nb_bow_char_love  nb_bow_char_sadness  \\\n",
       "0      1.763101e-58     9.618400e-67      1.332998e-70         1.000000e+00   \n",
       "1      1.207171e-47     3.787879e-51      4.134736e-50         1.822714e-33   \n",
       "2      7.429498e-88     1.288318e-55      4.238791e-70         1.000000e+00   \n",
       "3      1.000000e+00     2.723717e-08      6.113177e-61         1.736771e-23   \n",
       "4      6.082299e-17     1.000000e+00      6.370577e-32         7.923995e-17   \n",
       "\n",
       "   nb_bow_char_surprise  \n",
       "0          6.914444e-76  \n",
       "1          9.973456e-96  \n",
       "2         9.786039e-129  \n",
       "3         1.568926e-138  \n",
       "4          2.654663e-17  \n",
       "\n",
       "[5 rows x 45 columns]"
      ]
     },
     "execution_count": 25,
     "metadata": {},
     "output_type": "execute_result"
    }
   ],
   "source": [
    "df_train.head()"
   ]
  },
  {
   "cell_type": "code",
   "execution_count": 30,
   "metadata": {},
   "outputs": [
    {
     "data": {
      "text/plain": [
       "XGBClassifier(base_score=0.5, colsample_bylevel=1, colsample_bytree=0.4,\n",
       "       gamma=0.65, learning_rate=0.05, max_delta_step=1.8, max_depth=7,\n",
       "       min_child_weight=10.0, missing=None, n_estimators=10000, nthread=-1,\n",
       "       objective='multi:softprob', reg_alpha=0, reg_lambda=1,\n",
       "       scale_pos_weight=1, seed=0, silent=False, subsample=0.8)"
      ]
     },
     "execution_count": 30,
     "metadata": {},
     "output_type": "execute_result"
    }
   ],
   "source": [
    "params_xgd = {\n",
    "    'min_child_weight': 10.0,\n",
    "    'max_depth': 7,\n",
    "    'objective': 'multi:softprob',\n",
    "    'max_delta_step': 1.8,\n",
    "    'colsample_bytree': 0.4,\n",
    "    'subsample': 0.8,\n",
    "    'learning_rate': 0.05,\n",
    "    'gamma': 0.65,\n",
    "    'nthread': -1,\n",
    "    'silent': False,\n",
    "    'n_estimators': 10000\n",
    "    }\n",
    "train_X = df_train.iloc[:,2:]\n",
    "test_X = df_test.iloc[:,2:]\n",
    "train_Y = df_train.iloc[:,0]\n",
    "test_Y = df_test.iloc[:,0]\n",
    "clf = xgb.XGBClassifier(**params_xgd)\n",
    "clf.fit(train_X,train_Y, eval_set=[(test_X,test_Y)], \n",
    "        eval_metric='mlogloss', early_stopping_rounds=50, verbose=False)"
   ]
  },
  {
   "cell_type": "code",
   "execution_count": 31,
   "metadata": {},
   "outputs": [
    {
     "name": "stdout",
     "output_type": "stream",
     "text": [
      "accuracy validation set:  0.862527290612\n",
      "             precision    recall  f1-score   support\n",
      "\n",
      "      anger       0.89      0.87      0.88     11246\n",
      "       fear       0.82      0.80      0.81      9642\n",
      "        joy       0.87      0.91      0.89     28334\n",
      "       love       0.70      0.64      0.67      6876\n",
      "    sadness       0.92      0.93      0.93     24260\n",
      "   surprise       0.63      0.57      0.59      3004\n",
      "\n",
      "avg / total       0.86      0.86      0.86     83362\n",
      "\n"
     ]
    }
   ],
   "source": [
    "predicted = clf.predict(test_X)\n",
    "print('accuracy validation set: ', np.mean(predicted == test_Y))\n",
    "print(metrics.classification_report(test_Y, predicted, target_names = trainset.target_names))"
   ]
  },
  {
   "cell_type": "code",
   "execution_count": 32,
   "metadata": {},
   "outputs": [
    {
     "data": {
      "image/png": "[encoded data removed]",
      "text/plain": [
       "<matplotlib.figure.Figure at 0x7f9ea86b8d30>"
      ]
     },
     "metadata": {},
     "output_type": "display_data"
    }
   ],
   "source": [
    "fig, ax = plt.subplots(figsize=(12,12))\n",
    "xgb.plot_importance(clf, height=0.8, ax=ax)\n",
    "plt.show()"
   ]
  },
  {
   "cell_type": "code",
   "execution_count": 39,
   "metadata": {},
   "outputs": [
    {
     "data": {
      "text/plain": [
       "'this notebook use: 2554.68359375 MB'"
      ]
     },
     "execution_count": 39,
     "metadata": {},
     "output_type": "execute_result"
    }
   ],
   "source": [
    "import os\n",
    "import psutil\n",
    "process = psutil.Process(os.getpid())\n",
    "'this notebook use: ' + str(process.memory_info()[0] / float(2 ** 20)) + ' MB'"
   ]
  }
 ],
 "metadata": {
  "kernelspec": {
   "display_name": "Python 3",
   "language": "python",
   "name": "python3"
  },
  "language_info": {
   "codemirror_mode": {
    "name": "ipython",
    "version": 3
   },
   "file_extension": ".py",
   "mimetype": "text/x-python",
   "name": "python",
   "nbconvert_exporter": "python",
   "pygments_lexer": "ipython3",
   "version": "3.5.2"
  }
 },
 "nbformat": 4,
 "nbformat_minor": 2
}
