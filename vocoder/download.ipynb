{
 "cells": [
  {
   "cell_type": "code",
   "execution_count": 1,
   "metadata": {},
   "outputs": [],
   "source": [
    "from bs4 import BeautifulSoup\n",
    "from urllib.request import urlopen, urlretrieve\n",
    "from tqdm import tqdm\n",
    "import re\n",
    "import os"
   ]
  },
  {
   "cell_type": "code",
   "execution_count": 2,
   "metadata": {},
   "outputs": [
    {
     "name": "stdout",
     "output_type": "stream",
     "text": [
      "young\n"
     ]
    },
    {
     "name": "stderr",
     "output_type": "stream",
     "text": [
      "100%|███████████████████████████████| 200/200 [04:26<00:00,  1.29s/it]\n"
     ]
    },
    {
     "name": "stdout",
     "output_type": "stream",
     "text": [
      "old\n"
     ]
    },
    {
     "name": "stderr",
     "output_type": "stream",
     "text": [
      "100%|███████████████████████████████| 200/200 [04:30<00:00,  1.30s/it]\n"
     ]
    }
   ],
   "source": [
    "prefix = 'https://tspace.library.utoronto.ca'\n",
    "base_url = 'https://tspace.library.utoronto.ca/handle/1807/24'\n",
    "\n",
    "directories = {'young':493, 'old': 501}\n",
    "\n",
    "for k, v in directories.items():\n",
    "    print(k)\n",
    "    save_dir = './%s/'%(k)\n",
    "    if not os.path.exists(save_dir):\n",
    "        os.makedirs(save_dir)\n",
    "\n",
    "    url = base_url + str(v)\n",
    "    soup = BeautifulSoup(urlopen(url).read(), 'html5lib')\n",
    "    targets = soup.findAll('a', href=re.compile(r'/bitstream/.*.wav'))\n",
    "        \n",
    "    for a in tqdm(targets, total=len(targets), ncols=70):\n",
    "        link = a['href']\n",
    "\n",
    "        audio_save_loc = save_dir + link.split('/')[-1]\n",
    "        if os.path.isfile(audio_save_loc):\n",
    "            print(\"File Already Exists\")\n",
    "        urlretrieve(prefix+a['href'], audio_save_loc)\n",
    "\n",
    "        with open(audio_save_loc.replace('.wav', '.txt'), 'w') as f:\n",
    "            f.write('say the word ' + link.split('_')[-2])"
   ]
  },
  {
   "cell_type": "code",
   "execution_count": null,
   "metadata": {},
   "outputs": [],
   "source": []
  }
 ],
 "metadata": {
  "kernelspec": {
   "display_name": "Python 3",
   "language": "python",
   "name": "python3"
  },
  "language_info": {
   "codemirror_mode": {
    "name": "ipython",
    "version": 3
   },
   "file_extension": ".py",
   "mimetype": "text/x-python",
   "name": "python",
   "nbconvert_exporter": "python",
   "pygments_lexer": "ipython3",
   "version": "3.6.8"
  }
 },
 "nbformat": 4,
 "nbformat_minor": 2
}
