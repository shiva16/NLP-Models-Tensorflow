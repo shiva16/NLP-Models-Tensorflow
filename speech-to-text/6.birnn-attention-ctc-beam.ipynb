{
 "cells": [
  {
   "cell_type": "code",
   "execution_count": 1,
   "metadata": {},
   "outputs": [],
   "source": [
    "import librosa\n",
    "import os\n",
    "import tensorflow as tf\n",
    "import numpy as np\n",
    "from tqdm import tqdm"
   ]
  },
  {
   "cell_type": "code",
   "execution_count": 2,
   "metadata": {},
   "outputs": [],
   "source": [
    "wav_files = [f for f in os.listdir('./data') if f.endswith('.wav')]\n",
    "text_files = [f for f in os.listdir('./data') if f.endswith('.txt')]"
   ]
  },
  {
   "cell_type": "code",
   "execution_count": 3,
   "metadata": {},
   "outputs": [
    {
     "name": "stderr",
     "output_type": "stream",
     "text": [
      "100%|███████████████████████████████████████| 2800/2800 [00:56<00:00, 49.85it/s]\n"
     ]
    }
   ],
   "source": [
    "inputs, targets = [], []\n",
    "for (wav_file, text_file) in tqdm(zip(wav_files, text_files), total = len(wav_files),ncols=80):\n",
    "    path = './data/' + wav_file\n",
    "    try:\n",
    "        y, sr = librosa.load(path, sr = None)\n",
    "    except:\n",
    "        continue\n",
    "    inputs.append(\n",
    "        librosa.feature.mfcc(\n",
    "            y = y, sr = sr, n_mfcc = 40, hop_length = int(0.05 * sr)\n",
    "        ).T\n",
    "    )\n",
    "    with open('./data/' + text_file) as f:\n",
    "        targets.append(f.read())\n"
   ]
  },
  {
   "cell_type": "code",
   "execution_count": 4,
   "metadata": {},
   "outputs": [],
   "source": [
    "inputs = tf.keras.preprocessing.sequence.pad_sequences(\n",
    "    inputs, dtype = 'float32', padding = 'post'\n",
    ")\n",
    "\n",
    "chars = list(set([c for target in targets for c in target]))\n",
    "num_classes = len(chars) + 1\n",
    "\n",
    "idx2char = {idx: char for idx, char in enumerate(chars)}\n",
    "char2idx = {char: idx for idx, char in idx2char.items()}\n",
    "\n",
    "targets = [[char2idx[c] for c in target] for target in targets]"
   ]
  },
  {
   "cell_type": "code",
   "execution_count": 5,
   "metadata": {},
   "outputs": [],
   "source": [
    "def pad_sentence_batch(sentence_batch, pad_int):\n",
    "    padded_seqs = []\n",
    "    seq_lens = []\n",
    "    max_sentence_len = max([len(sentence) for sentence in sentence_batch])\n",
    "    for sentence in sentence_batch:\n",
    "        padded_seqs.append(sentence + [pad_int] * (max_sentence_len - len(sentence)))\n",
    "        seq_lens.append(len(sentence))\n",
    "    return padded_seqs, seq_lens\n",
    "\n",
    "def sparse_tuple_from(sequences, dtype=np.int32):\n",
    "    indices = []\n",
    "    values = []\n",
    "\n",
    "    for n, seq in enumerate(sequences):\n",
    "        indices.extend(zip([n] * len(seq), range(len(seq))))\n",
    "        values.extend(seq)\n",
    "\n",
    "    indices = np.asarray(indices, dtype=np.int64)\n",
    "    values = np.asarray(values, dtype=dtype)\n",
    "    shape = np.asarray([len(sequences), np.asarray(indices).max(0)[1] + 1], dtype=np.int64)\n",
    "\n",
    "    return indices, values, shape"
   ]
  },
  {
   "cell_type": "code",
   "execution_count": 6,
   "metadata": {},
   "outputs": [],
   "source": [
    "def attention(inputs, attention_size):\n",
    "    hidden_size = inputs.shape[2].value\n",
    "    w_omega = tf.Variable(\n",
    "        tf.random_normal([hidden_size, attention_size], stddev = 0.1)\n",
    "    )\n",
    "    b_omega = tf.Variable(tf.random_normal([attention_size], stddev = 0.1))\n",
    "    u_omega = tf.Variable(tf.random_normal([attention_size], stddev = 0.1))\n",
    "    with tf.name_scope('v'):\n",
    "        v = tf.tanh(tf.tensordot(inputs, w_omega, axes = 1) + b_omega)\n",
    "    vu = tf.tensordot(v, u_omega, axes = 1, name = 'vu')\n",
    "    alphas = tf.nn.softmax(vu, name = 'alphas')\n",
    "    output = inputs * tf.expand_dims(alphas, -1)\n",
    "    return output, alphas\n",
    "\n",
    "class Model:\n",
    "    def __init__(\n",
    "        self,\n",
    "        num_layers,\n",
    "        size_layers,\n",
    "        learning_rate,\n",
    "        num_features,\n",
    "        dropout = 1.0,\n",
    "    ):\n",
    "        self.X = tf.placeholder(tf.float32, [None, None, num_features])\n",
    "        self.Y = tf.sparse_placeholder(tf.int32)\n",
    "        seq_lens = tf.count_nonzero(\n",
    "            tf.reduce_sum(self.X, -1), 1, dtype = tf.int32\n",
    "        )\n",
    "        self.label = tf.placeholder(tf.int32, [None, None])\n",
    "        self.Y_seq_len = tf.placeholder(tf.int32, [None])\n",
    "\n",
    "        def cells(size, reuse = False):\n",
    "            return tf.contrib.rnn.DropoutWrapper(\n",
    "                tf.nn.rnn_cell.LSTMCell(\n",
    "                    size,\n",
    "                    initializer = tf.orthogonal_initializer(),\n",
    "                    reuse = reuse,\n",
    "                ),\n",
    "                state_keep_prob = dropout,\n",
    "                output_keep_prob = dropout,\n",
    "            )\n",
    "\n",
    "        features = self.X\n",
    "        for n in range(num_layers):\n",
    "            (out_fw, out_bw), (\n",
    "                state_fw,\n",
    "                state_bw,\n",
    "            ) = tf.nn.bidirectional_dynamic_rnn(\n",
    "                cell_fw = cells(size_layers),\n",
    "                cell_bw = cells(size_layers),\n",
    "                inputs = features,\n",
    "                sequence_length = seq_lens,\n",
    "                dtype = tf.float32,\n",
    "                scope = 'bidirectional_rnn_%d' % (n),\n",
    "            )\n",
    "            features = tf.concat((out_fw, out_bw), 2)\n",
    "        \n",
    "        features, _ = attention(features, size_layers)\n",
    "        logits = tf.layers.dense(features, num_classes)\n",
    "        time_major = tf.transpose(logits, [1, 0, 2])\n",
    "        decoded, log_prob = tf.nn.ctc_beam_search_decoder(time_major, seq_lens)\n",
    "        decoded = tf.to_int32(decoded[0])\n",
    "        self.preds = tf.sparse.to_dense(decoded)\n",
    "        self.cost = tf.reduce_mean(\n",
    "            tf.nn.ctc_loss(\n",
    "                self.Y,\n",
    "                time_major,\n",
    "                seq_lens,\n",
    "                ignore_longer_outputs_than_inputs = True,\n",
    "            )\n",
    "        )\n",
    "        self.optimizer = tf.train.AdamOptimizer(\n",
    "            learning_rate = learning_rate\n",
    "        ).minimize(self.cost)\n",
    "        \n",
    "        preds = self.preds[:, :tf.reduce_max(self.Y_seq_len)]\n",
    "        masks = tf.sequence_mask(self.Y_seq_len, tf.reduce_max(self.Y_seq_len), dtype=tf.float32)\n",
    "        preds = tf.pad(preds, [[0, 0], [0, tf.reduce_max(self.Y_seq_len)]])\n",
    "        y_t = tf.cast(preds, tf.int32)\n",
    "        self.prediction = tf.boolean_mask(y_t, masks)\n",
    "        mask_label = tf.boolean_mask(self.label, masks)\n",
    "        correct_pred = tf.equal(self.prediction, mask_label)\n",
    "        correct_index = tf.cast(correct_pred, tf.float32)\n",
    "        self.accuracy = tf.reduce_mean(tf.cast(correct_pred, tf.float32))"
   ]
  },
  {
   "cell_type": "code",
   "execution_count": 7,
   "metadata": {},
   "outputs": [
    {
     "name": "stdout",
     "output_type": "stream",
     "text": [
      "WARNING:tensorflow:From /usr/local/lib/python3.6/dist-packages/tensorflow/python/ops/sparse_ops.py:1165: sparse_to_dense (from tensorflow.python.ops.sparse_ops) is deprecated and will be removed in a future version.\n",
      "Instructions for updating:\n",
      "Create a `tf.sparse.SparseTensor` and use `tf.sparse.to_dense` instead.\n"
     ]
    }
   ],
   "source": [
    "tf.reset_default_graph()\n",
    "sess = tf.InteractiveSession()\n",
    "\n",
    "size_layers = 128\n",
    "learning_rate = 1e-3\n",
    "num_layers = 2\n",
    "batch_size = 32\n",
    "epoch = 50\n",
    "\n",
    "model = Model(num_layers, size_layers, learning_rate, inputs.shape[2])\n",
    "sess.run(tf.global_variables_initializer())"
   ]
  },
  {
   "cell_type": "code",
   "execution_count": 8,
   "metadata": {},
   "outputs": [
    {
     "name": "stderr",
     "output_type": "stream",
     "text": [
      "minibatch loop: 100%|██████████| 88/88 [01:43<00:00,  1.42s/it, accuracy=0.0556, cost=75.1]\n",
      "minibatch loop: 100%|██████████| 88/88 [01:30<00:00,  1.22it/s, accuracy=0.0556, cost=59.8]\n",
      "minibatch loop: 100%|██████████| 88/88 [01:13<00:00,  1.31it/s, accuracy=0.0556, cost=53]  \n",
      "minibatch loop: 100%|██████████| 88/88 [01:13<00:00,  1.21it/s, accuracy=0.0556, cost=49.5]\n",
      "minibatch loop: 100%|██████████| 88/88 [01:17<00:00,  1.08it/s, accuracy=0.0556, cost=47.5]\n",
      "minibatch loop: 100%|██████████| 88/88 [01:24<00:00,  1.08it/s, accuracy=0.0556, cost=46.2]\n",
      "minibatch loop: 100%|██████████| 88/88 [01:30<00:00,  1.06s/it, accuracy=0.0556, cost=45.3]\n",
      "minibatch loop: 100%|██████████| 88/88 [01:30<00:00,  1.01s/it, accuracy=0.0556, cost=44.6]\n",
      "minibatch loop: 100%|██████████| 88/88 [01:29<00:00,  1.14it/s, accuracy=0.0556, cost=44]  \n",
      "minibatch loop: 100%|██████████| 88/88 [01:31<00:00,  1.03s/it, accuracy=0.0556, cost=43.6]\n",
      "minibatch loop: 100%|██████████| 88/88 [01:31<00:00,  1.05it/s, accuracy=0.0556, cost=43.2]\n",
      "minibatch loop: 100%|██████████| 88/88 [01:46<00:00,  1.05s/it, accuracy=0.0556, cost=42.8]\n",
      "minibatch loop: 100%|██████████| 88/88 [01:28<00:00,  1.07it/s, accuracy=0.0556, cost=42.5]\n",
      "minibatch loop: 100%|██████████| 88/88 [01:30<00:00,  1.05it/s, accuracy=0.0556, cost=42.2]\n",
      "minibatch loop: 100%|██████████| 88/88 [01:31<00:00,  1.09it/s, accuracy=0.0556, cost=41.9]\n",
      "minibatch loop: 100%|██████████| 88/88 [01:30<00:00,  1.09it/s, accuracy=0.0556, cost=41.6]\n",
      "minibatch loop: 100%|██████████| 88/88 [01:29<00:00,  1.13it/s, accuracy=0.0556, cost=41.2]\n",
      "minibatch loop: 100%|██████████| 88/88 [01:31<00:00,  1.04s/it, accuracy=0.0556, cost=40.8]\n",
      "minibatch loop: 100%|██████████| 88/88 [01:30<00:00,  1.02it/s, accuracy=0.111, cost=40.1] \n",
      "minibatch loop: 100%|██████████| 88/88 [01:28<00:00,  1.06it/s, accuracy=0.111, cost=39.2] \n",
      "minibatch loop: 100%|██████████| 88/88 [01:27<00:00,  1.07it/s, accuracy=0.111, cost=38.4] \n",
      "minibatch loop: 100%|██████████| 88/88 [01:29<00:00,  1.07it/s, accuracy=0.111, cost=37.5] \n",
      "minibatch loop: 100%|██████████| 88/88 [01:28<00:00,  1.03it/s, accuracy=0.167, cost=36.4] \n",
      "minibatch loop: 100%|██████████| 88/88 [01:30<00:00,  1.08it/s, accuracy=0.167, cost=35.4] \n",
      "minibatch loop: 100%|██████████| 88/88 [01:30<00:00,  1.02it/s, accuracy=0.111, cost=34.3] \n",
      "minibatch loop: 100%|██████████| 88/88 [01:31<00:00,  1.05it/s, accuracy=0.111, cost=33.2] \n",
      "minibatch loop: 100%|██████████| 88/88 [01:32<00:00,  1.01it/s, accuracy=0.111, cost=32.1] \n",
      "minibatch loop: 100%|██████████| 88/88 [01:34<00:00,  1.08it/s, accuracy=0.111, cost=31]   \n",
      "minibatch loop: 100%|██████████| 88/88 [01:33<00:00,  1.02it/s, accuracy=0.0556, cost=29.9]\n",
      "minibatch loop: 100%|██████████| 88/88 [01:35<00:00,  1.09s/it, accuracy=0.111, cost=28.7] \n",
      "minibatch loop: 100%|██████████| 88/88 [01:36<00:00,  1.05it/s, accuracy=0.111, cost=27.6] \n",
      "minibatch loop: 100%|██████████| 88/88 [01:39<00:00,  1.05s/it, accuracy=0.111, cost=26.5] \n",
      "minibatch loop: 100%|██████████| 88/88 [01:38<00:00,  1.08s/it, accuracy=0.111, cost=25.5] \n",
      "minibatch loop: 100%|██████████| 88/88 [01:41<00:00,  1.02s/it, accuracy=0.111, cost=24.5] \n",
      "minibatch loop: 100%|██████████| 88/88 [01:40<00:00,  1.06s/it, accuracy=0.111, cost=23.1] \n",
      "minibatch loop: 100%|██████████| 88/88 [01:41<00:00,  1.10s/it, accuracy=0.111, cost=22.3] \n",
      "minibatch loop: 100%|██████████| 88/88 [01:43<00:00,  1.08s/it, accuracy=0.111, cost=21.4] \n",
      "minibatch loop: 100%|██████████| 88/88 [01:41<00:00,  1.00it/s, accuracy=0.111, cost=20.7] \n",
      "minibatch loop: 100%|██████████| 88/88 [01:42<00:00,  1.11s/it, accuracy=0.111, cost=20.7] \n",
      "minibatch loop: 100%|██████████| 88/88 [01:44<00:00,  1.10s/it, accuracy=0.333, cost=19.7] \n",
      "minibatch loop: 100%|██████████| 88/88 [01:44<00:00,  1.19s/it, accuracy=0.778, cost=19]   \n",
      "minibatch loop: 100%|██████████| 88/88 [01:46<00:00,  1.11s/it, accuracy=0.778, cost=18.6]\n",
      "minibatch loop: 100%|██████████| 88/88 [01:46<00:00,  1.05s/it, accuracy=0.778, cost=18.2]\n",
      "minibatch loop: 100%|██████████| 88/88 [01:46<00:00,  1.09s/it, accuracy=0.778, cost=17.7]\n",
      "minibatch loop: 100%|██████████| 88/88 [01:45<00:00,  1.07s/it, accuracy=0.778, cost=17.4]\n",
      "minibatch loop: 100%|██████████| 88/88 [01:46<00:00,  1.14s/it, accuracy=0.778, cost=17]  \n",
      "minibatch loop: 100%|██████████| 88/88 [01:47<00:00,  1.06s/it, accuracy=0.778, cost=16.6]\n",
      "minibatch loop: 100%|██████████| 88/88 [01:47<00:00,  1.14s/it, accuracy=0.778, cost=16.5]\n",
      "minibatch loop: 100%|██████████| 88/88 [01:46<00:00,  1.21s/it, accuracy=0.778, cost=16.1]\n",
      "minibatch loop: 100%|██████████| 88/88 [01:47<00:00,  1.10s/it, accuracy=0.778, cost=15.9]\n"
     ]
    }
   ],
   "source": [
    "for e in range(epoch):\n",
    "    pbar = tqdm(\n",
    "        range(0, len(inputs), batch_size), desc = 'minibatch loop')\n",
    "    for i in pbar:\n",
    "        batch_x = inputs[i : min(i + batch_size, len(inputs))]\n",
    "        y = targets[i : min(i + batch_size, len(inputs))]\n",
    "        batch_y = sparse_tuple_from(y)\n",
    "        batch_label, batch_len = pad_sentence_batch(y, 0)\n",
    "        _, cost, accuracy = sess.run(\n",
    "            [model.optimizer, model.cost, model.accuracy],\n",
    "            feed_dict = {model.X: batch_x, model.Y: batch_y, \n",
    "                         model.label: batch_label, model.Y_seq_len: batch_len},\n",
    "        )\n",
    "\n",
    "        accuracy = sess.run(model.accuracy, feed_dict = {model.X: batch_x[: 1],\n",
    "                                                            model.label: batch_label[: 1],\n",
    "                                                            model.Y_seq_len: batch_len[: 1]})\n",
    "        \n",
    "        \n",
    "        pbar.set_postfix(cost = cost, accuracy = np.mean(accuracy))"
   ]
  },
  {
   "cell_type": "code",
   "execution_count": 9,
   "metadata": {},
   "outputs": [
    {
     "name": "stdout",
     "output_type": "stream",
     "text": [
      "real: say the word hit\n",
      "predicted: say the word e\n"
     ]
    }
   ],
   "source": [
    "import random\n",
    "\n",
    "random_index = random.randint(0, len(targets) - 1)\n",
    "batch_x = inputs[random_index : random_index + 1]\n",
    "print(\n",
    "    'real:',\n",
    "    ''.join(\n",
    "        [idx2char[no] for no in targets[random_index : random_index + 1][0]]\n",
    "    ),\n",
    ")\n",
    "batch_y = sparse_tuple_from(targets[random_index : random_index + 1])\n",
    "pred = sess.run(model.preds, feed_dict = {model.X: batch_x})[0]\n",
    "print('predicted:', ''.join([idx2char[no] for no in pred]))"
   ]
  },
  {
   "cell_type": "code",
   "execution_count": null,
   "metadata": {},
   "outputs": [],
   "source": []
  }
 ],
 "metadata": {
  "kernelspec": {
   "display_name": "Python 3",
   "language": "python",
   "name": "python3"
  },
  "language_info": {
   "codemirror_mode": {
    "name": "ipython",
    "version": 3
   },
   "file_extension": ".py",
   "mimetype": "text/x-python",
   "name": "python",
   "nbconvert_exporter": "python",
   "pygments_lexer": "ipython3",
   "version": "3.6.8"
  }
 },
 "nbformat": 4,
 "nbformat_minor": 2
}
