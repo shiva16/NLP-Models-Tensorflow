{
 "cells": [
  {
   "cell_type": "code",
   "execution_count": 1,
   "metadata": {},
   "outputs": [],
   "source": [
    "import librosa\n",
    "import os\n",
    "import tensorflow as tf\n",
    "import numpy as np\n",
    "from tqdm import tqdm"
   ]
  },
  {
   "cell_type": "code",
   "execution_count": 2,
   "metadata": {},
   "outputs": [],
   "source": [
    "wav_files = [f for f in os.listdir('./data') if f.endswith('.wav')]\n",
    "text_files = [f for f in os.listdir('./data') if f.endswith('.txt')]"
   ]
  },
  {
   "cell_type": "code",
   "execution_count": 3,
   "metadata": {},
   "outputs": [
    {
     "name": "stderr",
     "output_type": "stream",
     "text": [
      "100%|███████████████████████████████████████| 2800/2800 [00:58<00:00, 47.67it/s]\n"
     ]
    }
   ],
   "source": [
    "inputs, targets = [], []\n",
    "for (wav_file, text_file) in tqdm(zip(wav_files, text_files), total = len(wav_files),ncols=80):\n",
    "    path = './data/' + wav_file\n",
    "    try:\n",
    "        y, sr = librosa.load(path, sr = None)\n",
    "    except:\n",
    "        continue\n",
    "    inputs.append(\n",
    "        librosa.feature.mfcc(\n",
    "            y = y, sr = sr, n_mfcc = 40, hop_length = int(0.05 * sr)\n",
    "        ).T\n",
    "    )\n",
    "    with open('./data/' + text_file) as f:\n",
    "        targets.append(f.read())"
   ]
  },
  {
   "cell_type": "code",
   "execution_count": 4,
   "metadata": {},
   "outputs": [
    {
     "data": {
      "text/plain": [
       "(43, 40)"
      ]
     },
     "execution_count": 4,
     "metadata": {},
     "output_type": "execute_result"
    }
   ],
   "source": [
    "inputs[0].shape"
   ]
  },
  {
   "cell_type": "code",
   "execution_count": 5,
   "metadata": {},
   "outputs": [],
   "source": [
    "inputs = tf.keras.preprocessing.sequence.pad_sequences(\n",
    "    inputs, dtype = 'float32', padding = 'post'\n",
    ")\n",
    "\n",
    "chars = list(set([c for target in targets for c in target]))\n",
    "num_classes = len(chars) + 1\n",
    "\n",
    "idx2char = {idx: char for idx, char in enumerate(chars)}\n",
    "char2idx = {char: idx for idx, char in idx2char.items()}\n",
    "\n",
    "targets = [[char2idx[c] for c in target] for target in targets]"
   ]
  },
  {
   "cell_type": "code",
   "execution_count": 6,
   "metadata": {},
   "outputs": [
    {
     "data": {
      "text/plain": [
       "26"
      ]
     },
     "execution_count": 6,
     "metadata": {},
     "output_type": "execute_result"
    }
   ],
   "source": [
    "num_classes"
   ]
  },
  {
   "cell_type": "code",
   "execution_count": 7,
   "metadata": {},
   "outputs": [],
   "source": [
    "def encoder_block(inp, n_hidden, filter_size):\n",
    "    inp = tf.expand_dims(inp, 2)\n",
    "    inp = tf.pad(inp, [[0, 0], [(filter_size[0]-1)//2, (filter_size[0]-1)//2], [0, 0], [0, 0]])\n",
    "    conv = tf.layers.conv2d(inp, n_hidden, filter_size, padding=\"VALID\", activation=None)\n",
    "    conv = tf.squeeze(conv, 2)\n",
    "    return conv\n",
    "\n",
    "def glu(x):\n",
    "    return tf.multiply(x[:, :, :tf.shape(x)[2]//2], tf.sigmoid(x[:, :, tf.shape(x)[2]//2:]))\n",
    "\n",
    "def layer(inp, conv_block, kernel_width, n_hidden, residual=None):\n",
    "    z = conv_block(inp, n_hidden, (kernel_width, 1))\n",
    "    return glu(z) + (residual if residual is not None else 0)\n",
    "\n",
    "class Model:\n",
    "    def __init__(\n",
    "        self,\n",
    "        num_layers,\n",
    "        size_layers,\n",
    "        learning_rate,\n",
    "        num_features,\n",
    "        dropout = 1.0,\n",
    "    ):\n",
    "        self.X = tf.placeholder(tf.float32, [None, None, num_features])\n",
    "        self.label = tf.placeholder(tf.int32, [None, None])\n",
    "        self.Y_seq_len = tf.placeholder(tf.int32, [None])\n",
    "        self.Y = tf.sparse_placeholder(tf.int32)\n",
    "        seq_lens = tf.count_nonzero(\n",
    "            tf.reduce_sum(self.X, -1), 1, dtype = tf.int32\n",
    "        )\n",
    "        batch_size = tf.shape(self.X)[0]\n",
    "        \n",
    "        def cells(reuse = False):\n",
    "            return tf.contrib.rnn.DropoutWrapper(\n",
    "                tf.nn.rnn_cell.LSTMCell(\n",
    "                    size_layers,\n",
    "                    initializer = tf.orthogonal_initializer(),\n",
    "                    reuse = reuse,\n",
    "                ),\n",
    "                state_keep_prob = dropout,\n",
    "                output_keep_prob = dropout,\n",
    "            )\n",
    "        def attention(encoder_out, seq_len, reuse=False):\n",
    "            attention_mechanism = tf.contrib.seq2seq.BahdanauAttention(num_units = size_layers, \n",
    "                                                                    memory = encoder_out,\n",
    "                                                                    memory_sequence_length = seq_len)\n",
    "            return tf.contrib.seq2seq.AttentionWrapper(\n",
    "            cell = tf.nn.rnn_cell.MultiRNNCell([cells(reuse) for _ in range(num_layers)]), \n",
    "                attention_mechanism = attention_mechanism,\n",
    "                attention_layer_size = size_layers)\n",
    "        \n",
    "        encoder_embedded = self.X\n",
    "        encoder_embedded = tf.layers.conv1d(encoder_embedded, size_layers, 1)\n",
    "        e = tf.identity(encoder_embedded)\n",
    "        for i in range(num_layers * 2):\n",
    "            z = layer(encoder_embedded, encoder_block, 3, size_layers * 2, encoder_embedded)\n",
    "            encoder_embedded = z\n",
    "        \n",
    "        encoder_output, output_memory = z, z + e\n",
    "        print(encoder_output, output_memory)\n",
    "        \n",
    "        init_state = tf.reduce_mean(output_memory,axis=1)\n",
    "        encoder_state = tuple(tf.nn.rnn_cell.LSTMStateTuple(c=init_state, h=init_state) for _ in range(num_layers))\n",
    "        main = tf.strided_slice(self.X, [0, 0, 0], [batch_size, -1, num_features], [1, 1, 1])\n",
    "        decoder_input = tf.concat([tf.fill([batch_size, 1, num_features], 0.0), main], 1)\n",
    "        decoder_cell = attention(encoder_output, seq_lens)\n",
    "        dense_layer = tf.layers.Dense(num_classes)\n",
    "        \n",
    "        training_helper = tf.contrib.seq2seq.TrainingHelper(\n",
    "                inputs = decoder_input,\n",
    "                sequence_length = seq_lens,\n",
    "                time_major = False)\n",
    "        training_decoder = tf.contrib.seq2seq.BasicDecoder(\n",
    "                cell = decoder_cell,\n",
    "                helper = training_helper,\n",
    "                initial_state = decoder_cell.zero_state(batch_size, tf.float32).clone(cell_state=encoder_state),\n",
    "                output_layer = dense_layer)\n",
    "        training_decoder_output, _, _ = tf.contrib.seq2seq.dynamic_decode(\n",
    "                decoder = training_decoder,\n",
    "                impute_finished = True,\n",
    "                maximum_iterations = tf.reduce_max(seq_lens))\n",
    "        self.seq_lens = seq_lens\n",
    "        \n",
    "        logits = training_decoder_output.rnn_output\n",
    "        time_major = tf.transpose(logits, [1, 0, 2])\n",
    "        self.time_major = time_major\n",
    "        decoded, log_prob = tf.nn.ctc_beam_search_decoder(time_major, seq_lens)\n",
    "        decoded = tf.to_int32(decoded[0])\n",
    "        self.preds = tf.sparse.to_dense(decoded)\n",
    "        self.cost = tf.reduce_mean(\n",
    "            tf.nn.ctc_loss(\n",
    "                self.Y,\n",
    "                time_major,\n",
    "                seq_lens\n",
    "            )\n",
    "        )\n",
    "        self.optimizer = tf.train.AdamOptimizer(\n",
    "            learning_rate = learning_rate\n",
    "        ).minimize(self.cost)\n",
    "        \n",
    "        preds = self.preds[:, :tf.reduce_max(self.Y_seq_len)]\n",
    "        masks = tf.sequence_mask(self.Y_seq_len, tf.reduce_max(self.Y_seq_len), dtype=tf.float32)\n",
    "        preds = tf.pad(preds, [[0, 0], [0, tf.reduce_max(self.Y_seq_len)]])\n",
    "        print(preds, masks)\n",
    "        y_t = tf.cast(preds, tf.int32)\n",
    "        self.prediction = tf.boolean_mask(y_t, masks)\n",
    "        mask_label = tf.boolean_mask(self.label, masks)\n",
    "        self.mask_label = mask_label\n",
    "        correct_pred = tf.equal(self.prediction, mask_label)\n",
    "        correct_index = tf.cast(correct_pred, tf.float32)\n",
    "        self.accuracy = tf.reduce_mean(tf.cast(correct_pred, tf.float32))"
   ]
  },
  {
   "cell_type": "code",
   "execution_count": 8,
   "metadata": {},
   "outputs": [
    {
     "name": "stdout",
     "output_type": "stream",
     "text": [
      "Tensor(\"add_3:0\", shape=(?, ?, 128), dtype=float32) Tensor(\"add_4:0\", shape=(?, ?, 128), dtype=float32)\n",
      "WARNING:tensorflow:From /usr/local/lib/python3.6/dist-packages/tensorflow/python/ops/sparse_ops.py:1165: sparse_to_dense (from tensorflow.python.ops.sparse_ops) is deprecated and will be removed in a future version.\n",
      "Instructions for updating:\n",
      "Create a `tf.sparse.SparseTensor` and use `tf.sparse.to_dense` instead.\n",
      "Tensor(\"Pad_4:0\", shape=(?, ?), dtype=int32) Tensor(\"SequenceMask/Cast_1:0\", shape=(?, ?), dtype=float32)\n"
     ]
    }
   ],
   "source": [
    "tf.reset_default_graph()\n",
    "sess = tf.InteractiveSession()\n",
    "\n",
    "size_layers = 128\n",
    "learning_rate = 1e-4\n",
    "num_layers = 2\n",
    "batch_size = 32\n",
    "epoch = 50\n",
    "\n",
    "model = Model(num_layers, size_layers, learning_rate, inputs.shape[2])\n",
    "sess.run(tf.global_variables_initializer())"
   ]
  },
  {
   "cell_type": "code",
   "execution_count": 9,
   "metadata": {},
   "outputs": [],
   "source": [
    "def pad_sentence_batch(sentence_batch, pad_int):\n",
    "    padded_seqs = []\n",
    "    seq_lens = []\n",
    "    max_sentence_len = max([len(sentence) for sentence in sentence_batch])\n",
    "    for sentence in sentence_batch:\n",
    "        padded_seqs.append(sentence + [pad_int] * (max_sentence_len - len(sentence)))\n",
    "        seq_lens.append(len(sentence))\n",
    "    return padded_seqs, seq_lens\n",
    "\n",
    "def sparse_tuple_from(sequences, dtype=np.int32):\n",
    "    indices = []\n",
    "    values = []\n",
    "\n",
    "    for n, seq in enumerate(sequences):\n",
    "        indices.extend(zip([n] * len(seq), range(len(seq))))\n",
    "        values.extend(seq)\n",
    "\n",
    "    indices = np.asarray(indices, dtype=np.int64)\n",
    "    values = np.asarray(values, dtype=dtype)\n",
    "    shape = np.asarray([len(sequences), np.asarray(indices).max(0)[1] + 1], dtype=np.int64)\n",
    "\n",
    "    return indices, values, shape"
   ]
  },
  {
   "cell_type": "code",
   "execution_count": 10,
   "metadata": {},
   "outputs": [
    {
     "name": "stderr",
     "output_type": "stream",
     "text": [
      "minibatch loop: 100%|██████████| 88/88 [01:13<00:00,  1.31it/s, accuracy=0.0556, cost=172]\n",
      "minibatch loop: 100%|██████████| 88/88 [01:12<00:00,  1.29it/s, accuracy=0.0556, cost=116]\n",
      "minibatch loop: 100%|██████████| 88/88 [01:13<00:00,  1.31it/s, accuracy=0.0556, cost=90.3]\n",
      "minibatch loop: 100%|██████████| 88/88 [01:17<00:00,  1.19it/s, accuracy=0.111, cost=60.1] \n",
      "minibatch loop: 100%|██████████| 88/88 [01:19<00:00,  1.15it/s, accuracy=0.0556, cost=51.1]\n",
      "minibatch loop: 100%|██████████| 88/88 [01:22<00:00,  1.22it/s, accuracy=0.167, cost=37.2] \n",
      "minibatch loop: 100%|██████████| 88/88 [01:23<00:00,  1.14it/s, accuracy=0.167, cost=34.8] \n",
      "minibatch loop: 100%|██████████| 88/88 [01:24<00:00,  1.11it/s, accuracy=0.222, cost=27.4] \n",
      "minibatch loop: 100%|██████████| 88/88 [01:26<00:00,  1.10it/s, accuracy=0.5, cost=26.2]   \n",
      "minibatch loop: 100%|██████████| 88/88 [01:25<00:00,  1.15it/s, accuracy=0.5, cost=24.6]   \n",
      "minibatch loop: 100%|██████████| 88/88 [01:25<00:00,  1.14it/s, accuracy=0.5, cost=23.3]   \n",
      "minibatch loop: 100%|██████████| 88/88 [01:26<00:00,  1.08it/s, accuracy=0.5, cost=22.7]   \n",
      "minibatch loop: 100%|██████████| 88/88 [01:27<00:00,  1.07it/s, accuracy=0.722, cost=21.5] \n",
      "minibatch loop: 100%|██████████| 88/88 [01:27<00:00,  1.13it/s, accuracy=0.722, cost=20.1]\n",
      "minibatch loop: 100%|██████████| 88/88 [01:26<00:00,  1.06it/s, accuracy=0.778, cost=19.3]\n",
      "minibatch loop: 100%|██████████| 88/88 [01:25<00:00,  1.13it/s, accuracy=0.722, cost=18.6] \n",
      "minibatch loop: 100%|██████████| 88/88 [01:26<00:00,  1.09it/s, accuracy=0.722, cost=17.4]\n",
      "minibatch loop: 100%|██████████| 88/88 [01:26<00:00,  1.13it/s, accuracy=0.722, cost=17.3]\n",
      "minibatch loop: 100%|██████████| 88/88 [01:27<00:00,  1.10it/s, accuracy=0.722, cost=16.6]\n",
      "minibatch loop: 100%|██████████| 88/88 [01:27<00:00,  1.13it/s, accuracy=0.722, cost=16]  \n",
      "minibatch loop: 100%|██████████| 88/88 [01:26<00:00,  1.11it/s, accuracy=0.722, cost=15.7]\n",
      "minibatch loop: 100%|██████████| 88/88 [01:26<00:00,  1.12it/s, accuracy=0.722, cost=15.3]\n",
      "minibatch loop: 100%|██████████| 88/88 [01:27<00:00,  1.12it/s, accuracy=0.722, cost=15.1]\n",
      "minibatch loop: 100%|██████████| 88/88 [01:26<00:00,  1.07it/s, accuracy=0.722, cost=15.1]\n",
      "minibatch loop: 100%|██████████| 88/88 [01:25<00:00,  1.14it/s, accuracy=0.722, cost=14.6]\n",
      "minibatch loop: 100%|██████████| 88/88 [01:22<00:00,  1.57it/s, accuracy=0.722, cost=14.6]\n",
      "minibatch loop: 100%|██████████| 88/88 [01:01<00:00,  1.57it/s, accuracy=0.722, cost=14.4]\n",
      "minibatch loop: 100%|██████████| 88/88 [01:00<00:00,  1.61it/s, accuracy=0.722, cost=14]  \n",
      "minibatch loop: 100%|██████████| 88/88 [01:00<00:00,  1.53it/s, accuracy=0.722, cost=13.8]\n",
      "minibatch loop: 100%|██████████| 88/88 [01:00<00:00,  1.55it/s, accuracy=0.722, cost=13.6]\n",
      "minibatch loop: 100%|██████████| 88/88 [01:02<00:00,  1.56it/s, accuracy=0.722, cost=13.3]\n",
      "minibatch loop: 100%|██████████| 88/88 [01:01<00:00,  1.60it/s, accuracy=0.722, cost=13.4]\n",
      "minibatch loop: 100%|██████████| 88/88 [01:00<00:00,  1.67it/s, accuracy=0.722, cost=13.4]\n",
      "minibatch loop: 100%|██████████| 88/88 [01:00<00:00,  1.70it/s, accuracy=0.722, cost=13.4]\n",
      "minibatch loop: 100%|██████████| 88/88 [01:00<00:00,  1.57it/s, accuracy=0.722, cost=13]  \n",
      "minibatch loop: 100%|██████████| 88/88 [01:00<00:00,  1.55it/s, accuracy=0.722, cost=12.8]\n",
      "minibatch loop: 100%|██████████| 88/88 [01:00<00:00,  1.69it/s, accuracy=0.722, cost=12.9]\n",
      "minibatch loop: 100%|██████████| 88/88 [01:00<00:00,  1.68it/s, accuracy=0.722, cost=13.2]\n",
      "minibatch loop: 100%|██████████| 88/88 [01:00<00:00,  1.59it/s, accuracy=0.722, cost=13.1]\n",
      "minibatch loop: 100%|██████████| 88/88 [01:00<00:00,  1.60it/s, accuracy=0.722, cost=12.6]\n",
      "minibatch loop: 100%|██████████| 88/88 [00:59<00:00,  1.57it/s, accuracy=0.722, cost=12.8]\n",
      "minibatch loop: 100%|██████████| 88/88 [01:00<00:00,  1.60it/s, accuracy=0.722, cost=12.3]\n",
      "minibatch loop: 100%|██████████| 88/88 [01:00<00:00,  1.56it/s, accuracy=0.722, cost=12.5]\n",
      "minibatch loop: 100%|██████████| 88/88 [01:01<00:00,  1.62it/s, accuracy=0.722, cost=12.3]\n",
      "minibatch loop: 100%|██████████| 88/88 [01:00<00:00,  1.64it/s, accuracy=0.722, cost=12.3]\n",
      "minibatch loop: 100%|██████████| 88/88 [01:00<00:00,  1.66it/s, accuracy=0.722, cost=11.3]\n",
      "minibatch loop: 100%|██████████| 88/88 [01:00<00:00,  1.62it/s, accuracy=0.722, cost=11.3]\n",
      "minibatch loop: 100%|██████████| 88/88 [01:02<00:00,  1.51it/s, accuracy=0.722, cost=11.5]\n",
      "minibatch loop: 100%|██████████| 88/88 [01:01<00:00,  1.61it/s, accuracy=0.722, cost=11.4]\n",
      "minibatch loop: 100%|██████████| 88/88 [00:44<00:00,  2.19it/s, accuracy=0.722, cost=11.5]\n"
     ]
    }
   ],
   "source": [
    "for e in range(epoch):\n",
    "    pbar = tqdm(\n",
    "        range(0, len(inputs), batch_size), desc = 'minibatch loop')\n",
    "    for i in pbar:\n",
    "        batch_x = inputs[i : min(i + batch_size, len(inputs))]\n",
    "        y = targets[i : min(i + batch_size, len(inputs))]\n",
    "        batch_y = sparse_tuple_from(y)\n",
    "        batch_label, batch_len = pad_sentence_batch(y, 0)\n",
    "        _, cost, accuracy = sess.run(\n",
    "            [model.optimizer, model.cost, model.accuracy],\n",
    "            feed_dict = {model.X: batch_x, model.Y: batch_y, \n",
    "                         model.label: batch_label, model.Y_seq_len: batch_len},\n",
    "        )\n",
    "\n",
    "        accuracy = sess.run(model.accuracy, feed_dict = {model.X: batch_x[: 1],\n",
    "                                                            model.label: batch_label[: 1],\n",
    "                                                            model.Y_seq_len: batch_len[: 1]})\n",
    "        \n",
    "        \n",
    "        pbar.set_postfix(cost = cost, accuracy = np.mean(accuracy))"
   ]
  },
  {
   "cell_type": "code",
   "execution_count": 11,
   "metadata": {},
   "outputs": [
    {
     "name": "stdout",
     "output_type": "stream",
     "text": [
      "real: say the word doll\n",
      "predicted: say the word lal\n"
     ]
    }
   ],
   "source": [
    "import random\n",
    "\n",
    "random_index = random.randint(0, len(targets) - 1)\n",
    "batch_x = inputs[random_index : random_index + 1]\n",
    "print(\n",
    "    'real:',\n",
    "    ''.join(\n",
    "        [idx2char[no] for no in targets[random_index : random_index + 1][0]]\n",
    "    ),\n",
    ")\n",
    "batch_y = sparse_tuple_from(targets[random_index : random_index + 1])\n",
    "pred = sess.run(model.preds, feed_dict = {model.X: batch_x})[0]\n",
    "print('predicted:', ''.join([idx2char[no] for no in pred]))"
   ]
  },
  {
   "cell_type": "code",
   "execution_count": null,
   "metadata": {},
   "outputs": [],
   "source": []
  }
 ],
 "metadata": {
  "kernelspec": {
   "display_name": "Python 3",
   "language": "python",
   "name": "python3"
  },
  "language_info": {
   "codemirror_mode": {
    "name": "ipython",
    "version": 3
   },
   "file_extension": ".py",
   "mimetype": "text/x-python",
   "name": "python",
   "nbconvert_exporter": "python",
   "pygments_lexer": "ipython3",
   "version": "3.6.8"
  }
 },
 "nbformat": 4,
 "nbformat_minor": 2
}
