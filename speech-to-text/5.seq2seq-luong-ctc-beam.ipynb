{
 "cells": [
  {
   "cell_type": "code",
   "execution_count": 1,
   "metadata": {},
   "outputs": [],
   "source": [
    "import librosa\n",
    "import os\n",
    "import tensorflow as tf\n",
    "import numpy as np\n",
    "from tqdm import tqdm"
   ]
  },
  {
   "cell_type": "code",
   "execution_count": 2,
   "metadata": {},
   "outputs": [],
   "source": [
    "wav_files = [f for f in os.listdir('./data') if f.endswith('.wav')]\n",
    "text_files = [f for f in os.listdir('./data') if f.endswith('.txt')]"
   ]
  },
  {
   "cell_type": "code",
   "execution_count": 3,
   "metadata": {},
   "outputs": [
    {
     "name": "stderr",
     "output_type": "stream",
     "text": [
      "100%|██████████████████████████████████████| 2800/2800 [00:12<00:00, 219.47it/s]\n"
     ]
    }
   ],
   "source": [
    "inputs, targets = [], []\n",
    "for (wav_file, text_file) in tqdm(zip(wav_files, text_files), total = len(wav_files),ncols=80):\n",
    "    path = './data/' + wav_file\n",
    "    try:\n",
    "        y, sr = librosa.load(path, sr = None)\n",
    "    except:\n",
    "        continue\n",
    "    inputs.append(\n",
    "        librosa.feature.mfcc(\n",
    "            y = y, sr = sr, n_mfcc = 40, hop_length = int(0.05 * sr)\n",
    "        ).T\n",
    "    )\n",
    "    with open('./data/' + text_file) as f:\n",
    "        targets.append(f.read())\n"
   ]
  },
  {
   "cell_type": "code",
   "execution_count": 4,
   "metadata": {},
   "outputs": [],
   "source": [
    "inputs = tf.keras.preprocessing.sequence.pad_sequences(\n",
    "    inputs, dtype = 'float32', padding = 'post'\n",
    ")\n",
    "\n",
    "chars = list(set([c for target in targets for c in target]))\n",
    "num_classes = len(chars) + 2\n",
    "\n",
    "idx2char = {idx + 1: char for idx, char in enumerate(chars)}\n",
    "idx2char[0] = '<PAD>'\n",
    "char2idx = {char: idx for idx, char in idx2char.items()}\n",
    "\n",
    "targets = [[char2idx[c] for c in target] for target in targets]"
   ]
  },
  {
   "cell_type": "code",
   "execution_count": 5,
   "metadata": {},
   "outputs": [],
   "source": [
    "def pad_sentence_batch(sentence_batch, pad_int):\n",
    "    padded_seqs = []\n",
    "    seq_lens = []\n",
    "    max_sentence_len = max([len(sentence) for sentence in sentence_batch])\n",
    "    for sentence in sentence_batch:\n",
    "        padded_seqs.append(sentence + [pad_int] * (max_sentence_len - len(sentence)))\n",
    "        seq_lens.append(len(sentence))\n",
    "    return padded_seqs, seq_lens\n",
    "\n",
    "def sparse_tuple_from(sequences, dtype=np.int32):\n",
    "    indices = []\n",
    "    values = []\n",
    "\n",
    "    for n, seq in enumerate(sequences):\n",
    "        indices.extend(zip([n] * len(seq), range(len(seq))))\n",
    "        values.extend(seq)\n",
    "\n",
    "    indices = np.asarray(indices, dtype=np.int64)\n",
    "    values = np.asarray(values, dtype=dtype)\n",
    "    shape = np.asarray([len(sequences), np.asarray(indices).max(0)[1] + 1], dtype=np.int64)\n",
    "\n",
    "    return indices, values, shape"
   ]
  },
  {
   "cell_type": "code",
   "execution_count": 6,
   "metadata": {},
   "outputs": [],
   "source": [
    "def pad_second_dim(x, desired_size):\n",
    "    padding = tf.tile([[0]], tf.stack([tf.shape(x)[0], desired_size - tf.shape(x)[1]], 0))\n",
    "    return tf.concat([x, padding], 1)\n",
    "\n",
    "class Model:\n",
    "    def __init__(\n",
    "        self,\n",
    "        num_layers,\n",
    "        size_layers,\n",
    "        learning_rate,\n",
    "        num_features,\n",
    "        dropout = 1.0,\n",
    "    ):\n",
    "        self.X = tf.placeholder(tf.float32, [None, None, num_features])\n",
    "        self.Y = tf.sparse_placeholder(tf.int32)\n",
    "        batch_size = tf.shape(self.X)[0]\n",
    "        seq_lens = tf.count_nonzero(\n",
    "            tf.reduce_sum(self.X, -1), 1, dtype = tf.int32\n",
    "        )\n",
    "        self.label = tf.placeholder(tf.int32, [None, None])\n",
    "        self.Y_seq_len = tf.placeholder(tf.int32, [None])\n",
    "\n",
    "        def cells(reuse = False):\n",
    "            return tf.contrib.rnn.DropoutWrapper(\n",
    "                tf.nn.rnn_cell.LSTMCell(\n",
    "                    size_layers,\n",
    "                    initializer = tf.orthogonal_initializer(),\n",
    "                    reuse = reuse,\n",
    "                ),\n",
    "                state_keep_prob = dropout,\n",
    "                output_keep_prob = dropout,\n",
    "            )\n",
    "        def attention(encoder_out, seq_len, reuse=False):\n",
    "            attention_mechanism = tf.contrib.seq2seq.LuongAttention(num_units = size_layers, \n",
    "                                                                    memory = encoder_out,\n",
    "                                                                    memory_sequence_length = seq_len)\n",
    "            return tf.contrib.seq2seq.AttentionWrapper(\n",
    "            cell = tf.nn.rnn_cell.MultiRNNCell([cells(reuse) for _ in range(num_layers)]), \n",
    "                attention_mechanism = attention_mechanism,\n",
    "                attention_layer_size = size_layers)\n",
    "\n",
    "        encoder_cells = tf.nn.rnn_cell.MultiRNNCell([cells() for _ in range(num_layers)])\n",
    "        encoder_out, encoder_state = tf.nn.dynamic_rnn(cell = encoder_cells, \n",
    "                                                                 inputs = self.X, \n",
    "                                                                 sequence_length = seq_lens,\n",
    "                                                                 dtype = tf.float32)\n",
    "        \n",
    "        encoder_state = tuple(encoder_state[-1] for _ in range(num_layers))\n",
    "        main = tf.strided_slice(self.X, [0, 0, 0], [batch_size, -1, num_features], [1, 1, 1])\n",
    "        decoder_input = tf.concat([tf.fill([batch_size, 1, num_features], 0.0), main], 1)\n",
    "        decoder_cell = attention(encoder_out, seq_lens)\n",
    "        dense_layer = tf.layers.Dense(num_classes)\n",
    "        \n",
    "        training_helper = tf.contrib.seq2seq.TrainingHelper(\n",
    "                inputs = decoder_input,\n",
    "                sequence_length = seq_lens,\n",
    "                time_major = False)\n",
    "        training_decoder = tf.contrib.seq2seq.BasicDecoder(\n",
    "                cell = decoder_cell,\n",
    "                helper = training_helper,\n",
    "                initial_state = decoder_cell.zero_state(batch_size, tf.float32).clone(cell_state=encoder_state),\n",
    "                output_layer = dense_layer)\n",
    "        training_decoder_output, _, _ = tf.contrib.seq2seq.dynamic_decode(\n",
    "                decoder = training_decoder,\n",
    "                impute_finished = True,\n",
    "                maximum_iterations = tf.reduce_max(seq_lens))\n",
    "        \n",
    "        logits = training_decoder_output.rnn_output\n",
    "        time_major = tf.transpose(logits, [1, 0, 2])\n",
    "        decoded, log_prob = tf.nn.ctc_beam_search_decoder(time_major, seq_lens)\n",
    "        decoded = tf.to_int32(decoded[0])\n",
    "        self.preds = tf.sparse.to_dense(decoded)\n",
    "        self.cost = tf.reduce_mean(\n",
    "            tf.nn.ctc_loss(\n",
    "                self.Y,\n",
    "                time_major,\n",
    "                seq_lens,\n",
    "                ignore_longer_outputs_than_inputs = True,\n",
    "            )\n",
    "        )\n",
    "        self.optimizer = tf.train.AdamOptimizer(\n",
    "            learning_rate = learning_rate\n",
    "        ).minimize(self.cost)\n",
    "        \n",
    "        preds = self.preds[:, :tf.reduce_max(self.Y_seq_len)]\n",
    "        masks = tf.sequence_mask(self.Y_seq_len, tf.reduce_max(self.Y_seq_len), dtype=tf.float32)\n",
    "        preds = pad_second_dim(preds, tf.reduce_max(self.Y_seq_len))\n",
    "        y_t = tf.cast(preds, tf.int32)\n",
    "        self.prediction = tf.boolean_mask(y_t, masks)\n",
    "        mask_label = tf.boolean_mask(self.label, masks)\n",
    "        self.mask_label = mask_label\n",
    "        correct_pred = tf.equal(self.prediction, mask_label)\n",
    "        correct_index = tf.cast(correct_pred, tf.float32)\n",
    "        self.accuracy = tf.reduce_mean(tf.cast(correct_pred, tf.float32))"
   ]
  },
  {
   "cell_type": "code",
   "execution_count": 7,
   "metadata": {},
   "outputs": [
    {
     "name": "stdout",
     "output_type": "stream",
     "text": [
      "WARNING:tensorflow:From /usr/local/lib/python3.6/dist-packages/tensorflow/python/ops/sparse_ops.py:1165: sparse_to_dense (from tensorflow.python.ops.sparse_ops) is deprecated and will be removed in a future version.\n",
      "Instructions for updating:\n",
      "Create a `tf.sparse.SparseTensor` and use `tf.sparse.to_dense` instead.\n"
     ]
    }
   ],
   "source": [
    "tf.reset_default_graph()\n",
    "sess = tf.InteractiveSession()\n",
    "\n",
    "size_layers = 128\n",
    "learning_rate = 1e-3\n",
    "num_layers = 2\n",
    "batch_size = 32\n",
    "epoch = 50\n",
    "\n",
    "model = Model(num_layers, size_layers, learning_rate, inputs.shape[2])\n",
    "sess.run(tf.global_variables_initializer())"
   ]
  },
  {
   "cell_type": "code",
   "execution_count": 8,
   "metadata": {},
   "outputs": [
    {
     "name": "stderr",
     "output_type": "stream",
     "text": [
      "minibatch loop: 100%|██████████| 88/88 [00:21<00:00,  4.01it/s, accuracy=0.759, cost=14.7]  \n",
      "minibatch loop:   0%|          | 0/88 [00:00<?, ?it/s]"
     ]
    },
    {
     "name": "stdout",
     "output_type": "stream",
     "text": [
      "epoch 1, average cost 28.954512, average accuracy 0.474722\n"
     ]
    },
    {
     "name": "stderr",
     "output_type": "stream",
     "text": [
      "minibatch loop: 100%|██████████| 88/88 [00:25<00:00,  3.84it/s, accuracy=0.759, cost=12.5]\n",
      "minibatch loop:   0%|          | 0/88 [00:00<?, ?it/s]"
     ]
    },
    {
     "name": "stdout",
     "output_type": "stream",
     "text": [
      "epoch 2, average cost 13.560814, average accuracy 0.764940\n"
     ]
    },
    {
     "name": "stderr",
     "output_type": "stream",
     "text": [
      "minibatch loop: 100%|██████████| 88/88 [00:25<00:00,  3.84it/s, accuracy=0.781, cost=11.8]\n",
      "minibatch loop:   0%|          | 0/88 [00:00<?, ?it/s]"
     ]
    },
    {
     "name": "stdout",
     "output_type": "stream",
     "text": [
      "epoch 3, average cost 12.554309, average accuracy 0.772313\n"
     ]
    },
    {
     "name": "stderr",
     "output_type": "stream",
     "text": [
      "minibatch loop: 100%|██████████| 88/88 [00:26<00:00,  3.72it/s, accuracy=0.77, cost=11.8] \n",
      "minibatch loop:   0%|          | 0/88 [00:00<?, ?it/s]"
     ]
    },
    {
     "name": "stdout",
     "output_type": "stream",
     "text": [
      "epoch 4, average cost 12.073412, average accuracy 0.779149\n"
     ]
    },
    {
     "name": "stderr",
     "output_type": "stream",
     "text": [
      "minibatch loop: 100%|██████████| 88/88 [00:26<00:00,  3.73it/s, accuracy=0.781, cost=11.6]\n",
      "minibatch loop:   0%|          | 0/88 [00:00<?, ?it/s]"
     ]
    },
    {
     "name": "stdout",
     "output_type": "stream",
     "text": [
      "epoch 5, average cost 11.822980, average accuracy 0.779793\n"
     ]
    },
    {
     "name": "stderr",
     "output_type": "stream",
     "text": [
      "minibatch loop: 100%|██████████| 88/88 [00:26<00:00,  3.71it/s, accuracy=0.781, cost=10.9]\n",
      "minibatch loop:   0%|          | 0/88 [00:00<?, ?it/s]"
     ]
    },
    {
     "name": "stdout",
     "output_type": "stream",
     "text": [
      "epoch 6, average cost 11.670199, average accuracy 0.781180\n"
     ]
    },
    {
     "name": "stderr",
     "output_type": "stream",
     "text": [
      "minibatch loop: 100%|██████████| 88/88 [00:26<00:00,  3.67it/s, accuracy=0.792, cost=11.1]\n",
      "minibatch loop:   0%|          | 0/88 [00:00<?, ?it/s]"
     ]
    },
    {
     "name": "stdout",
     "output_type": "stream",
     "text": [
      "epoch 7, average cost 11.499091, average accuracy 0.782418\n"
     ]
    },
    {
     "name": "stderr",
     "output_type": "stream",
     "text": [
      "minibatch loop: 100%|██████████| 88/88 [00:26<00:00,  3.82it/s, accuracy=0.788, cost=11.4]\n",
      "minibatch loop:   0%|          | 0/88 [00:00<?, ?it/s]"
     ]
    },
    {
     "name": "stdout",
     "output_type": "stream",
     "text": [
      "epoch 8, average cost 11.310934, average accuracy 0.784449\n"
     ]
    },
    {
     "name": "stderr",
     "output_type": "stream",
     "text": [
      "minibatch loop: 100%|██████████| 88/88 [00:26<00:00,  3.75it/s, accuracy=0.774, cost=11.2]\n",
      "minibatch loop:   0%|          | 0/88 [00:00<?, ?it/s]"
     ]
    },
    {
     "name": "stdout",
     "output_type": "stream",
     "text": [
      "epoch 9, average cost 11.279242, average accuracy 0.784494\n"
     ]
    },
    {
     "name": "stderr",
     "output_type": "stream",
     "text": [
      "minibatch loop: 100%|██████████| 88/88 [00:28<00:00,  3.46it/s, accuracy=0.781, cost=10.9]\n",
      "minibatch loop:   0%|          | 0/88 [00:00<?, ?it/s]"
     ]
    },
    {
     "name": "stdout",
     "output_type": "stream",
     "text": [
      "epoch 10, average cost 11.301247, average accuracy 0.785899\n"
     ]
    },
    {
     "name": "stderr",
     "output_type": "stream",
     "text": [
      "minibatch loop: 100%|██████████| 88/88 [00:27<00:00,  3.69it/s, accuracy=0.774, cost=10.8]\n",
      "minibatch loop:   0%|          | 0/88 [00:00<?, ?it/s]"
     ]
    },
    {
     "name": "stdout",
     "output_type": "stream",
     "text": [
      "epoch 11, average cost 11.333272, average accuracy 0.782668\n"
     ]
    },
    {
     "name": "stderr",
     "output_type": "stream",
     "text": [
      "minibatch loop: 100%|██████████| 88/88 [00:27<00:00,  3.68it/s, accuracy=0.777, cost=10.6]\n",
      "minibatch loop:   0%|          | 0/88 [00:00<?, ?it/s]"
     ]
    },
    {
     "name": "stdout",
     "output_type": "stream",
     "text": [
      "epoch 12, average cost 11.065267, average accuracy 0.786751\n"
     ]
    },
    {
     "name": "stderr",
     "output_type": "stream",
     "text": [
      "minibatch loop: 100%|██████████| 88/88 [00:27<00:00,  3.68it/s, accuracy=0.781, cost=10.8]\n",
      "minibatch loop:   0%|          | 0/88 [00:00<?, ?it/s]"
     ]
    },
    {
     "name": "stdout",
     "output_type": "stream",
     "text": [
      "epoch 13, average cost 11.007693, average accuracy 0.787468\n"
     ]
    },
    {
     "name": "stderr",
     "output_type": "stream",
     "text": [
      "minibatch loop: 100%|██████████| 88/88 [00:26<00:00,  3.73it/s, accuracy=0.785, cost=10.6]\n",
      "minibatch loop:   0%|          | 0/88 [00:00<?, ?it/s]"
     ]
    },
    {
     "name": "stdout",
     "output_type": "stream",
     "text": [
      "epoch 14, average cost 11.034194, average accuracy 0.783254\n"
     ]
    },
    {
     "name": "stderr",
     "output_type": "stream",
     "text": [
      "minibatch loop: 100%|██████████| 88/88 [00:26<00:00,  3.68it/s, accuracy=0.781, cost=10.6]\n",
      "minibatch loop:   0%|          | 0/88 [00:00<?, ?it/s]"
     ]
    },
    {
     "name": "stdout",
     "output_type": "stream",
     "text": [
      "epoch 15, average cost 10.856945, average accuracy 0.788004\n"
     ]
    },
    {
     "name": "stderr",
     "output_type": "stream",
     "text": [
      "minibatch loop: 100%|██████████| 88/88 [00:26<00:00,  3.67it/s, accuracy=0.781, cost=10.6]\n",
      "minibatch loop:   0%|          | 0/88 [00:00<?, ?it/s]"
     ]
    },
    {
     "name": "stdout",
     "output_type": "stream",
     "text": [
      "epoch 16, average cost 10.819363, average accuracy 0.788589\n"
     ]
    },
    {
     "name": "stderr",
     "output_type": "stream",
     "text": [
      "minibatch loop: 100%|██████████| 88/88 [00:26<00:00,  3.69it/s, accuracy=0.781, cost=10.5]\n",
      "minibatch loop:   0%|          | 0/88 [00:00<?, ?it/s]"
     ]
    },
    {
     "name": "stdout",
     "output_type": "stream",
     "text": [
      "epoch 17, average cost 10.789283, average accuracy 0.789006\n"
     ]
    },
    {
     "name": "stderr",
     "output_type": "stream",
     "text": [
      "minibatch loop: 100%|██████████| 88/88 [00:26<00:00,  3.65it/s, accuracy=0.788, cost=10.5]\n",
      "minibatch loop:   0%|          | 0/88 [00:00<?, ?it/s]"
     ]
    },
    {
     "name": "stdout",
     "output_type": "stream",
     "text": [
      "epoch 18, average cost 10.764857, average accuracy 0.789215\n"
     ]
    },
    {
     "name": "stderr",
     "output_type": "stream",
     "text": [
      "minibatch loop: 100%|██████████| 88/88 [00:26<00:00,  3.67it/s, accuracy=0.785, cost=10.4]\n",
      "minibatch loop:   0%|          | 0/88 [00:00<?, ?it/s]"
     ]
    },
    {
     "name": "stdout",
     "output_type": "stream",
     "text": [
      "epoch 19, average cost 10.737970, average accuracy 0.789924\n"
     ]
    },
    {
     "name": "stderr",
     "output_type": "stream",
     "text": [
      "minibatch loop: 100%|██████████| 88/88 [00:27<00:00,  3.67it/s, accuracy=0.788, cost=10.3]\n",
      "minibatch loop:   0%|          | 0/88 [00:00<?, ?it/s]"
     ]
    },
    {
     "name": "stdout",
     "output_type": "stream",
     "text": [
      "epoch 20, average cost 10.712514, average accuracy 0.790092\n"
     ]
    },
    {
     "name": "stderr",
     "output_type": "stream",
     "text": [
      "minibatch loop: 100%|██████████| 88/88 [00:27<00:00,  3.64it/s, accuracy=0.788, cost=10.3]\n",
      "minibatch loop:   0%|          | 0/88 [00:00<?, ?it/s]"
     ]
    },
    {
     "name": "stdout",
     "output_type": "stream",
     "text": [
      "epoch 21, average cost 10.684534, average accuracy 0.790865\n"
     ]
    },
    {
     "name": "stderr",
     "output_type": "stream",
     "text": [
      "minibatch loop: 100%|██████████| 88/88 [00:27<00:00,  3.66it/s, accuracy=0.796, cost=10.1]\n",
      "minibatch loop:   0%|          | 0/88 [00:00<?, ?it/s]"
     ]
    },
    {
     "name": "stdout",
     "output_type": "stream",
     "text": [
      "epoch 22, average cost 10.665353, average accuracy 0.792060\n"
     ]
    },
    {
     "name": "stderr",
     "output_type": "stream",
     "text": [
      "minibatch loop: 100%|██████████| 88/88 [00:27<00:00,  3.66it/s, accuracy=0.796, cost=10]  \n",
      "minibatch loop:   0%|          | 0/88 [00:00<?, ?it/s]"
     ]
    },
    {
     "name": "stdout",
     "output_type": "stream",
     "text": [
      "epoch 23, average cost 10.629470, average accuracy 0.791787\n"
     ]
    },
    {
     "name": "stderr",
     "output_type": "stream",
     "text": [
      "minibatch loop: 100%|██████████| 88/88 [00:27<00:00,  3.63it/s, accuracy=0.799, cost=9.9] \n",
      "minibatch loop:   0%|          | 0/88 [00:00<?, ?it/s]"
     ]
    },
    {
     "name": "stdout",
     "output_type": "stream",
     "text": [
      "epoch 24, average cost 10.590725, average accuracy 0.792789\n"
     ]
    },
    {
     "name": "stderr",
     "output_type": "stream",
     "text": [
      "minibatch loop: 100%|██████████| 88/88 [00:27<00:00,  3.58it/s, accuracy=0.796, cost=9.85]\n",
      "minibatch loop:   0%|          | 0/88 [00:00<?, ?it/s]"
     ]
    },
    {
     "name": "stdout",
     "output_type": "stream",
     "text": [
      "epoch 25, average cost 10.548980, average accuracy 0.793375\n"
     ]
    },
    {
     "name": "stderr",
     "output_type": "stream",
     "text": [
      "minibatch loop: 100%|██████████| 88/88 [00:27<00:00,  3.57it/s, accuracy=0.799, cost=9.67]\n",
      "minibatch loop:   0%|          | 0/88 [00:00<?, ?it/s]"
     ]
    },
    {
     "name": "stdout",
     "output_type": "stream",
     "text": [
      "epoch 26, average cost 10.505074, average accuracy 0.794210\n"
     ]
    },
    {
     "name": "stderr",
     "output_type": "stream",
     "text": [
      "minibatch loop: 100%|██████████| 88/88 [00:27<00:00,  3.57it/s, accuracy=0.807, cost=9.48]\n",
      "minibatch loop:   0%|          | 0/88 [00:00<?, ?it/s]"
     ]
    },
    {
     "name": "stdout",
     "output_type": "stream",
     "text": [
      "epoch 27, average cost 10.462890, average accuracy 0.795566\n"
     ]
    },
    {
     "name": "stderr",
     "output_type": "stream",
     "text": [
      "minibatch loop: 100%|██████████| 88/88 [00:27<00:00,  3.59it/s, accuracy=0.81, cost=9.27] \n",
      "minibatch loop:   0%|          | 0/88 [00:00<?, ?it/s]"
     ]
    },
    {
     "name": "stdout",
     "output_type": "stream",
     "text": [
      "epoch 28, average cost 10.416927, average accuracy 0.796528\n"
     ]
    },
    {
     "name": "stderr",
     "output_type": "stream",
     "text": [
      "minibatch loop: 100%|██████████| 88/88 [00:27<00:00,  3.60it/s, accuracy=0.818, cost=9.17]\n",
      "minibatch loop:   0%|          | 0/88 [00:00<?, ?it/s]"
     ]
    },
    {
     "name": "stdout",
     "output_type": "stream",
     "text": [
      "epoch 29, average cost 10.350433, average accuracy 0.797989\n"
     ]
    },
    {
     "name": "stderr",
     "output_type": "stream",
     "text": [
      "minibatch loop: 100%|██████████| 88/88 [00:27<00:00,  3.61it/s, accuracy=0.807, cost=9.13]\n",
      "minibatch loop:   0%|          | 0/88 [00:00<?, ?it/s]"
     ]
    },
    {
     "name": "stdout",
     "output_type": "stream",
     "text": [
      "epoch 30, average cost 10.307561, average accuracy 0.798787\n"
     ]
    },
    {
     "name": "stderr",
     "output_type": "stream",
     "text": [
      "minibatch loop: 100%|██████████| 88/88 [00:27<00:00,  3.59it/s, accuracy=0.81, cost=8.95] \n",
      "minibatch loop:   0%|          | 0/88 [00:00<?, ?it/s]"
     ]
    },
    {
     "name": "stdout",
     "output_type": "stream",
     "text": [
      "epoch 31, average cost 10.227349, average accuracy 0.799846\n"
     ]
    },
    {
     "name": "stderr",
     "output_type": "stream",
     "text": [
      "minibatch loop: 100%|██████████| 88/88 [00:27<00:00,  3.60it/s, accuracy=0.814, cost=9]   \n",
      "minibatch loop:   0%|          | 0/88 [00:00<?, ?it/s]"
     ]
    },
    {
     "name": "stdout",
     "output_type": "stream",
     "text": [
      "epoch 32, average cost 10.227002, average accuracy 0.800498\n"
     ]
    },
    {
     "name": "stderr",
     "output_type": "stream",
     "text": [
      "minibatch loop: 100%|██████████| 88/88 [00:27<00:00,  3.63it/s, accuracy=0.814, cost=8.74]\n",
      "minibatch loop:   0%|          | 0/88 [00:00<?, ?it/s]"
     ]
    },
    {
     "name": "stdout",
     "output_type": "stream",
     "text": [
      "epoch 33, average cost 10.164221, average accuracy 0.800475\n"
     ]
    },
    {
     "name": "stderr",
     "output_type": "stream",
     "text": [
      "minibatch loop: 100%|██████████| 88/88 [00:27<00:00,  3.60it/s, accuracy=0.821, cost=8.56]\n",
      "minibatch loop:   0%|          | 0/88 [00:00<?, ?it/s]"
     ]
    },
    {
     "name": "stdout",
     "output_type": "stream",
     "text": [
      "epoch 34, average cost 10.082631, average accuracy 0.802164\n"
     ]
    },
    {
     "name": "stderr",
     "output_type": "stream",
     "text": [
      "minibatch loop: 100%|██████████| 88/88 [00:27<00:00,  3.61it/s, accuracy=0.814, cost=8.55]\n",
      "minibatch loop:   0%|          | 0/88 [00:00<?, ?it/s]"
     ]
    },
    {
     "name": "stdout",
     "output_type": "stream",
     "text": [
      "epoch 35, average cost 9.980800, average accuracy 0.803523\n"
     ]
    },
    {
     "name": "stderr",
     "output_type": "stream",
     "text": [
      "minibatch loop: 100%|██████████| 88/88 [00:27<00:00,  3.61it/s, accuracy=0.818, cost=8.3] \n",
      "minibatch loop:   0%|          | 0/88 [00:00<?, ?it/s]"
     ]
    },
    {
     "name": "stdout",
     "output_type": "stream",
     "text": [
      "epoch 36, average cost 9.911133, average accuracy 0.804123\n"
     ]
    },
    {
     "name": "stderr",
     "output_type": "stream",
     "text": [
      "minibatch loop: 100%|██████████| 88/88 [00:27<00:00,  3.61it/s, accuracy=0.818, cost=8.29]\n",
      "minibatch loop:   0%|          | 0/88 [00:00<?, ?it/s]"
     ]
    },
    {
     "name": "stdout",
     "output_type": "stream",
     "text": [
      "epoch 37, average cost 9.822504, average accuracy 0.806151\n"
     ]
    },
    {
     "name": "stderr",
     "output_type": "stream",
     "text": [
      "minibatch loop: 100%|██████████| 88/88 [00:27<00:00,  3.65it/s, accuracy=0.828, cost=8.05]\n",
      "minibatch loop:   0%|          | 0/88 [00:00<?, ?it/s]"
     ]
    },
    {
     "name": "stdout",
     "output_type": "stream",
     "text": [
      "epoch 38, average cost 9.743921, average accuracy 0.807805\n"
     ]
    },
    {
     "name": "stderr",
     "output_type": "stream",
     "text": [
      "minibatch loop: 100%|██████████| 88/88 [00:27<00:00,  3.63it/s, accuracy=0.828, cost=8.08]\n",
      "minibatch loop:   0%|          | 0/88 [00:00<?, ?it/s]"
     ]
    },
    {
     "name": "stdout",
     "output_type": "stream",
     "text": [
      "epoch 39, average cost 9.671798, average accuracy 0.808089\n"
     ]
    },
    {
     "name": "stderr",
     "output_type": "stream",
     "text": [
      "minibatch loop: 100%|██████████| 88/88 [00:27<00:00,  3.65it/s, accuracy=0.825, cost=7.79]\n",
      "minibatch loop:   0%|          | 0/88 [00:00<?, ?it/s]"
     ]
    },
    {
     "name": "stdout",
     "output_type": "stream",
     "text": [
      "epoch 40, average cost 9.563926, average accuracy 0.809651\n"
     ]
    },
    {
     "name": "stderr",
     "output_type": "stream",
     "text": [
      "minibatch loop: 100%|██████████| 88/88 [00:26<00:00,  3.69it/s, accuracy=0.825, cost=7.49]\n",
      "minibatch loop:   0%|          | 0/88 [00:00<?, ?it/s]"
     ]
    },
    {
     "name": "stdout",
     "output_type": "stream",
     "text": [
      "epoch 41, average cost 9.442696, average accuracy 0.812770\n"
     ]
    },
    {
     "name": "stderr",
     "output_type": "stream",
     "text": [
      "minibatch loop: 100%|██████████| 88/88 [00:26<00:00,  3.68it/s, accuracy=0.847, cost=7.28]\n",
      "minibatch loop:   0%|          | 0/88 [00:00<?, ?it/s]"
     ]
    },
    {
     "name": "stdout",
     "output_type": "stream",
     "text": [
      "epoch 42, average cost 9.336394, average accuracy 0.813768\n"
     ]
    },
    {
     "name": "stderr",
     "output_type": "stream",
     "text": [
      "minibatch loop: 100%|██████████| 88/88 [00:26<00:00,  3.65it/s, accuracy=0.858, cost=7.09]\n",
      "minibatch loop:   0%|          | 0/88 [00:00<?, ?it/s]"
     ]
    },
    {
     "name": "stdout",
     "output_type": "stream",
     "text": [
      "epoch 43, average cost 9.288376, average accuracy 0.814779\n"
     ]
    },
    {
     "name": "stderr",
     "output_type": "stream",
     "text": [
      "minibatch loop: 100%|██████████| 88/88 [00:26<00:00,  3.68it/s, accuracy=0.858, cost=7.12]\n",
      "minibatch loop:   0%|          | 0/88 [00:00<?, ?it/s]"
     ]
    },
    {
     "name": "stdout",
     "output_type": "stream",
     "text": [
      "epoch 44, average cost 9.203541, average accuracy 0.815950\n"
     ]
    },
    {
     "name": "stderr",
     "output_type": "stream",
     "text": [
      "minibatch loop: 100%|██████████| 88/88 [00:26<00:00,  3.72it/s, accuracy=0.865, cost=6.69]\n",
      "minibatch loop:   0%|          | 0/88 [00:00<?, ?it/s]"
     ]
    },
    {
     "name": "stdout",
     "output_type": "stream",
     "text": [
      "epoch 45, average cost 9.069250, average accuracy 0.817737\n"
     ]
    },
    {
     "name": "stderr",
     "output_type": "stream",
     "text": [
      "minibatch loop: 100%|██████████| 88/88 [00:26<00:00,  3.72it/s, accuracy=0.88, cost=6.53] \n",
      "minibatch loop:   0%|          | 0/88 [00:00<?, ?it/s]"
     ]
    },
    {
     "name": "stdout",
     "output_type": "stream",
     "text": [
      "epoch 46, average cost 8.892698, average accuracy 0.819747\n"
     ]
    },
    {
     "name": "stderr",
     "output_type": "stream",
     "text": [
      "minibatch loop: 100%|██████████| 88/88 [00:26<00:00,  3.74it/s, accuracy=0.858, cost=6.47]\n",
      "minibatch loop:   0%|          | 0/88 [00:00<?, ?it/s]"
     ]
    },
    {
     "name": "stdout",
     "output_type": "stream",
     "text": [
      "epoch 47, average cost 8.764017, average accuracy 0.821836\n"
     ]
    },
    {
     "name": "stderr",
     "output_type": "stream",
     "text": [
      "minibatch loop: 100%|██████████| 88/88 [00:26<00:00,  3.73it/s, accuracy=0.869, cost=6.31]\n",
      "minibatch loop:   0%|          | 0/88 [00:00<?, ?it/s]"
     ]
    },
    {
     "name": "stdout",
     "output_type": "stream",
     "text": [
      "epoch 48, average cost 8.635088, average accuracy 0.824282\n"
     ]
    },
    {
     "name": "stderr",
     "output_type": "stream",
     "text": [
      "minibatch loop: 100%|██████████| 88/88 [00:26<00:00,  3.72it/s, accuracy=0.872, cost=6.06]\n",
      "minibatch loop:   0%|          | 0/88 [00:00<?, ?it/s]"
     ]
    },
    {
     "name": "stdout",
     "output_type": "stream",
     "text": [
      "epoch 49, average cost 8.558199, average accuracy 0.826077\n"
     ]
    },
    {
     "name": "stderr",
     "output_type": "stream",
     "text": [
      "minibatch loop: 100%|██████████| 88/88 [00:26<00:00,  3.75it/s, accuracy=0.872, cost=5.72]"
     ]
    },
    {
     "name": "stdout",
     "output_type": "stream",
     "text": [
      "epoch 50, average cost 8.425240, average accuracy 0.829195\n"
     ]
    },
    {
     "name": "stderr",
     "output_type": "stream",
     "text": [
      "\n"
     ]
    }
   ],
   "source": [
    "for e in range(epoch):\n",
    "    pbar = tqdm(\n",
    "        range(0, len(inputs), batch_size), desc = 'minibatch loop')\n",
    "    total_cost, total_accuracy = 0, 0\n",
    "    for i in pbar:\n",
    "        batch_x = inputs[i : min(i + batch_size, len(inputs))]\n",
    "        y = targets[i : min(i + batch_size, len(inputs))]\n",
    "        batch_y = sparse_tuple_from(y)\n",
    "        batch_label, batch_len = pad_sentence_batch(y, 0)\n",
    "        _, cost, accuracy = sess.run(\n",
    "            [model.optimizer, model.cost, model.accuracy],\n",
    "            feed_dict = {model.X: batch_x, model.Y: batch_y, \n",
    "                         model.label: batch_label, model.Y_seq_len: batch_len},\n",
    "        )\n",
    "        total_cost += cost\n",
    "        total_accuracy += accuracy\n",
    "        pbar.set_postfix(cost = cost, accuracy = accuracy)\n",
    "    total_cost /= (len(inputs) / batch_size)\n",
    "    total_accuracy /= (len(inputs) / batch_size)\n",
    "    print('epoch %d, average cost %f, average accuracy %f'%(e + 1, total_cost, total_accuracy))"
   ]
  },
  {
   "cell_type": "code",
   "execution_count": 9,
   "metadata": {},
   "outputs": [
    {
     "name": "stdout",
     "output_type": "stream",
     "text": [
      "real: say the word third\n",
      "predicted: say the word tig\n"
     ]
    }
   ],
   "source": [
    "import random\n",
    "\n",
    "random_index = random.randint(0, len(targets) - 1)\n",
    "batch_x = inputs[random_index : random_index + 1]\n",
    "print(\n",
    "    'real:',\n",
    "    ''.join(\n",
    "        [idx2char[no] for no in targets[random_index : random_index + 1][0]]\n",
    "    ),\n",
    ")\n",
    "batch_y = sparse_tuple_from(targets[random_index : random_index + 1])\n",
    "pred = sess.run(model.preds, feed_dict = {model.X: batch_x})[0]\n",
    "print('predicted:', ''.join([idx2char[no] for no in pred]))"
   ]
  },
  {
   "cell_type": "code",
   "execution_count": null,
   "metadata": {},
   "outputs": [],
   "source": []
  }
 ],
 "metadata": {
  "kernelspec": {
   "display_name": "Python 3",
   "language": "python",
   "name": "python3"
  },
  "language_info": {
   "codemirror_mode": {
    "name": "ipython",
    "version": 3
   },
   "file_extension": ".py",
   "mimetype": "text/x-python",
   "name": "python",
   "nbconvert_exporter": "python",
   "pygments_lexer": "ipython3",
   "version": "3.6.8"
  }
 },
 "nbformat": 4,
 "nbformat_minor": 2
}
