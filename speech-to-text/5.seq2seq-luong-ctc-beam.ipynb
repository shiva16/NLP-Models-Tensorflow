{
 "cells": [
  {
   "cell_type": "code",
   "execution_count": 1,
   "metadata": {},
   "outputs": [],
   "source": [
    "import librosa\n",
    "import os\n",
    "import tensorflow as tf\n",
    "import numpy as np\n",
    "from tqdm import tqdm"
   ]
  },
  {
   "cell_type": "code",
   "execution_count": 2,
   "metadata": {},
   "outputs": [],
   "source": [
    "wav_files = [f for f in os.listdir('./data') if f.endswith('.wav')]\n",
    "text_files = [f for f in os.listdir('./data') if f.endswith('.txt')]"
   ]
  },
  {
   "cell_type": "code",
   "execution_count": 3,
   "metadata": {},
   "outputs": [
    {
     "name": "stderr",
     "output_type": "stream",
     "text": [
      "100%|███████████████████████████████████████| 2800/2800 [00:49<00:00, 56.62it/s]\n"
     ]
    }
   ],
   "source": [
    "inputs, targets = [], []\n",
    "for (wav_file, text_file) in tqdm(zip(wav_files, text_files), total = len(wav_files),ncols=80):\n",
    "    path = './data/' + wav_file\n",
    "    try:\n",
    "        y, sr = librosa.load(path, sr = None)\n",
    "    except:\n",
    "        continue\n",
    "    inputs.append(\n",
    "        librosa.feature.mfcc(\n",
    "            y = y, sr = sr, n_mfcc = 40, hop_length = int(0.05 * sr)\n",
    "        ).T\n",
    "    )\n",
    "    with open('./data/' + text_file) as f:\n",
    "        targets.append(f.read())\n"
   ]
  },
  {
   "cell_type": "code",
   "execution_count": 4,
   "metadata": {},
   "outputs": [],
   "source": [
    "inputs = tf.keras.preprocessing.sequence.pad_sequences(\n",
    "    inputs, dtype = 'float32', padding = 'post'\n",
    ")\n",
    "\n",
    "chars = list(set([c for target in targets for c in target]))\n",
    "num_classes = len(chars) + 1\n",
    "\n",
    "idx2char = {idx: char for idx, char in enumerate(chars)}\n",
    "char2idx = {char: idx for idx, char in idx2char.items()}\n",
    "\n",
    "targets = [[char2idx[c] for c in target] for target in targets]"
   ]
  },
  {
   "cell_type": "code",
   "execution_count": 5,
   "metadata": {},
   "outputs": [],
   "source": [
    "def pad_sentence_batch(sentence_batch, pad_int):\n",
    "    padded_seqs = []\n",
    "    seq_lens = []\n",
    "    max_sentence_len = max([len(sentence) for sentence in sentence_batch])\n",
    "    for sentence in sentence_batch:\n",
    "        padded_seqs.append(sentence + [pad_int] * (max_sentence_len - len(sentence)))\n",
    "        seq_lens.append(len(sentence))\n",
    "    return padded_seqs, seq_lens\n",
    "\n",
    "def sparse_tuple_from(sequences, dtype=np.int32):\n",
    "    indices = []\n",
    "    values = []\n",
    "\n",
    "    for n, seq in enumerate(sequences):\n",
    "        indices.extend(zip([n] * len(seq), range(len(seq))))\n",
    "        values.extend(seq)\n",
    "\n",
    "    indices = np.asarray(indices, dtype=np.int64)\n",
    "    values = np.asarray(values, dtype=dtype)\n",
    "    shape = np.asarray([len(sequences), np.asarray(indices).max(0)[1] + 1], dtype=np.int64)\n",
    "\n",
    "    return indices, values, shape"
   ]
  },
  {
   "cell_type": "code",
   "execution_count": 6,
   "metadata": {},
   "outputs": [],
   "source": [
    "class Model:\n",
    "    def __init__(\n",
    "        self,\n",
    "        num_layers,\n",
    "        size_layers,\n",
    "        learning_rate,\n",
    "        num_features,\n",
    "        dropout = 1.0,\n",
    "    ):\n",
    "        self.X = tf.placeholder(tf.float32, [None, None, num_features])\n",
    "        self.Y = tf.sparse_placeholder(tf.int32)\n",
    "        batch_size = tf.shape(self.X)[0]\n",
    "        seq_lens = tf.count_nonzero(\n",
    "            tf.reduce_sum(self.X, -1), 1, dtype = tf.int32\n",
    "        )\n",
    "        self.label = tf.placeholder(tf.int32, [None, None])\n",
    "        self.Y_seq_len = tf.placeholder(tf.int32, [None])\n",
    "\n",
    "        def cells(reuse = False):\n",
    "            return tf.contrib.rnn.DropoutWrapper(\n",
    "                tf.nn.rnn_cell.LSTMCell(\n",
    "                    size_layers,\n",
    "                    initializer = tf.orthogonal_initializer(),\n",
    "                    reuse = reuse,\n",
    "                ),\n",
    "                state_keep_prob = dropout,\n",
    "                output_keep_prob = dropout,\n",
    "            )\n",
    "        def attention(encoder_out, seq_len, reuse=False):\n",
    "            attention_mechanism = tf.contrib.seq2seq.LuongAttention(num_units = size_layers, \n",
    "                                                                    memory = encoder_out,\n",
    "                                                                    memory_sequence_length = seq_len)\n",
    "            return tf.contrib.seq2seq.AttentionWrapper(\n",
    "            cell = tf.nn.rnn_cell.MultiRNNCell([cells(reuse) for _ in range(num_layers)]), \n",
    "                attention_mechanism = attention_mechanism,\n",
    "                attention_layer_size = size_layers)\n",
    "\n",
    "        encoder_cells = tf.nn.rnn_cell.MultiRNNCell([cells() for _ in range(num_layers)])\n",
    "        encoder_out, encoder_state = tf.nn.dynamic_rnn(cell = encoder_cells, \n",
    "                                                                 inputs = self.X, \n",
    "                                                                 sequence_length = seq_lens,\n",
    "                                                                 dtype = tf.float32)\n",
    "        \n",
    "        encoder_state = tuple(encoder_state[-1] for _ in range(num_layers))\n",
    "        main = tf.strided_slice(self.X, [0, 0, 0], [batch_size, -1, num_features], [1, 1, 1])\n",
    "        decoder_input = tf.concat([tf.fill([batch_size, 1, num_features], 0.0), main], 1)\n",
    "        decoder_cell = attention(encoder_out, seq_lens)\n",
    "        dense_layer = tf.layers.Dense(num_classes)\n",
    "        \n",
    "        training_helper = tf.contrib.seq2seq.TrainingHelper(\n",
    "                inputs = decoder_input,\n",
    "                sequence_length = seq_lens,\n",
    "                time_major = False)\n",
    "        training_decoder = tf.contrib.seq2seq.BasicDecoder(\n",
    "                cell = decoder_cell,\n",
    "                helper = training_helper,\n",
    "                initial_state = decoder_cell.zero_state(batch_size, tf.float32).clone(cell_state=encoder_state),\n",
    "                output_layer = dense_layer)\n",
    "        training_decoder_output, _, _ = tf.contrib.seq2seq.dynamic_decode(\n",
    "                decoder = training_decoder,\n",
    "                impute_finished = True,\n",
    "                maximum_iterations = tf.reduce_max(seq_lens))\n",
    "        \n",
    "        logits = training_decoder_output.rnn_output\n",
    "        time_major = tf.transpose(logits, [1, 0, 2])\n",
    "        decoded, log_prob = tf.nn.ctc_beam_search_decoder(time_major, seq_lens)\n",
    "        decoded = tf.to_int32(decoded[0])\n",
    "        self.preds = tf.sparse.to_dense(decoded)\n",
    "        self.cost = tf.reduce_mean(\n",
    "            tf.nn.ctc_loss(\n",
    "                self.Y,\n",
    "                time_major,\n",
    "                seq_lens,\n",
    "                ignore_longer_outputs_than_inputs = True,\n",
    "            )\n",
    "        )\n",
    "        self.optimizer = tf.train.AdamOptimizer(\n",
    "            learning_rate = learning_rate\n",
    "        ).minimize(self.cost)\n",
    "        \n",
    "        preds = self.preds[:, :tf.reduce_max(self.Y_seq_len)]\n",
    "        masks = tf.sequence_mask(self.Y_seq_len, tf.reduce_max(self.Y_seq_len), dtype=tf.float32)\n",
    "        preds = tf.pad(preds, [[0, 0], [0, tf.reduce_max(self.Y_seq_len)]])\n",
    "        y_t = tf.cast(preds, tf.int32)\n",
    "        self.prediction = tf.boolean_mask(y_t, masks)\n",
    "        mask_label = tf.boolean_mask(self.label, masks)\n",
    "        correct_pred = tf.equal(self.prediction, mask_label)\n",
    "        correct_index = tf.cast(correct_pred, tf.float32)\n",
    "        self.accuracy = tf.reduce_mean(tf.cast(correct_pred, tf.float32))"
   ]
  },
  {
   "cell_type": "code",
   "execution_count": 7,
   "metadata": {},
   "outputs": [
    {
     "name": "stdout",
     "output_type": "stream",
     "text": [
      "WARNING:tensorflow:From /usr/local/lib/python3.6/dist-packages/tensorflow/python/ops/sparse_ops.py:1165: sparse_to_dense (from tensorflow.python.ops.sparse_ops) is deprecated and will be removed in a future version.\n",
      "Instructions for updating:\n",
      "Create a `tf.sparse.SparseTensor` and use `tf.sparse.to_dense` instead.\n"
     ]
    }
   ],
   "source": [
    "tf.reset_default_graph()\n",
    "sess = tf.InteractiveSession()\n",
    "\n",
    "size_layers = 128\n",
    "learning_rate = 1e-3\n",
    "num_layers = 2\n",
    "batch_size = 32\n",
    "epoch = 50\n",
    "\n",
    "model = Model(num_layers, size_layers, learning_rate, inputs.shape[2])\n",
    "sess.run(tf.global_variables_initializer())"
   ]
  },
  {
   "cell_type": "code",
   "execution_count": 8,
   "metadata": {},
   "outputs": [
    {
     "name": "stderr",
     "output_type": "stream",
     "text": [
      "minibatch loop: 100%|██████████| 88/88 [01:33<00:00,  1.11s/it, accuracy=0.722, cost=13.3]\n",
      "minibatch loop: 100%|██████████| 88/88 [02:04<00:00,  1.01s/it, accuracy=0.722, cost=12.4]\n",
      "minibatch loop: 100%|██████████| 88/88 [01:36<00:00,  1.04it/s, accuracy=0.722, cost=11.5]\n",
      "minibatch loop: 100%|██████████| 88/88 [01:35<00:00,  1.05it/s, accuracy=0.722, cost=11.5]\n",
      "minibatch loop: 100%|██████████| 88/88 [01:45<00:00,  1.11s/it, accuracy=0.722, cost=11.5]\n",
      "minibatch loop: 100%|██████████| 88/88 [01:58<00:00,  1.25s/it, accuracy=0.722, cost=10.5]\n",
      "minibatch loop: 100%|██████████| 88/88 [01:58<00:00,  1.27s/it, accuracy=0.722, cost=10.5]\n",
      "minibatch loop: 100%|██████████| 88/88 [01:58<00:00,  1.27s/it, accuracy=0.722, cost=10.5]\n",
      "minibatch loop: 100%|██████████| 88/88 [02:00<00:00,  1.25s/it, accuracy=0.722, cost=10.3]\n",
      "minibatch loop: 100%|██████████| 88/88 [02:18<00:00,  1.29s/it, accuracy=0.722, cost=10.4]\n",
      "minibatch loop: 100%|██████████| 88/88 [01:56<00:00,  1.17s/it, accuracy=0.722, cost=10.2]\n",
      "minibatch loop: 100%|██████████| 88/88 [01:55<00:00,  1.16s/it, accuracy=0.722, cost=10.2]\n",
      "minibatch loop: 100%|██████████| 88/88 [01:53<00:00,  1.12s/it, accuracy=0.722, cost=10.1]\n",
      "minibatch loop: 100%|██████████| 88/88 [01:57<00:00,  1.24s/it, accuracy=0.722, cost=10]  \n",
      "minibatch loop: 100%|██████████| 88/88 [01:55<00:00,  1.19s/it, accuracy=0.722, cost=9.97]\n",
      "minibatch loop: 100%|██████████| 88/88 [01:54<00:00,  1.20s/it, accuracy=0.722, cost=9.91]\n",
      "minibatch loop: 100%|██████████| 88/88 [01:56<00:00,  1.20s/it, accuracy=0.722, cost=9.81]\n",
      "minibatch loop: 100%|██████████| 88/88 [01:56<00:00,  1.20s/it, accuracy=0.722, cost=9.74]\n",
      "minibatch loop: 100%|██████████| 88/88 [01:55<00:00,  1.20s/it, accuracy=0.722, cost=9.69]\n",
      "minibatch loop: 100%|██████████| 88/88 [01:56<00:00,  1.19s/it, accuracy=0.722, cost=9.62]\n",
      "minibatch loop: 100%|██████████| 88/88 [01:55<00:00,  1.23s/it, accuracy=0.722, cost=9.55]\n",
      "minibatch loop: 100%|██████████| 88/88 [01:54<00:00,  1.17s/it, accuracy=0.722, cost=9.49]\n",
      "minibatch loop: 100%|██████████| 88/88 [01:55<00:00,  1.23s/it, accuracy=0.722, cost=9.52]\n",
      "minibatch loop: 100%|██████████| 88/88 [01:53<00:00,  1.13s/it, accuracy=0.722, cost=9.44]\n",
      "minibatch loop: 100%|██████████| 88/88 [01:55<00:00,  1.20s/it, accuracy=0.722, cost=9.34]\n",
      "minibatch loop: 100%|██████████| 88/88 [01:54<00:00,  1.19s/it, accuracy=0.722, cost=9.16]\n",
      "minibatch loop: 100%|██████████| 88/88 [01:55<00:00,  1.19s/it, accuracy=0.722, cost=9.1] \n",
      "minibatch loop: 100%|██████████| 88/88 [01:54<00:00,  1.17s/it, accuracy=0.778, cost=8.93]\n",
      "minibatch loop: 100%|██████████| 88/88 [01:55<00:00,  1.27s/it, accuracy=0.722, cost=8.86]\n",
      "minibatch loop: 100%|██████████| 88/88 [01:55<00:00,  1.26s/it, accuracy=0.778, cost=8.75]\n",
      "minibatch loop: 100%|██████████| 88/88 [01:57<00:00,  1.23s/it, accuracy=0.722, cost=8.63]\n",
      "minibatch loop: 100%|██████████| 88/88 [01:56<00:00,  1.10s/it, accuracy=0.722, cost=8.34]\n",
      "minibatch loop: 100%|██████████| 88/88 [01:55<00:00,  1.29s/it, accuracy=0.722, cost=8.44]\n",
      "minibatch loop: 100%|██████████| 88/88 [01:55<00:00,  1.22s/it, accuracy=0.778, cost=8.21]\n",
      "minibatch loop: 100%|██████████| 88/88 [01:54<00:00,  1.13s/it, accuracy=0.778, cost=8.07]\n",
      "minibatch loop: 100%|██████████| 88/88 [01:53<00:00,  1.17s/it, accuracy=0.722, cost=7.73]\n",
      "minibatch loop: 100%|██████████| 88/88 [01:55<00:00,  1.19s/it, accuracy=0.778, cost=7.5] \n",
      "minibatch loop: 100%|██████████| 88/88 [01:54<00:00,  1.23s/it, accuracy=0.778, cost=7.18]\n",
      "minibatch loop: 100%|██████████| 88/88 [01:55<00:00,  1.16s/it, accuracy=0.778, cost=7.46]\n",
      "minibatch loop: 100%|██████████| 88/88 [01:54<00:00,  1.19s/it, accuracy=0.722, cost=7.33]\n",
      "minibatch loop: 100%|██████████| 88/88 [01:56<00:00,  1.25s/it, accuracy=0.722, cost=7.23]\n",
      "minibatch loop: 100%|██████████| 88/88 [01:54<00:00,  1.07s/it, accuracy=0.722, cost=6.78]\n",
      "minibatch loop: 100%|██████████| 88/88 [01:16<00:00,  1.43it/s, accuracy=0.722, cost=6.47]\n",
      "minibatch loop: 100%|██████████| 88/88 [01:06<00:00,  1.45it/s, accuracy=0.722, cost=6.58]\n",
      "minibatch loop: 100%|██████████| 88/88 [01:06<00:00,  1.48it/s, accuracy=0.722, cost=6.2] \n",
      "minibatch loop: 100%|██████████| 88/88 [01:07<00:00,  1.42it/s, accuracy=0.722, cost=6.08]\n",
      "minibatch loop: 100%|██████████| 88/88 [01:06<00:00,  1.46it/s, accuracy=0.722, cost=5.61]\n",
      "minibatch loop: 100%|██████████| 88/88 [01:06<00:00,  1.44it/s, accuracy=0.722, cost=5.05]\n",
      "minibatch loop: 100%|██████████| 88/88 [01:07<00:00,  1.44it/s, accuracy=0.778, cost=4.91]\n",
      "minibatch loop: 100%|██████████| 88/88 [01:07<00:00,  1.44it/s, accuracy=0.778, cost=4.65]\n"
     ]
    }
   ],
   "source": [
    "for e in range(epoch):\n",
    "    pbar = tqdm(\n",
    "        range(0, len(inputs), batch_size), desc = 'minibatch loop')\n",
    "    for i in pbar:\n",
    "        batch_x = inputs[i : min(i + batch_size, len(inputs))]\n",
    "        y = targets[i : min(i + batch_size, len(inputs))]\n",
    "        batch_y = sparse_tuple_from(y)\n",
    "        batch_label, batch_len = pad_sentence_batch(y, 0)\n",
    "        _, cost, accuracy = sess.run(\n",
    "            [model.optimizer, model.cost, model.accuracy],\n",
    "            feed_dict = {model.X: batch_x, model.Y: batch_y, \n",
    "                         model.label: batch_label, model.Y_seq_len: batch_len},\n",
    "        )\n",
    "\n",
    "        accuracy = sess.run(model.accuracy, feed_dict = {model.X: batch_x[: 1],\n",
    "                                                            model.label: batch_label[: 1],\n",
    "                                                            model.Y_seq_len: batch_len[: 1]})\n",
    "        \n",
    "        \n",
    "        pbar.set_postfix(cost = cost, accuracy = np.mean(accuracy))"
   ]
  },
  {
   "cell_type": "code",
   "execution_count": 9,
   "metadata": {},
   "outputs": [
    {
     "name": "stdout",
     "output_type": "stream",
     "text": [
      "real: say the word shawl\n",
      "predicted: say the word wol\n"
     ]
    }
   ],
   "source": [
    "import random\n",
    "\n",
    "random_index = random.randint(0, len(targets) - 1)\n",
    "batch_x = inputs[random_index : random_index + 1]\n",
    "print(\n",
    "    'real:',\n",
    "    ''.join(\n",
    "        [idx2char[no] for no in targets[random_index : random_index + 1][0]]\n",
    "    ),\n",
    ")\n",
    "batch_y = sparse_tuple_from(targets[random_index : random_index + 1])\n",
    "pred = sess.run(model.preds, feed_dict = {model.X: batch_x})[0]\n",
    "print('predicted:', ''.join([idx2char[no] for no in pred]))"
   ]
  },
  {
   "cell_type": "code",
   "execution_count": null,
   "metadata": {},
   "outputs": [],
   "source": []
  }
 ],
 "metadata": {
  "kernelspec": {
   "display_name": "Python 3",
   "language": "python",
   "name": "python3"
  },
  "language_info": {
   "codemirror_mode": {
    "name": "ipython",
    "version": 3
   },
   "file_extension": ".py",
   "mimetype": "text/x-python",
   "name": "python",
   "nbconvert_exporter": "python",
   "pygments_lexer": "ipython3",
   "version": "3.6.8"
  }
 },
 "nbformat": 4,
 "nbformat_minor": 2
}
