{
 "cells": [
  {
   "cell_type": "code",
   "execution_count": 1,
   "metadata": {},
   "outputs": [],
   "source": [
    "import numpy as np\n",
    "import tensorflow as tf\n",
    "import matplotlib.pyplot as plt\n",
    "import seaborn as sns\n",
    "import random\n",
    "import time\n",
    "import collections\n",
    "from tqdm import tqdm\n",
    "sns.set()"
   ]
  },
  {
   "cell_type": "code",
   "execution_count": 2,
   "metadata": {},
   "outputs": [],
   "source": [
    "def build_dataset(words, n_words, atleast=1):\n",
    "    count = [['PAD', 0], ['GO', 1], ['EOS', 2], ['UNK', 3]]\n",
    "    counter = collections.Counter(words).most_common(n_words)\n",
    "    counter = [i for i in counter if i[1] >= atleast]\n",
    "    count.extend(counter)\n",
    "    dictionary = dict()\n",
    "    for word, _ in count:\n",
    "        dictionary[word] = len(dictionary)\n",
    "    data = list()\n",
    "    unk_count = 0\n",
    "    for word in words:\n",
    "        index = dictionary.get(word, 0)\n",
    "        if index == 0:\n",
    "            unk_count += 1\n",
    "        data.append(index)\n",
    "    count[0][1] = unk_count\n",
    "    reversed_dictionary = dict(zip(dictionary.values(), dictionary.keys()))\n",
    "    return data, count, dictionary, reversed_dictionary"
   ]
  },
  {
   "cell_type": "code",
   "execution_count": 3,
   "metadata": {},
   "outputs": [],
   "source": [
    "with open('shakespeare.txt') as fopen:\n",
    "    shakespeare = fopen.read().split()"
   ]
  },
  {
   "cell_type": "code",
   "execution_count": 4,
   "metadata": {},
   "outputs": [],
   "source": [
    "vocabulary_size = len(list(set(shakespeare)))\n",
    "data, count, dictionary, rev_dictionary = build_dataset(shakespeare, vocabulary_size)"
   ]
  },
  {
   "cell_type": "code",
   "execution_count": 5,
   "metadata": {},
   "outputs": [],
   "source": [
    "GO = dictionary['GO']\n",
    "PAD = dictionary['PAD']\n",
    "EOS = dictionary['EOS']\n",
    "UNK = dictionary['UNK']"
   ]
  },
  {
   "cell_type": "code",
   "execution_count": 6,
   "metadata": {},
   "outputs": [],
   "source": [
    "class Generator:\n",
    "    def __init__(self, size_layer, num_layers, embedded_size,\n",
    "                 from_dict_size, to_dict_size, learning_rate, batch_size):\n",
    "        \n",
    "        def cells(reuse=False):\n",
    "            return tf.nn.rnn_cell.GRUCell(size_layer,reuse=reuse)\n",
    "        \n",
    "        self.X = tf.placeholder(tf.int32, [None, None])\n",
    "        self.Y = tf.placeholder(tf.int32, [None, None])\n",
    "        self.X_seq_len = tf.count_nonzero(self.X, 1, dtype=tf.int32)\n",
    "        self.Y_seq_len = tf.count_nonzero(self.Y, 1, dtype=tf.int32)\n",
    "        batch_size = tf.shape(self.X)[0]\n",
    "        \n",
    "        encoder_embedding = tf.Variable(tf.random_uniform([from_dict_size, embedded_size], -1, 1))\n",
    "        decoder_embedding = tf.Variable(tf.random_uniform([to_dict_size, embedded_size], -1, 1))\n",
    "        self.cells = tf.nn.rnn_cell.MultiRNNCell([cells() for _ in range(num_layers)])\n",
    "        self.encoder_state = self.cells.zero_state(\n",
    "            dtype = tf.float32, batch_size = tf.shape(self.X)[0]\n",
    "        )\n",
    "        \n",
    "        encoder_out, encoder_state = tf.nn.dynamic_rnn(\n",
    "            cell = self.cells, \n",
    "            inputs = tf.nn.embedding_lookup(encoder_embedding, self.X),\n",
    "            sequence_length = self.X_seq_len,\n",
    "            initial_state = self.encoder_state,\n",
    "            dtype = tf.float32)\n",
    "        \n",
    "        main = tf.strided_slice(self.Y, [0, 0], [batch_size, -1], [1, 1])\n",
    "        decoder_input = tf.concat([tf.fill([batch_size, 1], GO), main], 1)\n",
    "        dense = tf.layers.Dense(to_dict_size)\n",
    "        attention_mechanism = tf.contrib.seq2seq.LuongAttention(num_units = size_layer, \n",
    "                                                                    memory = encoder_out,\n",
    "                                                                    memory_sequence_length = self.X_seq_len)\n",
    "        \n",
    "        decoder_cells = tf.contrib.seq2seq.AttentionWrapper(\n",
    "            cell = tf.nn.rnn_cell.MultiRNNCell([cells() for _ in range(num_layers)]), \n",
    "                attention_mechanism = attention_mechanism,\n",
    "                attention_layer_size = size_layer)\n",
    "        \n",
    "        training_helper = tf.contrib.seq2seq.TrainingHelper(\n",
    "                inputs = tf.nn.embedding_lookup(decoder_embedding, decoder_input),\n",
    "                sequence_length = self.Y_seq_len,\n",
    "                time_major = False)\n",
    "        training_decoder = tf.contrib.seq2seq.BasicDecoder(\n",
    "                cell = decoder_cells,\n",
    "                helper = training_helper,\n",
    "                initial_state = decoder_cells.zero_state(batch_size, tf.float32).clone(cell_state=encoder_state),\n",
    "                output_layer = dense)\n",
    "        training_decoder_output, self.training_state, _ = tf.contrib.seq2seq.dynamic_decode(\n",
    "                decoder = training_decoder,\n",
    "                impute_finished = True,\n",
    "                maximum_iterations = tf.reduce_max(self.Y_seq_len))\n",
    "        self.training_logits = training_decoder_output.rnn_output\n",
    "        \n",
    "        predicting_helper = tf.contrib.seq2seq.GreedyEmbeddingHelper(\n",
    "                embedding = decoder_embedding,\n",
    "                start_tokens = tf.tile(tf.constant([GO], dtype=tf.int32), [batch_size]),\n",
    "                end_token = EOS)\n",
    "        predicting_decoder = tf.contrib.seq2seq.BasicDecoder(\n",
    "                cell = decoder_cells,\n",
    "                helper = predicting_helper,\n",
    "                initial_state = decoder_cells.zero_state(batch_size, tf.float32).clone(cell_state=encoder_state),\n",
    "                output_layer = dense)\n",
    "        predicting_decoder_output, self.predict_state, _ = tf.contrib.seq2seq.dynamic_decode(\n",
    "                decoder = predicting_decoder,\n",
    "                impute_finished = True,\n",
    "                maximum_iterations = tf.reduce_max(self.X_seq_len))\n",
    "        self.predicting_ids = predicting_decoder_output.sample_id\n",
    "        print(self.training_state, self.predict_state)\n",
    "        \n",
    "        masks = tf.sequence_mask(self.Y_seq_len, tf.reduce_max(self.Y_seq_len), dtype=tf.float32)\n",
    "        self.cost = tf.contrib.seq2seq.sequence_loss(logits = self.training_logits,\n",
    "                                                     targets = self.Y,\n",
    "                                                     weights = masks)\n",
    "        self.optimizer = tf.train.AdamOptimizer(learning_rate = learning_rate).minimize(self.cost)\n",
    "        \n",
    "        y_t = tf.argmax(self.training_logits,axis=2)\n",
    "        y_t = tf.cast(y_t, tf.int32)\n",
    "        self.prediction = tf.boolean_mask(y_t, masks)\n",
    "        mask_label = tf.boolean_mask(self.Y, masks)\n",
    "        correct_pred = tf.equal(self.prediction, mask_label)\n",
    "        correct_index = tf.cast(correct_pred, tf.float32)\n",
    "        self.accuracy = tf.reduce_mean(tf.cast(correct_pred, tf.float32))"
   ]
  },
  {
   "cell_type": "code",
   "execution_count": 7,
   "metadata": {},
   "outputs": [],
   "source": [
    "learning_rate = 0.001\n",
    "batch_size = 32\n",
    "sequence_length = 64\n",
    "epoch = 3000\n",
    "num_layers = 2\n",
    "size_layer = 256\n",
    "possible_batch_id = range(len(data) - sequence_length - 1)"
   ]
  },
  {
   "cell_type": "code",
   "execution_count": 8,
   "metadata": {},
   "outputs": [
    {
     "name": "stdout",
     "output_type": "stream",
     "text": [
      "AttentionWrapperState(cell_state=(<tf.Tensor 'decoder/while/Exit_4:0' shape=(?, 256) dtype=float32>, <tf.Tensor 'decoder/while/Exit_5:0' shape=(?, 256) dtype=float32>), attention=<tf.Tensor 'decoder/while/Exit_6:0' shape=(?, 256) dtype=float32>, time=<tf.Tensor 'decoder/while/Exit_7:0' shape=() dtype=int32>, alignments=<tf.Tensor 'decoder/while/Exit_8:0' shape=(?, ?) dtype=float32>, alignment_history=(), attention_state=<tf.Tensor 'decoder/while/Exit_9:0' shape=(?, ?) dtype=float32>) AttentionWrapperState(cell_state=(<tf.Tensor 'decoder_1/while/Exit_4:0' shape=(?, 256) dtype=float32>, <tf.Tensor 'decoder_1/while/Exit_5:0' shape=(?, 256) dtype=float32>), attention=<tf.Tensor 'decoder_1/while/Exit_6:0' shape=(?, 256) dtype=float32>, time=<tf.Tensor 'decoder_1/while/Exit_7:0' shape=() dtype=int32>, alignments=<tf.Tensor 'decoder_1/while/Exit_8:0' shape=(?, ?) dtype=float32>, alignment_history=(), attention_state=<tf.Tensor 'decoder_1/while/Exit_9:0' shape=(?, ?) dtype=float32>)\n"
     ]
    }
   ],
   "source": [
    "tf.reset_default_graph()\n",
    "sess = tf.InteractiveSession()\n",
    "model = Generator(size_layer, num_layers, size_layer, len(dictionary), \n",
    "                len(dictionary), learning_rate,batch_size)\n",
    "sess.run(tf.global_variables_initializer())"
   ]
  },
  {
   "cell_type": "code",
   "execution_count": 9,
   "metadata": {},
   "outputs": [],
   "source": [
    "def train_random_batch():\n",
    "    LOST, ACCURACY = [], []\n",
    "    pbar = tqdm(range(epoch), desc = 'epoch')\n",
    "    batch_id = random.sample(possible_batch_id, batch_size)\n",
    "    batch_x = np.zeros((batch_size, sequence_length))\n",
    "    batch_y = np.zeros((batch_size, sequence_length + 1))\n",
    "    for n in range(sequence_length):\n",
    "        id1 = [data[k + n] for k in batch_id]\n",
    "        id2 = [data[k + n + 1] for k in batch_id]\n",
    "        batch_x[:,n] = id1\n",
    "        batch_y[:,n] = id2\n",
    "    batch_y[:,-1] = [EOS] * batch_size\n",
    "    initial_state, _ = sess.run([model.predict_state, model.optimizer], feed_dict = {model.X: batch_x,\n",
    "                                                                                    model.Y: batch_y})\n",
    "    initial_state = initial_state.cell_state\n",
    "    \n",
    "    for i in pbar:\n",
    "        batch_x = np.zeros((batch_size, sequence_length))\n",
    "        batch_y = np.zeros((batch_size, sequence_length + 1))\n",
    "        batch_id = random.sample(possible_batch_id, batch_size)\n",
    "        for n in range(sequence_length):\n",
    "            id1 = [data[k + n] for k in batch_id]\n",
    "            id2 = [data[k + n + 1] for k in batch_id]\n",
    "            batch_x[:,n] = id1\n",
    "            batch_y[:,n] = id2\n",
    "        batch_y[:,-1] = [EOS] * batch_size\n",
    "        accuracy, _, loss, initial_state = sess.run([model.accuracy, model.optimizer, \n",
    "                                                     model.cost, model.predict_state], \n",
    "                                       feed_dict = {model.X: batch_x, \n",
    "                                                    model.Y: batch_y,\n",
    "                                                    model.encoder_state: initial_state})\n",
    "        initial_state = initial_state.cell_state\n",
    "        ACCURACY.append(accuracy); LOST.append(loss)\n",
    "        pbar.set_postfix(cost = loss, accuracy = accuracy)\n",
    "    return LOST, ACCURACY"
   ]
  },
  {
   "cell_type": "code",
   "execution_count": 10,
   "metadata": {},
   "outputs": [
    {
     "name": "stderr",
     "output_type": "stream",
     "text": [
      "epoch: 100%|██████████| 3000/3000 [1:41:50<00:00,  1.03s/it, accuracy=0.0591, cost=6.7] \n"
     ]
    }
   ],
   "source": [
    "LOST, ACCURACY = train_random_batch()"
   ]
  },
  {
   "cell_type": "code",
   "execution_count": 11,
   "metadata": {},
   "outputs": [
    {
     "data": {
      "image/png": "[encoded data removed]",
      "text/plain": [
       "<Figure size 1080x360 with 2 Axes>"
      ]
     },
     "metadata": {
      "needs_background": "light"
     },
     "output_type": "display_data"
    }
   ],
   "source": [
    "plt.figure(figsize = (15, 5))\n",
    "plt.subplot(1, 2, 1)\n",
    "EPOCH = np.arange(len(LOST))\n",
    "plt.plot(EPOCH, LOST)\n",
    "plt.xlabel('epoch')\n",
    "plt.ylabel('loss')\n",
    "plt.subplot(1, 2, 2)\n",
    "plt.plot(EPOCH, ACCURACY)\n",
    "plt.xlabel('epoch')\n",
    "plt.ylabel('accuracy')\n",
    "plt.show()"
   ]
  },
  {
   "cell_type": "code",
   "execution_count": 12,
   "metadata": {},
   "outputs": [],
   "source": [
    "def generate_based_sequence(length_sentence):\n",
    "    index = np.random.randint(0, len(data) - sequence_length - 1)\n",
    "    x = np.array([data[index:index + sequence_length]])\n",
    "    initial_state, ids = sess.run([model.predict_state,model.predicting_ids], \n",
    "                                  feed_dict = {model.X: x})\n",
    "    initial_state = initial_state.cell_state\n",
    "    ids = ids[0].tolist()\n",
    "    \n",
    "    while len(ids) < length_sentence:\n",
    "        initial_state, ids_ = sess.run([model.predict_state,model.predicting_ids], \n",
    "                                      feed_dict = {model.X: [ids[-sequence_length:]],\n",
    "                                                  model.encoder_state: initial_state})\n",
    "        initial_state = initial_state.cell_state\n",
    "        ids.extend(ids_[0].tolist())\n",
    "\n",
    "    return ''.join([rev_dictionary[i] for i in ids])"
   ]
  },
  {
   "cell_type": "code",
   "execution_count": 13,
   "metadata": {},
   "outputs": [
    {
     "name": "stdout",
     "output_type": "stream",
     "text": [
      "withaoldownaoldownMERCUTIO:andaoldownownownownownownownownownownownownownownownownownownownownownownMERCUTIO:andaEOSaaaaaaaaaaaaaaaaaaaaaaaaaaaaaaaaaaaaaaaaaaaaaaaaaaaaaaaaaaaaaaaaaaaaaaaaaaaaaaaaaaaaaaaaaaaaaaaaaaaaalook,--doaalook,--doaaaaaaaaaaaaaaaaaaaaaaaaaaaaaaaaaaaaaaaaaaaaaaaaaaaaaaaaaaaalook,--doaaaaaaaaaaaaaaaaaaaaaaaaaaaaaaaaaaaaaaaaaaaaaaaaaaaaaaaaaaaaaaalook,--doalook,--dolook,--dolook,--dolook,--dolook,--dolook,--dolook,--dolook,--dolook,--dolook,--dolook,--dolook,--dolook,--dolook,--dolook,--dolook,--dolook,--dolook,--doalook,--dolook,--dolook,--doalook,--dolook,--doalook,--dolook,--doaalook,--dolook,--doaalook,--dolook,--doaalook,--dolook,--doaalook,--dolook,--doaalook,--dolook,--doaalook,--dolook,--doaalook,--dolook,--doaalook,--doaalook,--dolook,--dolook,--dolook,--dolook,--dolook,--dolook,--dolook,--dolook,--dolook,--dolook,--dolook,--dolook,--dolook,--dolook,--dolook,--dolook,--dolook,--dolook,--dolook,--dolook,--dolook,--dolook,--dolook,--dolook,--dolook,--dolook,--dolook,--dolook,--dolook,--dolook,--dolook,--dolook,--dolook,--dolook,--dolook,--dolook,--dolook,--dolook,--dolook,--dolook,--dolook,--dolook,--dolook,--dolook,--dolook,--dolook,--dolook,--dolook,--dolook,--dolook,--dolook,--dolook,--dolook,--dolook,--dolook,--dolook,--dolook,--dolook,--dolook,--dolook,--dolook,--dolook,--dolook,--dolook,--doVolsce:youmalignEOSyouyouyouyouyouyouyouyouyouyouyouyouEOSyouyouyouguess?guess?Jacks?Jacks?Jacks?Jacks?Jacks?Jacks?Jacks?Jacks?Jacks?Jacks?Jacks?Jacks?Jacks?Jacks?Jacks?Jacks?Jacks?Jacks?Jacks?Jacks?Jacks?Jacks?Jacks?Jacks?Jacks?Jacks?Jacks?Jacks?Jacks?Jacks?Jacks?Jacks?Jacks?Jacks?Jacks?Jacks?Jacks?Jacks?Jacks?Jacks?Jacks?Jacks?Jacks?Jacks?Jacks?Jacks?Jacks?Jacks?Jacks?Jacks?EOSIyouyouIhavenotnotnotnotnotnotnotnotnotnotnotnotnotnotnotnotnotnotnotnotnotnotEOSshallnotnotnotnotnotnotnotnotnotnotnotnotnotnotnotnotnotnotnotnotnotnotnotnotnotnotnotnotnotnotnotnotnotnotEOSANNE:notnotnotnotnotnotnotnotnotnotnotEOSANNE:notnotnotnotnotnotnotnotnotnotEOSthousharp-pointedsharp-pointedsharp-pointedsharp-pointedsharp-pointedsharp-pointedsharp-pointedsharp-pointedEOScontempt.eyeballeyeballeyeballeyeballeyeballeyeballeyeballeyeballeyeballeyeballeyeballeyeballeyeballeyeballeyeballeyeballeyeballeyeballeyeballeyeballeyeballeyeballeyeballeyeballeyeballeyeballeyeballeyeballeyeballeyeballeyeballeyeballeyeballeyeballeyeballeyeballeyeballeyeballeyeballeyeballeyeballeyeballeyeballeyeballeyeballeyeballeyeballeyeballeyeballeyeballeyeballeyeballeyeballeyeballeyeballeyeballeyeballeyeballeyeballeyeballeyeballeyeballeyeballofthetheseaoftheseaoftheseaoftheseaoftheseaoftheseaoftheseaoftheseaoftheseaoftheseaoftheseaoftheseaoftheseaoftheseaoftheseaoftheseaoftheseaoftheseaoftheseaoftheseaoftheseawiththethethethethethethethethethethethethethethethethethethethethethethethethethethethethethethethethethethethethethethethethethethethethethethethethetheEOSwiththethethethethethethethethethethethethethethethethethethethethethethethethethethethethethethethethethethethethethethethethethethethethethethethethethethethethethethethethethethethethethethecymbalsthethelawyersthethelawyersthethethelawyersthethethethethethethethethethethethethethethethethethethethethethethethethethethethethethethethethethethethethethethethethethethethethethethethethethethethetheServingman:Rome?MasterServingman:Servingman:Servingman:Servingman:Servingman:Servingman:Servingman:Servingman:Servingman:Servingman:Servingman:Servingman:Servingman:Servingman:Servingman:Servingman:Servingman:Servingman:Servingman:Servingman:Servingman:Servingman:Servingman:Servingman:Servingman:Servingman:Servingman:Servingman:Servingman:Servingman:Servingman:Servingman:Servingman:Servingman:Servingman:Servingman:Servingman:Servingman:Servingman:Servingman:Servingman:Servingman:Servingman:Servingman:Servingman:Servingman:Servingman:Servingman:Servingman:Servingman:Servingman:Servingman:Servingman:Servingman:Servingman:Servingman:Servingman:Servingman:Servingman:Servingman:Servingman:Servingman:Master,MasterServingman:MasterServingman:Servingman:Servingman:Servingman:Servingman:Servingman:Servingman:Servingman:Servingman:Servingman:Servingman:Servingman:Servingman:Servingman:Servingman:Servingman:Servingman:Servingman:Servingman:Servingman:Servingman:Servingman:Servingman:Servingman:Servingman:Servingman:Servingman:Servingman:Servingman:Servingman:Servingman:Servingman:Servingman:Servingman:Servingman:Servingman:Servingman:Servingman:Servingman:Servingman:Servingman:Servingman:Servingman:Servingman:Servingman:Servingman:Servingman:Servingman:Servingman:Servingman:Servingman:Servingman:Servingman:Servingman:Servingman:Servingman:Servingman:Servingman:Servingman:\n"
     ]
    }
   ],
   "source": [
    "print(generate_based_sequence(1000))"
   ]
  },
  {
   "cell_type": "code",
   "execution_count": null,
   "metadata": {},
   "outputs": [],
   "source": []
  }
 ],
 "metadata": {
  "kernelspec": {
   "display_name": "Python 3",
   "language": "python",
   "name": "python3"
  },
  "language_info": {
   "codemirror_mode": {
    "name": "ipython",
    "version": 3
   },
   "file_extension": ".py",
   "mimetype": "text/x-python",
   "name": "python",
   "nbconvert_exporter": "python",
   "pygments_lexer": "ipython3",
   "version": "3.6.8"
  }
 },
 "nbformat": 4,
 "nbformat_minor": 2
}
