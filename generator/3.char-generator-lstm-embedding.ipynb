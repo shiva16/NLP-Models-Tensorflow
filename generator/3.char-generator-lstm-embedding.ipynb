{
 "cells": [
  {
   "cell_type": "code",
   "execution_count": 1,
   "metadata": {},
   "outputs": [],
   "source": [
    "import numpy as np\n",
    "import tensorflow as tf\n",
    "import matplotlib.pyplot as plt\n",
    "import seaborn as sns\n",
    "import random\n",
    "import time\n",
    "from tqdm import tqdm\n",
    "sns.set()"
   ]
  },
  {
   "cell_type": "code",
   "execution_count": 2,
   "metadata": {},
   "outputs": [],
   "source": [
    "def get_vocab(file, lower = False):\n",
    "    with open(file, 'r') as fopen:\n",
    "        data = fopen.read()\n",
    "    if lower:\n",
    "        data = data.lower()\n",
    "    vocab = list(set(data))\n",
    "    return data, vocab\n",
    "\n",
    "def embed_to_onehot(data, vocab):\n",
    "    onehot = np.zeros((len(data)), dtype = np.int32)\n",
    "    for i in range(len(data)):\n",
    "        onehot[i] = vocab.index(data[i])\n",
    "    return onehot"
   ]
  },
  {
   "cell_type": "code",
   "execution_count": 3,
   "metadata": {},
   "outputs": [],
   "source": [
    "text, text_vocab = get_vocab('shakespeare.txt', lower = False)\n",
    "onehot = embed_to_onehot(text, text_vocab)"
   ]
  },
  {
   "cell_type": "code",
   "execution_count": 4,
   "metadata": {},
   "outputs": [],
   "source": [
    "learning_rate = 0.001\n",
    "batch_size = 128\n",
    "sequence_length = 64\n",
    "epoch = 3000\n",
    "num_layers = 2\n",
    "size_layer = 256\n",
    "possible_batch_id = range(len(text) - sequence_length - 1)"
   ]
  },
  {
   "cell_type": "code",
   "execution_count": 5,
   "metadata": {},
   "outputs": [],
   "source": [
    "class Model:\n",
    "    def __init__(\n",
    "        self, num_layers, size_layer, dimension, sequence_length, learning_rate\n",
    "    ):\n",
    "        def lstm_cell():\n",
    "            return tf.nn.rnn_cell.LSTMCell(\n",
    "                size_layer, sequence_length, state_is_tuple = False\n",
    "            )\n",
    "\n",
    "        self.rnn_cells = tf.nn.rnn_cell.MultiRNNCell(\n",
    "            [lstm_cell() for _ in range(num_layers)], state_is_tuple = False\n",
    "        )\n",
    "        self.X = tf.placeholder(tf.int32, (None, None))\n",
    "        self.Y = tf.placeholder(tf.int32, (None, None))\n",
    "        embeddings = tf.Variable(\n",
    "            tf.random_uniform([len(text_vocab), size_layer], -1, 1)\n",
    "        )\n",
    "        encoder_embedded = tf.nn.embedding_lookup(embeddings, self.X)\n",
    "        self.hidden_layer = tf.placeholder(\n",
    "            tf.float32, (None, num_layers * 2 * size_layer)\n",
    "        )\n",
    "        self.outputs, self.last_state = tf.nn.dynamic_rnn(\n",
    "            self.rnn_cells,\n",
    "            encoder_embedded,\n",
    "            initial_state = self.hidden_layer,\n",
    "            dtype = tf.float32,\n",
    "        )\n",
    "        self.logits = tf.layers.dense(self.outputs, dimension)\n",
    "        logits_long = tf.reshape(self.logits, [-1, dimension])\n",
    "        y_batch_long = tf.reshape(self.Y, [-1])\n",
    "        self.cost = tf.reduce_mean(\n",
    "            tf.nn.sparse_softmax_cross_entropy_with_logits(\n",
    "                logits = logits_long, labels = y_batch_long\n",
    "            )\n",
    "        )\n",
    "        self.optimizer = tf.train.AdamOptimizer(learning_rate).minimize(\n",
    "            self.cost\n",
    "        )\n",
    "        self.correct_pred = tf.equal(\n",
    "            tf.argmax(logits_long, 1), tf.cast(y_batch_long, tf.int64)\n",
    "        )\n",
    "        self.accuracy = tf.reduce_mean(tf.cast(self.correct_pred, tf.float32))\n",
    "        self.final_outputs = tf.nn.softmax(self.logits)"
   ]
  },
  {
   "cell_type": "code",
   "execution_count": 6,
   "metadata": {},
   "outputs": [
    {
     "name": "stdout",
     "output_type": "stream",
     "text": [
      "WARNING:tensorflow:<tensorflow.python.ops.rnn_cell_impl.LSTMCell object at 0x7fa18ec2ada0>: Using a concatenated state is slower and will soon be deprecated.  Use state_is_tuple=True.\n",
      "WARNING:tensorflow:<tensorflow.python.ops.rnn_cell_impl.LSTMCell object at 0x7fa18ec2a588>: Using a concatenated state is slower and will soon be deprecated.  Use state_is_tuple=True.\n"
     ]
    }
   ],
   "source": [
    "tf.reset_default_graph()\n",
    "sess = tf.InteractiveSession()\n",
    "model = Model(num_layers, size_layer, len(text_vocab), sequence_length, learning_rate)\n",
    "sess.run(tf.global_variables_initializer())"
   ]
  },
  {
   "cell_type": "code",
   "execution_count": 7,
   "metadata": {},
   "outputs": [
    {
     "name": "stdout",
     "output_type": "stream",
     "text": [
      "common\n"
     ]
    }
   ],
   "source": [
    "split_text = text.split()\n",
    "tag = split_text[np.random.randint(0, len(split_text))]\n",
    "print(tag)"
   ]
  },
  {
   "cell_type": "code",
   "execution_count": 8,
   "metadata": {},
   "outputs": [],
   "source": [
    "def train_random_batch():\n",
    "    LOST, ACCURACY = [], []\n",
    "    pbar = tqdm(range(epoch), desc = 'epoch')\n",
    "    for i in pbar:\n",
    "        last_time = time.time()\n",
    "        init_value = np.zeros((batch_size, num_layers * 2 * size_layer))\n",
    "        batch_x = np.zeros((batch_size, sequence_length))\n",
    "        batch_y = np.zeros((batch_size, sequence_length))\n",
    "        batch_id = random.sample(possible_batch_id, batch_size)\n",
    "        for k in range(batch_size):\n",
    "            batch_x[k] = embed_to_onehot(text[batch_id[k]:batch_id[k]+sequence_length],text_vocab)\n",
    "            batch_y[k] = embed_to_onehot(text[batch_id[k]+1:batch_id[k]+sequence_length+1],text_vocab)\n",
    "        last_state, _, loss = sess.run([model.last_state, model.optimizer, model.cost], \n",
    "                                       feed_dict = {model.X: batch_x, \n",
    "                                                    model.Y: batch_y,\n",
    "                                                    model.hidden_layer: init_value})\n",
    "        accuracy = sess.run(model.accuracy, feed_dict = {model.X: batch_x, \n",
    "                                                         model.Y: batch_y, \n",
    "                                                         model.hidden_layer: init_value})\n",
    "        ACCURACY.append(accuracy); LOST.append(loss)\n",
    "        init_value = last_state\n",
    "        pbar.set_postfix(cost = loss, accuracy = accuracy)\n",
    "    return LOST, ACCURACY"
   ]
  },
  {
   "cell_type": "code",
   "execution_count": 9,
   "metadata": {},
   "outputs": [],
   "source": [
    "def train_random_sequence():\n",
    "    LOST, ACCURACY = [], []\n",
    "    pbar = tqdm(range(epoch), desc = 'epoch')\n",
    "    for i in pbar:\n",
    "        last_time = time.time()\n",
    "        init_value = np.zeros((batch_size, num_layers * 2 * size_layer))\n",
    "        batch_x = np.zeros((batch_size, sequence_length))\n",
    "        batch_y = np.zeros((batch_size, sequence_length))\n",
    "        batch_id = random.sample(possible_batch_id, batch_size)\n",
    "        for n in range(sequence_length):\n",
    "            id1 = [k + n for k in batch_id]\n",
    "            id2 = [k + n + 1 for k in batch_id]\n",
    "            batch_x[:,n] = onehot[id1]\n",
    "            batch_y[:,n] = onehot[id2]\n",
    "        last_state, _, loss = sess.run([model.last_state, model.optimizer, model.cost], \n",
    "                                       feed_dict = {model.X: batch_x, \n",
    "                                                    model.Y: batch_y,\n",
    "                                                    model.hidden_layer: init_value})\n",
    "        accuracy = sess.run(model.accuracy, feed_dict = {model.X: batch_x, \n",
    "                                                         model.Y: batch_y, \n",
    "                                                         model.hidden_layer: init_value})\n",
    "        ACCURACY.append(accuracy); LOST.append(loss)\n",
    "        init_value = last_state\n",
    "        pbar.set_postfix(cost = loss, accuracy = accuracy)\n",
    "    return LOST, ACCURACY"
   ]
  },
  {
   "cell_type": "code",
   "execution_count": 10,
   "metadata": {},
   "outputs": [
    {
     "name": "stderr",
     "output_type": "stream",
     "text": [
      "epoch: 100%|██████████| 3000/3000 [06:31<00:00,  7.66it/s, accuracy=0.611, cost=1.26]\n"
     ]
    }
   ],
   "source": [
    "LOST, ACCURACY = train_random_sequence()"
   ]
  },
  {
   "cell_type": "code",
   "execution_count": 11,
   "metadata": {},
   "outputs": [
    {
     "data": {
      "image/png": "[encoded data removed]",
      "text/plain": [
       "<Figure size 1080x360 with 2 Axes>"
      ]
     },
     "metadata": {
      "needs_background": "light"
     },
     "output_type": "display_data"
    }
   ],
   "source": [
    "plt.figure(figsize = (15, 5))\n",
    "plt.subplot(1, 2, 1)\n",
    "EPOCH = np.arange(len(LOST))\n",
    "plt.plot(EPOCH, LOST)\n",
    "plt.xlabel('epoch')\n",
    "plt.ylabel('loss')\n",
    "plt.subplot(1, 2, 2)\n",
    "plt.plot(EPOCH, ACCURACY)\n",
    "plt.xlabel('epoch')\n",
    "plt.ylabel('accuracy')\n",
    "plt.show()"
   ]
  },
  {
   "cell_type": "code",
   "execution_count": 12,
   "metadata": {},
   "outputs": [],
   "source": [
    "def generate_based_sequence(length_sentence, argmax = False):\n",
    "    sentence_generated = tag\n",
    "    onehot = embed_to_onehot(tag, text_vocab)\n",
    "    init_value = np.zeros((1, num_layers * 2 * size_layer))\n",
    "    for i in range(len(tag)):\n",
    "        batch_x = np.zeros((1, 1))\n",
    "        batch_x[0] = onehot[i]\n",
    "        last_state, prob = sess.run(\n",
    "            [model.last_state, model.final_outputs],\n",
    "            feed_dict = {model.X: batch_x, model.hidden_layer: init_value},\n",
    "        )\n",
    "        init_value = last_state\n",
    "\n",
    "    for i in range(length_sentence):\n",
    "        if argmax:\n",
    "            char = np.argmax(prob[0][0])\n",
    "        else:\n",
    "            char = np.random.choice(range(len(text_vocab)), p = prob[0][0])\n",
    "        element = text_vocab[char]\n",
    "        sentence_generated += element\n",
    "        onehot = embed_to_onehot(element, text_vocab)\n",
    "        batch_x = np.zeros((1, 1))\n",
    "        batch_x[0] = onehot[0]\n",
    "        last_state, prob = sess.run(\n",
    "            [model.last_state, model.final_outputs],\n",
    "            feed_dict = {model.X: batch_x, model.hidden_layer: init_value},\n",
    "        )\n",
    "        init_value = last_state\n",
    "\n",
    "    return sentence_generated"
   ]
  },
  {
   "cell_type": "code",
   "execution_count": 14,
   "metadata": {},
   "outputs": [
    {
     "name": "stdout",
     "output_type": "stream",
     "text": [
      "common boots: yet let him king about\n",
      "Lends and coutse against home of.\n",
      "\n",
      "TRUTISA:\n",
      "Are royal sea from this wine feel'd by himself.\n",
      "\n",
      "YORK:\n",
      "Secore thou hast said 'Redian so were hunter sun?\n",
      "\n",
      "KATHARINA:\n",
      "Good married! his compovers' insul.\n",
      "\n",
      "CORIOLANUS:\n",
      "Should say your son must, not that is gone possess:\n",
      "withtering wandering villains therefore,\n",
      "Because there discreeply, Tylanks and the\n",
      "wight of lossans, Isabel, not the other sits, was by\n",
      "This seasing sleep back to helps it.\n",
      "But for, my lord on my poor loathsomety,\n",
      "But like his bed: I do a trade?\n",
      "Heaven knows your worship or faith, but\n",
      "I' my son, to take it stirn; easy one sore\n",
      "The people or his womper. In it thou shalt\n",
      "besire your studiates thus all four soul that cares\n",
      "Nothing being mercing tomborn protecticle?\n",
      "Our lessings these stames their returns:\n",
      "To remain that e'er you know what told me?\n",
      "Fie, sirrah, I kill thee woman, forget to do;\n",
      "Jook our life winged and ageness will perfect\n",
      "Is by their eight; he though you are briever.\n",
      "Go. But, if the pa\n"
     ]
    }
   ],
   "source": [
    "print(generate_based_sequence(1000,True))"
   ]
  },
  {
   "cell_type": "code",
   "execution_count": 15,
   "metadata": {},
   "outputs": [
    {
     "name": "stdout",
     "output_type": "stream",
     "text": [
      "common from the crown,\n",
      "I mean me not, but one yet admit of this meet!\n",
      "\n",
      "CORIOLANUS:\n",
      "Not to London get him within the people\n",
      "Of entertain, has not in post straight.\n",
      "\n",
      "DUKE OF YORK:\n",
      "How fie the orace of Exeter; will not\n",
      "To know you to frop both a heavier true.\n",
      "\n",
      "JULIET:\n",
      "What have you march. Romeo my corse?\n",
      "What is the queen the world is miss for this,\n",
      "Fight it wold beholding contents.\n",
      "\n",
      "CAMILLO:\n",
      "Why\n",
      "so do?\n",
      "\n",
      "BRUTUS:\n",
      "Yet a man quite unesty woached pride?\n",
      "Doth you bace, his worthy as word out: now\n",
      "I will bring the hatrest sea, and for me anon\n",
      "My powers, so hinder like that back to teach:\n",
      "For honest straight, the sight of this house\n",
      "And swares me with praise a daggers: itsell'd;\n",
      "For well straight their birdestments, then abstatter:\n",
      "If which world they see him says, and we should to\n",
      "sulmot's chasbe, seath coming the reasons of my kind,\n",
      "I kneel the wonderers' a man\n",
      "Affection, we him convey harmoofs,\n",
      "Pity Clarence will he not much odd;\n",
      "Must come hither.\n",
      "\n",
      "COMINIUS Xague:\n",
      "I tribunes shall eat weet wonder w\n"
     ]
    }
   ],
   "source": [
    "print(generate_based_sequence(1000,False))"
   ]
  },
  {
   "cell_type": "code",
   "execution_count": null,
   "metadata": {},
   "outputs": [],
   "source": []
  }
 ],
 "metadata": {
  "kernelspec": {
   "display_name": "Python 3",
   "language": "python",
   "name": "python3"
  },
  "language_info": {
   "codemirror_mode": {
    "name": "ipython",
    "version": 3
   },
   "file_extension": ".py",
   "mimetype": "text/x-python",
   "name": "python",
   "nbconvert_exporter": "python",
   "pygments_lexer": "ipython3",
   "version": "3.6.8"
  }
 },
 "nbformat": 4,
 "nbformat_minor": 2
}
