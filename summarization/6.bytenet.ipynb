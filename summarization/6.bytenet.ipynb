{
 "cells": [
  {
   "cell_type": "code",
   "execution_count": 1,
   "metadata": {},
   "outputs": [
    {
     "name": "stderr",
     "output_type": "stream",
     "text": [
      "/home/husein/.local/lib/python3.6/site-packages/sklearn/cross_validation.py:41: DeprecationWarning: This module was deprecated in version 0.18 in favor of the model_selection module into which all the refactored classes and functions are moved. Also note that the interface of the new CV iterators are different from that of this module. This module will be removed in 0.20.\n",
      "  \"This module will be removed in 0.20.\", DeprecationWarning)\n"
     ]
    }
   ],
   "source": [
    "import json\n",
    "import numpy as np\n",
    "import tensorflow as tf\n",
    "import collections\n",
    "from sklearn.cross_validation import train_test_split"
   ]
  },
  {
   "cell_type": "code",
   "execution_count": 2,
   "metadata": {},
   "outputs": [],
   "source": [
    "with open('ctexts.json','r') as fopen:\n",
    "    ctexts = json.load(fopen)\n",
    "    \n",
    "with open('headlines.json','r') as fopen:\n",
    "    headlines = json.load(fopen)"
   ]
  },
  {
   "cell_type": "code",
   "execution_count": 3,
   "metadata": {},
   "outputs": [],
   "source": [
    "from sklearn.feature_extraction.text import TfidfVectorizer\n",
    "from sklearn.decomposition import TruncatedSVD\n",
    "\n",
    "def topic_modelling(string, n = 500):\n",
    "    vectorizer = TfidfVectorizer()\n",
    "    tf = vectorizer.fit_transform([string])\n",
    "    tf_features = vectorizer.get_feature_names()\n",
    "    compose = TruncatedSVD(1).fit(tf)\n",
    "    return ' '.join([tf_features[i] for i in compose.components_[0].argsort()[: -n - 1 : -1]])"
   ]
  },
  {
   "cell_type": "code",
   "execution_count": 4,
   "metadata": {},
   "outputs": [
    {
     "name": "stderr",
     "output_type": "stream",
     "text": [
      "/home/husein/.local/lib/python3.6/site-packages/sklearn/decomposition/truncated_svd.py:192: RuntimeWarning: invalid value encountered in true_divide\n",
      "  self.explained_variance_ratio_ = exp_var / full_var\n"
     ]
    },
    {
     "name": "stdout",
     "output_type": "stream",
     "text": [
      "CPU times: user 38.1 s, sys: 51.4 s, total: 1min 29s\n",
      "Wall time: 22.6 s\n"
     ]
    }
   ],
   "source": [
    "%%time\n",
    "h, c = [], []\n",
    "for i in range(len(ctexts)):\n",
    "    try:\n",
    "        c.append(topic_modelling(ctexts[i]))\n",
    "        h.append(headlines[i])\n",
    "    except:\n",
    "        pass"
   ]
  },
  {
   "cell_type": "code",
   "execution_count": 5,
   "metadata": {},
   "outputs": [
    {
     "data": {
      "text/plain": [
       "(4395, 4395)"
      ]
     },
     "execution_count": 5,
     "metadata": {},
     "output_type": "execute_result"
    }
   ],
   "source": [
    "len(c),len(h)"
   ]
  },
  {
   "cell_type": "code",
   "execution_count": 6,
   "metadata": {},
   "outputs": [],
   "source": [
    "def build_dataset(words, n_words):\n",
    "    count = [['PAD', 0], ['GO', 1], ['EOS', 2], ['UNK', 3]]\n",
    "    count.extend(collections.Counter(words).most_common(n_words))\n",
    "    dictionary = dict()\n",
    "    for word, _ in count:\n",
    "        dictionary[word] = len(dictionary)\n",
    "    data = list()\n",
    "    unk_count = 0\n",
    "    for word in words:\n",
    "        index = dictionary.get(word, 0)\n",
    "        if index == 0:\n",
    "            unk_count += 1\n",
    "        data.append(index)\n",
    "    count[0][1] = unk_count\n",
    "    reversed_dictionary = dict(zip(dictionary.values(), dictionary.keys()))\n",
    "    return data, count, dictionary, reversed_dictionary"
   ]
  },
  {
   "cell_type": "code",
   "execution_count": 7,
   "metadata": {},
   "outputs": [
    {
     "name": "stdout",
     "output_type": "stream",
     "text": [
      "vocab from size: 49585\n",
      "Most common words [('dot', 4394), ('the', 4379), ('comma', 4349), ('to', 4280), ('in', 4268), ('of', 4262)]\n",
      "Sample data [5, 7, 4, 6, 10, 9, 11, 8, 15, 2062] ['the', 'to', 'dot', 'comma', 'and', 'of', 'on', 'in', 'was', 'festival']\n"
     ]
    }
   ],
   "source": [
    "concat_from = ' '.join(c).split()\n",
    "vocabulary_size_from = len(list(set(concat_from)))\n",
    "data_from, count_from, dictionary_from, rev_dictionary_from = build_dataset(concat_from, vocabulary_size_from)\n",
    "print('vocab from size: %d'%(vocabulary_size_from))\n",
    "print('Most common words', count_from[4:10])\n",
    "print('Sample data', data_from[:10], [rev_dictionary_from[i] for i in data_from[:10]])"
   ]
  },
  {
   "cell_type": "code",
   "execution_count": 8,
   "metadata": {},
   "outputs": [
    {
     "name": "stdout",
     "output_type": "stream",
     "text": [
      "vocab to size: 8534\n",
      "Most common words [('to', 1388), ('in', 1196), ('comma', 876), ('s', 785), ('for', 733), ('of', 596)]\n",
      "Sample data [2797, 14, 2798, 2799, 656, 2800, 5, 1642, 657, 2086] ['daman', 'and', 'diu', 'revokes', 'mandatory', 'rakshabandhan', 'in', 'offices', 'order', 'malaika']\n"
     ]
    }
   ],
   "source": [
    "concat_to = ' '.join(h).split()\n",
    "vocabulary_size_to = len(list(set(concat_to)))\n",
    "data_to, count_to, dictionary_to, rev_dictionary_to = build_dataset(concat_to, vocabulary_size_to)\n",
    "print('vocab to size: %d'%(vocabulary_size_to))\n",
    "print('Most common words', count_to[4:10])\n",
    "print('Sample data', data_to[:10], [rev_dictionary_to[i] for i in data_to[:10]])"
   ]
  },
  {
   "cell_type": "code",
   "execution_count": 9,
   "metadata": {},
   "outputs": [
    {
     "data": {
      "text/plain": [
       "'daman and diu revokes mandatory rakshabandhan in offices order EOS'"
      ]
     },
     "execution_count": 9,
     "metadata": {},
     "output_type": "execute_result"
    }
   ],
   "source": [
    "for i in range(len(h)):\n",
    "    h[i] = h[i] + ' EOS'\n",
    "h[0]"
   ]
  },
  {
   "cell_type": "code",
   "execution_count": 10,
   "metadata": {},
   "outputs": [],
   "source": [
    "GO = dictionary_from['GO']\n",
    "PAD = dictionary_from['PAD']\n",
    "EOS = dictionary_from['EOS']\n",
    "UNK = dictionary_from['UNK']"
   ]
  },
  {
   "cell_type": "code",
   "execution_count": 11,
   "metadata": {},
   "outputs": [],
   "source": [
    "def str_idx(corpus, dic, UNK=3):\n",
    "    X = []\n",
    "    for i in corpus:\n",
    "        ints = []\n",
    "        for k in i.split():\n",
    "            ints.append(dic.get(k, UNK))\n",
    "        X.append(ints)\n",
    "    return X"
   ]
  },
  {
   "cell_type": "code",
   "execution_count": 12,
   "metadata": {},
   "outputs": [],
   "source": [
    "X = str_idx(c, dictionary_from)\n",
    "Y = str_idx(h, dictionary_to)"
   ]
  },
  {
   "cell_type": "code",
   "execution_count": 13,
   "metadata": {},
   "outputs": [],
   "source": [
    "train_X, test_X, train_Y, test_Y = train_test_split(X, Y, test_size = 0.2)"
   ]
  },
  {
   "cell_type": "code",
   "execution_count": 14,
   "metadata": {},
   "outputs": [],
   "source": [
    "maxlen_question = max([len(x) for x in X])\n",
    "maxlen_answer = max([len(y) for y in Y])"
   ]
  },
  {
   "cell_type": "code",
   "execution_count": 15,
   "metadata": {},
   "outputs": [
    {
     "data": {
      "text/plain": [
       "(500, 24)"
      ]
     },
     "execution_count": 15,
     "metadata": {},
     "output_type": "execute_result"
    }
   ],
   "source": [
    "maxlen_question, maxlen_answer"
   ]
  },
  {
   "cell_type": "code",
   "execution_count": 16,
   "metadata": {},
   "outputs": [],
   "source": [
    "def layer_normalization(x, epsilon=1e-8):\n",
    "    shape = x.get_shape()\n",
    "    tf.Variable(tf.zeros(shape = [int(shape[-1])]))\n",
    "    beta = tf.Variable(tf.zeros(shape = [int(shape[-1])]))\n",
    "    gamma = tf.Variable(tf.ones(shape = [int(shape[-1])]))\n",
    "    mean, variance = tf.nn.moments(x, axes=[len(shape) - 1], keep_dims=True)\n",
    "    x = (x - mean) /  tf.sqrt(variance + epsilon)\n",
    "    return gamma * x + beta\n",
    "\n",
    "def conv1d(input_, output_channels, dilation = 1, filter_width = 1, causal = False):\n",
    "    w = tf.Variable(tf.random_normal([1, filter_width, int(input_.get_shape()[-1]), output_channels], stddev = 0.02))\n",
    "    b = tf.Variable(tf.zeros(shape = [output_channels]))\n",
    "    if causal:\n",
    "        padding = [[0, 0], [(filter_width - 1) * dilation, 0], [0, 0]]\n",
    "        padded = tf.pad(input_, padding)\n",
    "        input_expanded = tf.expand_dims(padded, dim = 1)\n",
    "        out = tf.nn.atrous_conv2d(input_expanded, w, rate = dilation, padding = 'VALID') + b\n",
    "    else:\n",
    "        input_expanded = tf.expand_dims(input_, dim = 1)\n",
    "        out = tf.nn.atrous_conv2d(input_expanded, w, rate = dilation, padding = 'SAME') + b\n",
    "    return tf.squeeze(out, [1])\n",
    "\n",
    "def bytenet_residual_block(input_, dilation, layer_no, \n",
    "                            residual_channels, filter_width, \n",
    "                            causal = True):\n",
    "    block_type = \"decoder\" if causal else \"encoder\"\n",
    "    block_name = \"bytenet_{}_layer_{}_{}\".format(block_type, layer_no, dilation)\n",
    "    with tf.variable_scope(block_name):\n",
    "        relu1 = tf.nn.relu(layer_normalization(input_))\n",
    "        conv1 = conv1d(relu1, residual_channels)\n",
    "        relu2 = tf.nn.relu(layer_normalization(conv1))\n",
    "        dilated_conv = conv1d(relu2, residual_channels, \n",
    "                              dilation, filter_width,\n",
    "                              causal = causal)\n",
    "        print(dilated_conv)\n",
    "        relu3 = tf.nn.relu(layer_normalization(dilated_conv))\n",
    "        conv2 = conv1d(relu3, 2 * residual_channels)\n",
    "        return input_ + conv2\n",
    "    \n",
    "class ByteNet:\n",
    "    def __init__(self, from_vocab_size, to_vocab_size, channels, encoder_dilations,\n",
    "                decoder_dilations, encoder_filter_width, decoder_filter_width,\n",
    "                learning_rate = 0.001, beta1=0.5):\n",
    "        self.X = tf.placeholder(tf.int32, [None, None])\n",
    "        self.Y = tf.placeholder(tf.int32, [None, None])\n",
    "        self.X_seq_len = tf.count_nonzero(self.X, 1, dtype = tf.int32)\n",
    "        self.Y_seq_len = tf.count_nonzero(self.Y, 1, dtype = tf.int32)\n",
    "        batch_size = tf.shape(self.X)[0]\n",
    "        main = tf.strided_slice(self.Y, [0, 0], [batch_size, -1], [1, 1])\n",
    "        target_1 = tf.concat([tf.fill([batch_size, 1], GO), main], 1)\n",
    "        embedding_channels = 2 * channels\n",
    "        w_source_embedding = tf.Variable(tf.random_normal([from_vocab_size, \n",
    "                                                           embedding_channels], stddev = 0.02))\n",
    "        w_target_embedding = tf.Variable(tf.random_normal([to_vocab_size, \n",
    "                                                           embedding_channels], stddev = 0.02))\n",
    "        source_embedding = tf.nn.embedding_lookup(w_source_embedding, self.X)\n",
    "        target_1_embedding = tf.nn.embedding_lookup(w_target_embedding, target_1)\n",
    "        curr_input = source_embedding\n",
    "        for layer_no, dilation in enumerate(encoder_dilations):\n",
    "            curr_input = bytenet_residual_block(curr_input, dilation, \n",
    "                                                layer_no, channels, \n",
    "                                                encoder_filter_width, \n",
    "                                                causal = False)\n",
    "        encoder_output = curr_input\n",
    "        combined_embedding = target_1_embedding + encoder_output\n",
    "        curr_input = combined_embedding\n",
    "        for layer_no, dilation in enumerate(decoder_dilations):\n",
    "            curr_input = bytenet_residual_block(curr_input, dilation, \n",
    "                                                layer_no, channels, \n",
    "                                                encoder_filter_width, \n",
    "                                                causal = False)\n",
    "        self.logits = conv1d(curr_input, to_vocab_size)\n",
    "        masks = tf.sequence_mask(self.Y_seq_len, maxlen_question, dtype=tf.float32)\n",
    "        self.cost = tf.contrib.seq2seq.sequence_loss(logits = self.logits,\n",
    "                                                     targets = self.Y,\n",
    "                                                     weights = masks)\n",
    "        self.optimizer = tf.train.AdamOptimizer(learning_rate).minimize(self.cost)\n",
    "        y_t = tf.argmax(self.logits,axis=2)\n",
    "        y_t = tf.cast(y_t, tf.int32)\n",
    "        self.prediction = tf.boolean_mask(y_t, masks)\n",
    "        mask_label = tf.boolean_mask(self.Y, masks)\n",
    "        correct_pred = tf.equal(self.prediction, mask_label)\n",
    "        correct_index = tf.cast(correct_pred, tf.float32)\n",
    "        self.accuracy = tf.reduce_mean(tf.cast(correct_pred, tf.float32))"
   ]
  },
  {
   "cell_type": "code",
   "execution_count": 17,
   "metadata": {},
   "outputs": [],
   "source": [
    "residual_channels = 128\n",
    "encoder_dilations = [1,2,4,8,16,1,2,4,8,16]\n",
    "decoder_dilations = [1,2,4,8,16,1,2,4,8,16]\n",
    "encoder_filter_width = 3\n",
    "decoder_filter_width = 3\n",
    "batch_size = 16\n",
    "epoch = 10"
   ]
  },
  {
   "cell_type": "code",
   "execution_count": 18,
   "metadata": {},
   "outputs": [
    {
     "name": "stdout",
     "output_type": "stream",
     "text": [
      "WARNING:tensorflow:From <ipython-input-16-616560f18fb6>:19: calling expand_dims (from tensorflow.python.ops.array_ops) with dim is deprecated and will be removed in a future version.\n",
      "Instructions for updating:\n",
      "Use the `axis` argument instead\n",
      "Tensor(\"bytenet_encoder_layer_0_1/Squeeze_1:0\", shape=(?, ?, 128), dtype=float32)\n",
      "Tensor(\"bytenet_encoder_layer_1_2/Squeeze_1:0\", shape=(?, ?, 128), dtype=float32)\n",
      "Tensor(\"bytenet_encoder_layer_2_4/Squeeze_1:0\", shape=(?, ?, 128), dtype=float32)\n",
      "Tensor(\"bytenet_encoder_layer_3_8/Squeeze_1:0\", shape=(?, ?, 128), dtype=float32)\n",
      "Tensor(\"bytenet_encoder_layer_4_16/Squeeze_1:0\", shape=(?, ?, 128), dtype=float32)\n",
      "Tensor(\"bytenet_encoder_layer_5_1/Squeeze_1:0\", shape=(?, ?, 128), dtype=float32)\n",
      "Tensor(\"bytenet_encoder_layer_6_2/Squeeze_1:0\", shape=(?, ?, 128), dtype=float32)\n",
      "Tensor(\"bytenet_encoder_layer_7_4/Squeeze_1:0\", shape=(?, ?, 128), dtype=float32)\n",
      "Tensor(\"bytenet_encoder_layer_8_8/Squeeze_1:0\", shape=(?, ?, 128), dtype=float32)\n",
      "Tensor(\"bytenet_encoder_layer_9_16/Squeeze_1:0\", shape=(?, ?, 128), dtype=float32)\n",
      "Tensor(\"bytenet_encoder_layer_0_1_1/Squeeze_1:0\", shape=(?, ?, 128), dtype=float32)\n",
      "Tensor(\"bytenet_encoder_layer_1_2_1/Squeeze_1:0\", shape=(?, ?, 128), dtype=float32)\n",
      "Tensor(\"bytenet_encoder_layer_2_4_1/Squeeze_1:0\", shape=(?, ?, 128), dtype=float32)\n",
      "Tensor(\"bytenet_encoder_layer_3_8_1/Squeeze_1:0\", shape=(?, ?, 128), dtype=float32)\n",
      "Tensor(\"bytenet_encoder_layer_4_16_1/Squeeze_1:0\", shape=(?, ?, 128), dtype=float32)\n",
      "Tensor(\"bytenet_encoder_layer_5_1_1/Squeeze_1:0\", shape=(?, ?, 128), dtype=float32)\n",
      "Tensor(\"bytenet_encoder_layer_6_2_1/Squeeze_1:0\", shape=(?, ?, 128), dtype=float32)\n",
      "Tensor(\"bytenet_encoder_layer_7_4_1/Squeeze_1:0\", shape=(?, ?, 128), dtype=float32)\n",
      "Tensor(\"bytenet_encoder_layer_8_8_1/Squeeze_1:0\", shape=(?, ?, 128), dtype=float32)\n",
      "Tensor(\"bytenet_encoder_layer_9_16_1/Squeeze_1:0\", shape=(?, ?, 128), dtype=float32)\n"
     ]
    }
   ],
   "source": [
    "tf.reset_default_graph()\n",
    "sess = tf.InteractiveSession()\n",
    "model = ByteNet(len(dictionary_from), len(dictionary_to), \n",
    "                residual_channels, encoder_dilations, decoder_dilations,\n",
    "                encoder_filter_width,decoder_filter_width)\n",
    "sess.run(tf.global_variables_initializer())"
   ]
  },
  {
   "cell_type": "code",
   "execution_count": 19,
   "metadata": {},
   "outputs": [],
   "source": [
    "def pad_sentence_batch(sentence_batch, pad_int, maxlen):\n",
    "    padded_seqs = []\n",
    "    seq_lens = []\n",
    "    max_sentence_len = maxlen\n",
    "    for sentence in sentence_batch:\n",
    "        padded_seqs.append(sentence + [pad_int] * (max_sentence_len - len(sentence)))\n",
    "        seq_lens.append(maxlen)\n",
    "    return padded_seqs, seq_lens"
   ]
  },
  {
   "cell_type": "code",
   "execution_count": 20,
   "metadata": {},
   "outputs": [
    {
     "name": "stderr",
     "output_type": "stream",
     "text": [
      "train minibatch loop: 100%|██████████| 220/220 [02:30<00:00,  1.46it/s, accuracy=0.129, cost=6.42] \n",
      "test minibatch loop: 100%|██████████| 55/55 [00:12<00:00,  4.12it/s, accuracy=0.141, cost=6.16] \n",
      "train minibatch loop:   0%|          | 0/220 [00:00<?, ?it/s]"
     ]
    },
    {
     "name": "stdout",
     "output_type": "stream",
     "text": [
      "epoch: 0, avg loss: 7.155428, avg accuracy: 0.110254\n",
      "epoch: 0, avg loss test: 6.388463, avg accuracy test: 0.132067\n"
     ]
    },
    {
     "name": "stderr",
     "output_type": "stream",
     "text": [
      "train minibatch loop: 100%|██████████| 220/220 [02:29<00:00,  1.59it/s, accuracy=0.149, cost=5.71]\n",
      "test minibatch loop: 100%|██████████| 55/55 [00:12<00:00,  4.53it/s, accuracy=0.214, cost=5.66]\n",
      "train minibatch loop:   0%|          | 0/220 [00:00<?, ?it/s]"
     ]
    },
    {
     "name": "stdout",
     "output_type": "stream",
     "text": [
      "epoch: 1, avg loss: 5.871180, avg accuracy: 0.164803\n",
      "epoch: 1, avg loss test: 5.888443, avg accuracy test: 0.191046\n"
     ]
    },
    {
     "name": "stderr",
     "output_type": "stream",
     "text": [
      "train minibatch loop: 100%|██████████| 220/220 [02:29<00:00,  1.59it/s, accuracy=0.285, cost=4.75]\n",
      "test minibatch loop: 100%|██████████| 55/55 [00:12<00:00,  4.48it/s, accuracy=0.273, cost=5.25]\n",
      "train minibatch loop:   0%|          | 0/220 [00:00<?, ?it/s]"
     ]
    },
    {
     "name": "stdout",
     "output_type": "stream",
     "text": [
      "epoch: 2, avg loss: 5.048586, avg accuracy: 0.238109\n",
      "epoch: 2, avg loss test: 5.330664, avg accuracy test: 0.265706\n"
     ]
    },
    {
     "name": "stderr",
     "output_type": "stream",
     "text": [
      "train minibatch loop: 100%|██████████| 220/220 [02:29<00:00,  1.58it/s, accuracy=0.412, cost=3.68]\n",
      "test minibatch loop: 100%|██████████| 55/55 [00:12<00:00,  4.53it/s, accuracy=0.39, cost=4.2]  \n",
      "train minibatch loop:   0%|          | 0/220 [00:00<?, ?it/s]"
     ]
    },
    {
     "name": "stdout",
     "output_type": "stream",
     "text": [
      "epoch: 3, avg loss: 4.209295, avg accuracy: 0.316085\n",
      "epoch: 3, avg loss test: 4.828895, avg accuracy test: 0.344573\n"
     ]
    },
    {
     "name": "stderr",
     "output_type": "stream",
     "text": [
      "train minibatch loop: 100%|██████████| 220/220 [02:29<00:00,  1.57it/s, accuracy=0.462, cost=3.21]\n",
      "test minibatch loop: 100%|██████████| 55/55 [00:12<00:00,  4.50it/s, accuracy=0.371, cost=4.65]\n",
      "train minibatch loop:   0%|          | 0/220 [00:00<?, ?it/s]"
     ]
    },
    {
     "name": "stdout",
     "output_type": "stream",
     "text": [
      "epoch: 4, avg loss: 3.345402, avg accuracy: 0.396492\n",
      "epoch: 4, avg loss test: 4.456022, avg accuracy test: 0.401751\n"
     ]
    },
    {
     "name": "stderr",
     "output_type": "stream",
     "text": [
      "train minibatch loop: 100%|██████████| 220/220 [02:29<00:00,  1.57it/s, accuracy=0.521, cost=2.36]\n",
      "test minibatch loop: 100%|██████████| 55/55 [00:12<00:00,  4.51it/s, accuracy=0.461, cost=4.41]\n",
      "train minibatch loop:   0%|          | 0/220 [00:00<?, ?it/s]"
     ]
    },
    {
     "name": "stdout",
     "output_type": "stream",
     "text": [
      "epoch: 5, avg loss: 2.486321, avg accuracy: 0.484512\n",
      "epoch: 5, avg loss test: 4.276334, avg accuracy test: 0.450421\n"
     ]
    },
    {
     "name": "stderr",
     "output_type": "stream",
     "text": [
      "train minibatch loop: 100%|██████████| 220/220 [02:29<00:00,  1.58it/s, accuracy=0.599, cost=1.71]\n",
      "test minibatch loop: 100%|██████████| 55/55 [00:12<00:00,  4.53it/s, accuracy=0.418, cost=5.14]\n",
      "train minibatch loop:   0%|          | 0/220 [00:00<?, ?it/s]"
     ]
    },
    {
     "name": "stdout",
     "output_type": "stream",
     "text": [
      "epoch: 6, avg loss: 1.743066, avg accuracy: 0.587098\n",
      "epoch: 6, avg loss test: 4.538225, avg accuracy test: 0.464237\n"
     ]
    },
    {
     "name": "stderr",
     "output_type": "stream",
     "text": [
      "train minibatch loop: 100%|██████████| 220/220 [02:29<00:00,  1.57it/s, accuracy=0.708, cost=1.28] \n",
      "test minibatch loop: 100%|██████████| 55/55 [00:12<00:00,  4.51it/s, accuracy=0.5, cost=4.39]  \n",
      "train minibatch loop:   0%|          | 0/220 [00:00<?, ?it/s]"
     ]
    },
    {
     "name": "stdout",
     "output_type": "stream",
     "text": [
      "epoch: 7, avg loss: 1.170223, avg accuracy: 0.702377\n",
      "epoch: 7, avg loss test: 4.968859, avg accuracy test: 0.476309\n"
     ]
    },
    {
     "name": "stderr",
     "output_type": "stream",
     "text": [
      "train minibatch loop: 100%|██████████| 220/220 [02:29<00:00,  1.57it/s, accuracy=0.721, cost=1.05] \n",
      "test minibatch loop: 100%|██████████| 55/55 [00:12<00:00,  4.52it/s, accuracy=0.478, cost=5.38]\n",
      "train minibatch loop:   0%|          | 0/220 [00:00<?, ?it/s]"
     ]
    },
    {
     "name": "stdout",
     "output_type": "stream",
     "text": [
      "epoch: 8, avg loss: 0.748118, avg accuracy: 0.798741\n",
      "epoch: 8, avg loss test: 5.315335, avg accuracy test: 0.478253\n"
     ]
    },
    {
     "name": "stderr",
     "output_type": "stream",
     "text": [
      "train minibatch loop: 100%|██████████| 220/220 [02:29<00:00,  1.58it/s, accuracy=0.799, cost=0.541]\n",
      "test minibatch loop: 100%|██████████| 55/55 [00:12<00:00,  4.52it/s, accuracy=0.479, cost=5.88]"
     ]
    },
    {
     "name": "stdout",
     "output_type": "stream",
     "text": [
      "epoch: 9, avg loss: 0.483472, avg accuracy: 0.866654\n",
      "epoch: 9, avg loss test: 5.517411, avg accuracy test: 0.489417\n"
     ]
    },
    {
     "name": "stderr",
     "output_type": "stream",
     "text": [
      "\n"
     ]
    }
   ],
   "source": [
    "from tqdm import tqdm\n",
    "from sklearn.utils import shuffle\n",
    "import time\n",
    "\n",
    "for EPOCH in range(10):\n",
    "    lasttime = time.time()\n",
    "    total_loss, total_accuracy, total_loss_test, total_accuracy_test = 0, 0, 0, 0\n",
    "    train_X, train_Y = shuffle(train_X, train_Y)\n",
    "    test_X, test_Y = shuffle(test_X, test_Y)\n",
    "    pbar = tqdm(range(0, len(train_X), batch_size), desc='train minibatch loop')\n",
    "    for k in pbar:\n",
    "        index = min(k + batch_size, len(train_X))\n",
    "        batch_x, seq_x = pad_sentence_batch(train_X[k: index], PAD, maxlen_question)\n",
    "        batch_y, seq_y = pad_sentence_batch(train_Y[k: index], PAD, maxlen_question)\n",
    "        acc, loss, _ = sess.run([model.accuracy, model.cost, model.optimizer], \n",
    "                                      feed_dict={model.X:batch_x,\n",
    "                                                model.Y:batch_y})\n",
    "        total_loss += loss\n",
    "        total_accuracy += acc\n",
    "        pbar.set_postfix(cost=loss, accuracy = acc)\n",
    "        \n",
    "    pbar = tqdm(range(0, len(test_X), batch_size), desc='test minibatch loop')\n",
    "    for k in pbar:\n",
    "        batch_x, _ = pad_sentence_batch(test_X[k: min(k+batch_size,len(test_X))], PAD, maxlen_question)\n",
    "        batch_y, _ = pad_sentence_batch(test_Y[k: min(k+batch_size,len(test_X))], PAD, maxlen_question)\n",
    "        acc, loss = sess.run([model.accuracy, model.cost], \n",
    "                                      feed_dict={model.X:batch_x,\n",
    "                                                model.Y:batch_y})\n",
    "        total_loss_test += loss\n",
    "        total_accuracy_test += acc\n",
    "        pbar.set_postfix(cost=loss, accuracy = acc)\n",
    "        \n",
    "    total_loss /= (len(train_X) / batch_size)\n",
    "    total_accuracy /= (len(train_X) / batch_size)\n",
    "    total_loss_test /= (len(test_X) / batch_size)\n",
    "    total_accuracy_test /= (len(test_X) / batch_size)\n",
    "        \n",
    "    print('epoch: %d, avg loss: %f, avg accuracy: %f'%(EPOCH, total_loss, total_accuracy))\n",
    "    print('epoch: %d, avg loss test: %f, avg accuracy test: %f'%(EPOCH, total_loss_test, total_accuracy_test))"
   ]
  },
  {
   "cell_type": "code",
   "execution_count": 27,
   "metadata": {},
   "outputs": [
    {
     "data": {
      "text/plain": [
       "array([  12,  601,  457,   95,  104,   82,   72,   22, 2363,    9,  561,\n",
       "          2, 4434, 2893, 2166,  777, 2043, 2626,    2, 2003,    2, 3332,\n",
       "          2,    2,    2,    2,    2,    2, 1639,    2, 1397,    2,  621,\n",
       "          2, 1060,    2,    2,    2,    2, 2626, 2626, 2626, 2626,    2,\n",
       "       2626,    2,  777,    2, 1060, 2626,    2, 1060,    2, 2264, 2626,\n",
       "          2, 2626, 3561, 3332, 2626, 2626,   14, 2043, 2626, 2043,    2,\n",
       "       2626,    2, 3332, 2626,    2,    2, 2626, 1060,    2,    2,    2,\n",
       "          2,    2, 2016, 1397, 2626,    2,  777,   15,    2,    2, 2043,\n",
       "          2, 2626,    2, 2626, 2626,    2, 2003, 3332,  978, 3332,    2,\n",
       "          2, 2264,    2, 3332,    2, 3332,  777, 2626, 2016, 2626,   14,\n",
       "          2, 2253, 2265,    2,    2,    2, 2626,    2, 2626, 2626,    2,\n",
       "       2043, 2626, 2659,  387, 2626,    2, 2626, 2626,    2, 1639, 1477,\n",
       "          2, 3332,  621, 2264, 3332,  978,    2, 1060, 2043,    2, 2626,\n",
       "       3332, 3332, 2626,  777, 2626, 2626,    2, 2264, 2626,    2,    2,\n",
       "          2,   14, 2043,    2, 3332,    2,    2, 2626, 2626,    2,    2,\n",
       "          2, 4550, 1270, 2626,    2, 3332, 2043, 1060, 2626, 3332, 2626,\n",
       "          2, 2043, 2626, 2043, 2626, 2043,  777, 3332,    2, 2626,    2,\n",
       "       2626, 2626, 3332,  777,  387,    2, 3332,    2, 2264,    2, 3332,\n",
       "          2,    2,    2,    2,    2,    2,    2,    2,    2,    2,    2,\n",
       "          2,    2,    2,    2,    2,    2,    2,    2,    2,    2,    2,\n",
       "          2,    2,    2,    2,    2,    2,    2,    2,    2,    2,    2,\n",
       "          2,    2,    2,    2,    2,    2,    2,    2,    2,    2,    2,\n",
       "          2,    2,    2,    2,    2,    2,    2,    2,    2,    2,    2,\n",
       "          2,    2,    2,    2,    2,    2,    2,    2,    2,    2,    2,\n",
       "          2,    2,    2,    2,    2,    2,    2,    2,    2,    2,    2,\n",
       "          2,    2,    2,    2,    2,    2,    2,    2,    2,    2,    2,\n",
       "          2,    2,    2,    2,    2,    2,    2,    2,    2,    2,    2,\n",
       "          2,    2,    2,    2,    2,    2,    2,    2,    2,    2,    2,\n",
       "          2,    2,    2,    2,    2,    2,    2,    2,    2,    2,    2,\n",
       "          2,    2,    2,    2,    2,    2,    2,    2,    2,    2,    2,\n",
       "          2,    2,    2,    2,    2,    2,    2,    2,    2,    2,    2,\n",
       "          2,    2,    2,    2,    2,    2,    2,    2,    2,    2,    2,\n",
       "          2,    2,    2,    2,    2,    2,    2,    2,    2,    2,    2,\n",
       "          2,    2,    2,    2,    2,    2,    2,    2,    2,    2,    2,\n",
       "          2,    2,    2,    2,    2,    2,    2,    2,    2,    2,    2,\n",
       "          2,    2,    2,    2,    2,    2,    2,    2,    2,    2,    2,\n",
       "          2,    2,    2,    2,    2,    2,    2,    2,    2,    2,    2,\n",
       "          2,    2,    2,    2,    2,    2,    2,    2,    2,    2,    2,\n",
       "          2,    2,    2,    2,    2,    2,    2,    2,    2,    2,    2,\n",
       "          2,    2,    2,    2,    2,    2,    2,    2,    2,    2,    2,\n",
       "          2,    2,    2,    2,    2,    2,    2,    2,    2,    2,    2,\n",
       "          2,    2,    2,    2,    2,    2,    2,    2,    2,    2,    2,\n",
       "          2,    2,    2,    2,    2,    2,    2,    2,    2,    2,    2,\n",
       "          2,    2,    2,    2,    2,    2,    2,    2,    2,    2,  777,\n",
       "       1639,    2,    2,    2,    2,   14,   14,   14, 1639, 1639, 1639,\n",
       "       1639, 2481,    2, 2016,    2])"
      ]
     },
     "execution_count": 27,
     "metadata": {},
     "output_type": "execute_result"
    }
   ],
   "source": [
    "sess.run(tf.argmax(model.logits,2), feed_dict = {model.X: batch_x, model.Y: batch_y})[0]"
   ]
  },
  {
   "cell_type": "code",
   "execution_count": null,
   "metadata": {},
   "outputs": [],
   "source": []
  }
 ],
 "metadata": {
  "kernelspec": {
   "display_name": "Python 3",
   "language": "python",
   "name": "python3"
  },
  "language_info": {
   "codemirror_mode": {
    "name": "ipython",
    "version": 3
   },
   "file_extension": ".py",
   "mimetype": "text/x-python",
   "name": "python",
   "nbconvert_exporter": "python",
   "pygments_lexer": "ipython3",
   "version": "3.6.8"
  }
 },
 "nbformat": 4,
 "nbformat_minor": 2
}
